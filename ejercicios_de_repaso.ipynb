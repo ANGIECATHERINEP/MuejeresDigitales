{
  "nbformat": 4,
  "nbformat_minor": 0,
  "metadata": {
    "colab": {
      "name": "ejercicios de repaso.ipynb",
      "provenance": [],
      "collapsed_sections": [],
      "authorship_tag": "ABX9TyN9zPfTs9QOwoAuu/l5xgrK",
      "include_colab_link": true
    },
    "kernelspec": {
      "name": "python3",
      "display_name": "Python 3"
    },
    "language_info": {
      "name": "python"
    }
  },
  "cells": [
    {
      "cell_type": "markdown",
      "metadata": {
        "id": "view-in-github",
        "colab_type": "text"
      },
      "source": [
        "<a href=\"https://colab.research.google.com/github/ANGIECATHERINEP/MujerDigital/blob/main/ejercicios_de_repaso.ipynb\" target=\"_parent\"><img src=\"https://colab.research.google.com/assets/colab-badge.svg\" alt=\"Open In Colab\"/></a>"
      ]
    },
    {
      "cell_type": "code",
      "metadata": {
        "id": "zEIGCYDMHAYR",
        "colab": {
          "base_uri": "https://localhost:8080/"
        },
        "outputId": "4b2ef7ce-7fed-42da-907a-95c4b6f8e25b"
      },
      "source": [
        "a=0\n",
        "b=1\n",
        "\n",
        "for i in range(10):\n",
        "    total = a + b\n",
        "    b=a\n",
        "    a= total\n",
        "    print(total) "
      ],
      "execution_count": null,
      "outputs": [
        {
          "output_type": "stream",
          "name": "stdout",
          "text": [
            "1\n",
            "1\n",
            "2\n",
            "3\n",
            "5\n",
            "8\n",
            "13\n",
            "21\n",
            "34\n",
            "55\n"
          ]
        }
      ]
    },
    {
      "cell_type": "code",
      "metadata": {
        "colab": {
          "base_uri": "https://localhost:8080/"
        },
        "id": "j2_Os5M7CcTX",
        "outputId": "02ef11e2-ab24-4fec-d21b-f3f83ab66567"
      },
      "source": [
        "import random #libreria para numeros enteros aleatorios\n",
        "\n",
        "a= random.randint(0,10)  #escoge los numero del 0 al 10\n",
        "for i in range(4):\n",
        "  num= int(input('Ingrese un numero'))\n",
        "  if num < a:\n",
        "    print('el numero es mayor')\n",
        "  elif num>a:\n",
        "    print('el numero es menor')\n",
        "  elif num==a:\n",
        "    print('adivinaste')\n",
        "    break"
      ],
      "execution_count": null,
      "outputs": [
        {
          "output_type": "stream",
          "name": "stdout",
          "text": [
            "Ingrese un numero5\n",
            "el numero es mayor\n",
            "Ingrese un numero8\n",
            "el numero es mayor\n",
            "Ingrese un numero9\n",
            "adivinaste\n"
          ]
        }
      ]
    },
    {
      "cell_type": "code",
      "metadata": {
        "colab": {
          "base_uri": "https://localhost:8080/"
        },
        "id": "1hqQ9XK5Ehkd",
        "outputId": "e45998d3-3558-4bb4-88c5-2b4bafe71d96"
      },
      "source": [
        "a=['a','b','c','d']\n",
        "print(a[0:3])\n",
        "print(a[1:3])\n",
        "print(a[1], a[3])\n",
        "print(a[-1::-1])"
      ],
      "execution_count": null,
      "outputs": [
        {
          "output_type": "stream",
          "name": "stdout",
          "text": [
            "['a', 'b', 'c']\n",
            "['b', 'c']\n",
            "b d\n",
            "['d', 'c', 'b', 'a']\n"
          ]
        }
      ]
    },
    {
      "cell_type": "code",
      "metadata": {
        "colab": {
          "base_uri": "https://localhost:8080/"
        },
        "id": "BnO6iRO8EuNa",
        "outputId": "b46bcd2d-ef57-42d7-cbf7-eeb966df6297"
      },
      "source": [
        "b='hola mundo'\n",
        "print(b[4:])"
      ],
      "execution_count": null,
      "outputs": [
        {
          "output_type": "stream",
          "name": "stdout",
          "text": [
            " mundo\n"
          ]
        }
      ]
    },
    {
      "cell_type": "code",
      "metadata": {
        "colab": {
          "base_uri": "https://localhost:8080/"
        },
        "id": "ctBoTfw2FWOd",
        "outputId": "7c9ae828-a671-44aa-96e4-850ab2f6f241"
      },
      "source": [
        "b='hola soy sebastian'\n",
        "print(b[-1::-1])"
      ],
      "execution_count": null,
      "outputs": [
        {
          "output_type": "stream",
          "name": "stdout",
          "text": [
            "naitsabes yos aloh\n"
          ]
        }
      ]
    },
    {
      "cell_type": "code",
      "metadata": {
        "colab": {
          "base_uri": "https://localhost:8080/"
        },
        "id": "pOfl11buFnFC",
        "outputId": "0ca98adb-359d-46f6-c062-4b64e3906232"
      },
      "source": [
        "c='hola soy sebastian'\n",
        "for i in range(len(c)):\n",
        "  print(c[-i-1])\n"
      ],
      "execution_count": null,
      "outputs": [
        {
          "output_type": "stream",
          "name": "stdout",
          "text": [
            "n\n",
            "a\n",
            "i\n",
            "t\n",
            "s\n",
            "a\n",
            "b\n",
            "e\n",
            "s\n",
            " \n",
            "y\n",
            "o\n",
            "s\n",
            " \n",
            "a\n",
            "l\n",
            "o\n",
            "h\n"
          ]
        }
      ]
    },
    {
      "cell_type": "code",
      "metadata": {
        "colab": {
          "base_uri": "https://localhost:8080/"
        },
        "id": "gBHJNFYqKpfI",
        "outputId": "04784724-cc3e-496b-8b96-a0acb3b1e210"
      },
      "source": [
        "c='hola soy sebastian'   #para lista de cada palabra\n",
        "d=[]\n",
        "for i in range(len(c)):\n",
        "  d.append(c[-i-1])\n",
        "print(d)"
      ],
      "execution_count": null,
      "outputs": [
        {
          "output_type": "stream",
          "name": "stdout",
          "text": [
            "['n', 'a', 'i', 't', 's', 'a', 'b', 'e', 's', ' ', 'y', 'o', 's', ' ', 'a', 'l', 'o', 'h']\n"
          ]
        }
      ]
    },
    {
      "cell_type": "code",
      "metadata": {
        "colab": {
          "base_uri": "https://localhost:8080/"
        },
        "id": "0Btc3OSrLhGs",
        "outputId": "8418f6f6-40ca-410d-bbd5-673952aeca11"
      },
      "source": [
        "c='hola soy sebastian'\n",
        "e=''\n",
        "for i in range(len(c)):\n",
        "  e+=(c[-i-1])  #se coloca el + al lado dee  para que salga en el mismo renglon\n",
        "  #print(c[-i-1])\n",
        "print('\\n'+e)"
      ],
      "execution_count": null,
      "outputs": [
        {
          "output_type": "stream",
          "name": "stdout",
          "text": [
            "\n",
            "naitsabes yos aloh\n"
          ]
        }
      ]
    },
    {
      "cell_type": "code",
      "metadata": {
        "colab": {
          "base_uri": "https://localhost:8080/"
        },
        "id": "J9uvkn3gHv4m",
        "outputId": "9482d5ea-e388-42de-cd4b-6d5813f898a2"
      },
      "source": [
        "a=['a','b','c','d']\n",
        "c=len(a)\n",
        "\n",
        "for i in range(c):\n",
        "    print(a[c-i-1])"
      ],
      "execution_count": null,
      "outputs": [
        {
          "output_type": "stream",
          "name": "stdout",
          "text": [
            "d\n",
            "c\n",
            "b\n",
            "a\n"
          ]
        }
      ]
    },
    {
      "cell_type": "code",
      "metadata": {
        "colab": {
          "base_uri": "https://localhost:8080/"
        },
        "id": "2Ttz3r1mKDQ0",
        "outputId": "5dc7e3f4-0295-4162-af9f-d7c472dbb43e"
      },
      "source": [
        "a=['a','b','c','d']\n",
        "c=[]\n",
        "long=len(a)-1\n",
        "for i in range(len(a)):\n",
        "  c.append(a[long])\n",
        "  long-=1\n",
        "print(c)\n"
      ],
      "execution_count": null,
      "outputs": [
        {
          "output_type": "stream",
          "name": "stdout",
          "text": [
            "['d', 'c', 'b', 'a']\n"
          ]
        }
      ]
    },
    {
      "cell_type": "code",
      "metadata": {
        "colab": {
          "base_uri": "https://localhost:8080/"
        },
        "id": "kXzOjQF6M6j8",
        "outputId": "db7ae80c-5dff-4044-b629-346470c001e7"
      },
      "source": [
        "def cuadrado(x):\n",
        "  resultado =x **2\n",
        "  return resultado\n",
        "cuadrado(5)"
      ],
      "execution_count": null,
      "outputs": [
        {
          "output_type": "execute_result",
          "data": {
            "text/plain": [
              "25"
            ]
          },
          "metadata": {},
          "execution_count": 42
        }
      ]
    },
    {
      "cell_type": "code",
      "metadata": {
        "colab": {
          "base_uri": "https://localhost:8080/"
        },
        "id": "z_SbcjbsadSe",
        "outputId": "631a749a-6961-435c-e579-62775d766c30"
      },
      "source": [
        "def factorial(num): \n",
        "  a=1\n",
        "  i=2\n",
        "  while i <= num:\n",
        "    a *=i \n",
        "    i +=1\n",
        "  return a\n",
        "factorial(3)"
      ],
      "execution_count": null,
      "outputs": [
        {
          "output_type": "execute_result",
          "data": {
            "text/plain": [
              "6"
            ]
          },
          "metadata": {},
          "execution_count": 46
        }
      ]
    },
    {
      "cell_type": "code",
      "metadata": {
        "colab": {
          "base_uri": "https://localhost:8080/"
        },
        "id": "DrmoKxOLbKKN",
        "outputId": "82b93e5e-820a-4565-c201-b94109ed1676"
      },
      "source": [
        "def factorial(num): \n",
        "  a=1\n",
        "  i=2\n",
        "  while i <= num:\n",
        "    a =a*i \n",
        "    i +=1\n",
        "  return a\n",
        "factorial(4)"
      ],
      "execution_count": null,
      "outputs": [
        {
          "output_type": "execute_result",
          "data": {
            "text/plain": [
              "24"
            ]
          },
          "metadata": {},
          "execution_count": 51
        }
      ]
    },
    {
      "cell_type": "code",
      "metadata": {
        "colab": {
          "base_uri": "https://localhost:8080/"
        },
        "id": "NY0YWxDGbxGb",
        "outputId": "05350c8b-229c-4091-f212-d9b6ddedf876"
      },
      "source": [
        "def factorial(num): \n",
        "  fa=1\n",
        "  for i in range(1, num + 1):\n",
        "    fa =fa*i \n",
        "  return fa\n",
        "\n",
        "print(factorial(4))"
      ],
      "execution_count": null,
      "outputs": [
        {
          "output_type": "stream",
          "name": "stdout",
          "text": [
            "24\n"
          ]
        }
      ]
    },
    {
      "cell_type": "code",
      "metadata": {
        "colab": {
          "base_uri": "https://localhost:8080/"
        },
        "id": "F5njdvRC0O86",
        "outputId": "108b1d0f-5942-4d40-80da-ea788b0f7ef5"
      },
      "source": [
        "a= bool(14) or bool(-20)\n",
        "a"
      ],
      "execution_count": null,
      "outputs": [
        {
          "output_type": "execute_result",
          "data": {
            "text/plain": [
              "True"
            ]
          },
          "metadata": {},
          "execution_count": 65
        }
      ]
    },
    {
      "cell_type": "code",
      "metadata": {
        "colab": {
          "base_uri": "https://localhost:8080/"
        },
        "id": "tJpfeGDS3AlJ",
        "outputId": "b8c5fbe8-f69b-4197-e0ea-7737832ed7fd"
      },
      "source": [
        "x=float(str(int('5' * 4) / 3)[2])\n",
        "x\n",
        "print(type(x))"
      ],
      "execution_count": null,
      "outputs": [
        {
          "output_type": "stream",
          "name": "stdout",
          "text": [
            "<class 'float'>\n"
          ]
        }
      ]
    },
    {
      "cell_type": "code",
      "metadata": {
        "colab": {
          "base_uri": "https://localhost:8080/"
        },
        "id": "9V715O2x3kEJ",
        "outputId": "4d29c2c1-1d89-4c69-e73f-f49bddc4fb07"
      },
      "source": [
        "y=float(-int('5') + int('10'))\n",
        "y"
      ],
      "execution_count": null,
      "outputs": [
        {
          "output_type": "execute_result",
          "data": {
            "text/plain": [
              "5.0"
            ]
          },
          "metadata": {},
          "execution_count": 69
        }
      ]
    },
    {
      "cell_type": "markdown",
      "metadata": {
        "id": "2Nyp7E9k6IJI"
      },
      "source": [
        "# **EJERCICIOS PARA REPASO**\n",
        "\n",
        "---\n",
        "\n"
      ]
    },
    {
      "cell_type": "code",
      "metadata": {
        "colab": {
          "base_uri": "https://localhost:8080/"
        },
        "id": "sXYPqnsv5oih",
        "outputId": "fa79f659-6c7a-4612-8349-6b7c500086bb"
      },
      "source": [
        "#Ingrese su nombre: Perico Hola, Perico\n",
        "w=input('ingrese su nombre  ')\n",
        "print('Hola  '+w)"
      ],
      "execution_count": null,
      "outputs": [
        {
          "output_type": "stream",
          "name": "stdout",
          "text": [
            "ingrese su nombre  MARIA\n",
            "Hola  MARIA\n"
          ]
        }
      ]
    },
    {
      "cell_type": "code",
      "metadata": {
        "colab": {
          "base_uri": "https://localhost:8080/"
        },
        "id": "exoaCT3g6OD5",
        "outputId": "bf9eb3df-0c38-4858-81f6-5f76e414f760"
      },
      "source": [
        "\"\"\"Escriba un programa que reciba como entrada el radio de un círculo y entregue como salida su perímetro y su área:\n",
        "Ingrese el radio: 5\n",
        "Perimetro: 31.4\n",
        "Área: 78.5\"\"\"\n",
        "\n",
        "def circulo():\n",
        "  r=float(input('Ingresa el radio del circulo '))\n",
        "  i=3.14\n",
        "  p= 2 *i*r\n",
        "  a= i*(r**2)\n",
        "  print('el perimetro del circulo es;  ',p)\n",
        "  print('el area del circulo es;  ',a)\n",
        "circulo()"
      ],
      "execution_count": null,
      "outputs": [
        {
          "output_type": "stream",
          "name": "stdout",
          "text": [
            "Ingresa el radio del circulo 5\n",
            "el perimetro del circulo es;   31.400000000000002\n",
            "el area del circulo es;   78.5\n"
          ]
        }
      ]
    },
    {
      "cell_type": "code",
      "metadata": {
        "colab": {
          "base_uri": "https://localhost:8080/"
        },
        "id": "DdXrExgW_B9G",
        "outputId": "ab5d58e4-500c-4296-9d49-dce7dcff0b43"
      },
      "source": [
        "\"\"\"Escriba un programa que calcule el promedio de 4 notas ingresadas por el usuario:\n",
        "Primera nota: 55\n",
        "Segunda nota: 71\n",
        "Tercera nota: 46\n",
        "Cuarta nota: 87\n",
        "El promedio es: 64.75\"\"\"\n",
        "\n",
        "def notas():\n",
        "  y=[]\n",
        "  for i in range(4):\n",
        "    #t=str(i+1)\n",
        "    nt=float(input('ingrese la  nota: '))\n",
        "    y.append((nt))\n",
        "  return y\n",
        "\n",
        "\"\"\"def vernota(y):\n",
        "  for x in range(len(y)):\n",
        "    print(len(y))\"\"\"\n",
        "\n",
        "def promedio(y):\n",
        "  suma=0\n",
        "  for x in range(len(y)):\n",
        "     suma=suma+y[x]\n",
        "  prom=suma/len(y)\n",
        "  print(\"el promedio general del nivel de cumplimiento del area de ventas es:  \",prom)\n",
        "\n",
        "y=notas()\n",
        "#vernota(y)\n",
        "promedio(y)\n"
      ],
      "execution_count": 158,
      "outputs": [
        {
          "output_type": "stream",
          "name": "stdout",
          "text": [
            "ingrese la  nota: 5\n",
            "ingrese la  nota: 6\n",
            "ingrese la  nota: 3\n",
            "ingrese la  nota: 2\n",
            "el promedio general del nivel de cumplimiento del area de ventas es:   4.0\n"
          ]
        }
      ]
    },
    {
      "cell_type": "code",
      "metadata": {
        "colab": {
          "base_uri": "https://localhost:8080/"
        },
        "id": "4PJG2wuEOcBM",
        "outputId": "a432a5ae-8f5c-4966-a82d-933996fb3c01"
      },
      "source": [
        "\"\"\"Escriba un programa que convierta de centímetros a pulgadas. Una pulgada es igual a 2.54 centímetros.\n",
        "Ingrese longitud: 45\n",
        "45 cm = 17.7165 in\n",
        "Ingrese longitud: 13\n",
        "13 cm = 5.1181 in\"\"\"\n",
        "\n",
        "q=int(input('ingresa los cm  '))\n",
        "c=2.54\n",
        "conversion= q/c\n",
        "print(conversion,'cm')"
      ],
      "execution_count": 162,
      "outputs": [
        {
          "output_type": "stream",
          "name": "stdout",
          "text": [
            "ingresa los cm  13\n",
            "5.118110236220472 cm\n"
          ]
        }
      ]
    },
    {
      "cell_type": "code",
      "metadata": {
        "colab": {
          "base_uri": "https://localhost:8080/"
        },
        "id": "3rnN00ogQPG4",
        "outputId": "bb1b891c-5809-4646-918f-c9467501fe94"
      },
      "source": [
        "\"\"\"Escriba un programa que pida al usuario un entero de tres dígitos, y entregue el número con los dígitos en orden inverso:\"\"\"\n",
        "num=input('ingrese un numero entero de tres digitos  ')\n",
        "inv=''\n",
        "for i in range(len(num)):\n",
        "    inv+=num[-i-1]\n",
        "    \n",
        "print(inv)"
      ],
      "execution_count": 177,
      "outputs": [
        {
          "output_type": "stream",
          "name": "stdout",
          "text": [
            "ingrese un numero entero de tres digitos  0123456789\n",
            "9876543210\n"
          ]
        }
      ]
    },
    {
      "cell_type": "code",
      "metadata": {
        "colab": {
          "base_uri": "https://localhost:8080/"
        },
        "id": "I_42UkKFVGWL",
        "outputId": "4b9e2231-5d48-456b-83d4-fc43aeee5025"
      },
      "source": [
        "\"\"\"Escriba un programa que reciba como entrada las longitudes de los dos catetos a y b de un triángulo rectángulo, y que entregue como salida el largo de la hipotenusa c del triangulo\"\"\"\n",
        "import math\n",
        "a=int(input('Ingresa el 1° cateto '))\n",
        "b=int(input('Ingresa el 2° cateto '))\n",
        "c= math.sqrt((a**2)+(b**2))\n",
        "print('la hipotenusa es : ',c)"
      ],
      "execution_count": 180,
      "outputs": [
        {
          "output_type": "stream",
          "name": "stdout",
          "text": [
            "Ingresa el 1° cateto 7\n",
            "Ingresa el 2° cateto 5\n",
            "la hipotenusa es :  8.602325267042627\n"
          ]
        }
      ]
    },
    {
      "cell_type": "code",
      "metadata": {
        "id": "fpcAeMnQV_zd"
      },
      "source": [
        ""
      ],
      "execution_count": null,
      "outputs": []
    }
  ]
}