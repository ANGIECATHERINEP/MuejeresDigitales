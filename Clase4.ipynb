{
  "nbformat": 4,
  "nbformat_minor": 0,
  "metadata": {
    "colab": {
      "name": "Clase4.ipynb",
      "provenance": [],
      "authorship_tag": "ABX9TyPM7qUMn2vzr5uiGqEY9Aoh",
      "include_colab_link": true
    },
    "kernelspec": {
      "name": "python3",
      "display_name": "Python 3"
    },
    "language_info": {
      "name": "python"
    }
  },
  "cells": [
    {
      "cell_type": "markdown",
      "metadata": {
        "id": "view-in-github",
        "colab_type": "text"
      },
      "source": [
        "<a href=\"https://colab.research.google.com/github/ANGIECATHERINEP/MujerDigital/blob/main/Clase4.ipynb\" target=\"_parent\"><img src=\"https://colab.research.google.com/assets/colab-badge.svg\" alt=\"Open In Colab\"/></a>"
      ]
    },
    {
      "cell_type": "markdown",
      "metadata": {
        "id": "cJtm54tbivBP"
      },
      "source": [
        "***Continuación de estructuras de control iterativas***\n",
        "\n",
        "---\n",
        "\n",
        "\n",
        "\n",
        "---\n",
        "**ACUMULADORES**\n",
        "\n",
        "---\n",
        "Se  le da este nombre a las variables que se encargan de \"almacenar\" algun tipo de información. \n",
        "\n",
        "Ejemplo:\n",
        "El caso de la compra de viveres en la tienda:\n",
        "\n"
      ]
    },
    {
      "cell_type": "code",
      "metadata": {
        "colab": {
          "base_uri": "https://localhost:8080/"
        },
        "id": "YQKqLlDci7kh",
        "outputId": "8916bc22-3e61-4274-fbe7-f9834f16aae6"
      },
      "source": [
        "nombre = input(\"Nombre del consumidor  \")\n",
        "listacomp = \"\"\n",
        "print(nombre, \"escribe los siguientes viveres para su compra en el supermercado: \")\n",
        "listacomp = listacomp + \"1 paca papel higienico, \"\n",
        "print(\"----- compras que tengo que hacer------\")\n",
        "listacomp = listacomp + \" 2 Shampoo pantene 2 en 1, \"\n",
        "listacomp = listacomp + \" 2 pacas pañales pequeñin etapa 5 \"\n",
        "print(listacomp)"
      ],
      "execution_count": 7,
      "outputs": [
        {
          "output_type": "stream",
          "text": [
            "Nombre del consumidor  angie\n",
            "angie escribe los siguientes viveres para su compra en el supermercado: \n",
            "----- compras que tengo que hacer------\n",
            "1 paca papel higienico,  2 Shampoo pantene 2 en 1,  2 pacas pañales pequeñin etapa 5 \n"
          ],
          "name": "stdout"
        }
      ]
    },
    {
      "cell_type": "markdown",
      "metadata": {
        "id": "szzfyOyllUQH"
      },
      "source": [
        "La variable \"listacomp\" nos esta sirviendo para acumular información de la lista de compras, podemos observar que no estamos creando una variable por cada item, sono una variables definida nos sirve para almacenar la información.\n",
        "\n",
        "Acontinuación observemos un ejemplo donde se ponga en practica el uso de acumulación en una variables usando cantidades y precios."
      ]
    },
    {
      "cell_type": "code",
      "metadata": {
        "colab": {
          "base_uri": "https://localhost:8080/"
        },
        "id": "U3_ahQKcl-LT",
        "outputId": "6d6e2a6e-d392-4a41-e9e3-9dfbb188296a"
      },
      "source": [
        "ppph = 140000  #precio de paquetes papel higienico\n",
        "cpph = 2 #Cantidad de paquetes papel higienico\n",
        "pshampoo = 18000   #Precio shampoo Pantene 2 en 1\n",
        "cshampoo= 4  #Unidades de shampoo\n",
        "ppbebe = 17000  #Precio de pacas de pañales pequeñin\n",
        "cpbebe = 3 #Cantidad de pacas de pañales pequeñin\n",
        "\n",
        "subtotal = 0\n",
        "print(\"calculando el total de la compra\")\n",
        "total_pph = ppph*cpph\n",
        "print(\"El valor total de papel higienico es:  $\",total_pph)\n",
        "subtotal = subtotal+total_pph\n",
        "print(\"---El subtotal es:  $\",subtotal)\n",
        "total_shampoo = pshampoo * cshampoo\n",
        "print(\"El valor total de Shampoo es:  $\",total_shampoo)\n",
        "subtotal = subtotal+total_shampoo\n",
        "print(\"---El subtotal es:  $\",subtotal)\n",
        "total_pbebe= ppbebe*cpbebe\n",
        "print(\"El valor total de pañales es:  $\",total_pbebe)\n",
        "subtotal = subtotal+total_pbebe\n",
        "print(\"---El total de su compra es:  $\",subtotal)"
      ],
      "execution_count": 16,
      "outputs": [
        {
          "output_type": "stream",
          "text": [
            "calculando el total de la compra\n",
            "El valor total de papel higienico es:  $ 280000\n",
            "---El subtotal es:  $ 280000\n",
            "El valor total de Shampoo es:  $ 72000\n",
            "---El subtotal es:  $ 352000\n",
            "El valor total de pañales es:  $ 51000\n",
            "---El total de su compra es:  $ 403000\n"
          ],
          "name": "stdout"
        }
      ]
    },
    {
      "cell_type": "markdown",
      "metadata": {
        "id": "sfbk-cElo1uf"
      },
      "source": [
        "**Contadores**\n",
        "\n",
        "---\n",
        "\n",
        "Tiene mucha relación con los acumuladores visto en el apartado anterior estas variables se caracterizan por ser variables de control, es decir controlan la cantidad de veces que se ejecuta determinada acción.\n",
        "\n",
        "Usando el ejemplo anterior y modificandolo en poco, podemos desarrollar el siguiente algoritmo"
      ]
    },
    {
      "cell_type": "code",
      "metadata": {
        "colab": {
          "base_uri": "https://localhost:8080/"
        },
        "id": "-ocbMS55p8t8",
        "outputId": "d80125bf-c11f-47d5-eb09-0d4051c40763"
      },
      "source": [
        "#se comprará pañales por unidad\n",
        "\n",
        "contp = 0\n",
        "print(\"se realizara la compra de pañales etapa 3... se ha iniciado la compra en el carrito. En total hay  \",contp, \"pañales\")\n",
        "contp =contp+1\n",
        "print(\"ahora hay  \",contp,\" pañal\")\n",
        "contp =contp+1\n",
        "print(\"ahora hay  \",contp,\" pañal\")\n",
        "contp =contp+1\n",
        "print(\"ahora hay  \",contp,\" pañal\")\n",
        "contp =contp+1\n",
        "print(\"ahora hay  \",contp,\" pañal\")\n",
        "contp =contp+1\n",
        "print(\"ahora hay  \",contp,\" pañal\")"
      ],
      "execution_count": 17,
      "outputs": [
        {
          "output_type": "stream",
          "text": [
            "se realizara la compra de pañales etapa 3... se ha iniciado la compra en el carrito. En total hay   0 pañales\n",
            "ahora hay   1  pañal\n",
            "ahora hay   2  pañal\n",
            "ahora hay   3  pañal\n",
            "ahora hay   4  pañal\n",
            "ahora hay   5  pañal\n"
          ],
          "name": "stdout"
        }
      ]
    },
    {
      "cell_type": "markdown",
      "metadata": {
        "id": "g7YW923Wq6pq"
      },
      "source": [
        "**CICLOS CONTROLADOS POR CONDICIONES**\n",
        "*WHILE*\n",
        "\n",
        "---\n",
        "Recordemos que las variables de control, nos permite manejar estados, pasar de un estado a otro es por ejemplo: Una variable que no contiene elementos a contenerlo o una variables un elemento a particular (Acumulador o contador) y cambiarlo por completo (Bandera)\n",
        "\n",
        "Estas variables de control son la base de los ciclos de control, siendo más claros, pasar de una adición manual a algo más automatizado.\n",
        "\n",
        "Empezamos con el ciclo \"WHILW\" en español es \"Mientras\"; Este ciclo se compone de una **condición** y su **bloque de código**. Lo que nos quiere decir while es que el bloque de código se ejecutará mientras la condición da como resultado True or False\n"
      ]
    },
    {
      "cell_type": "code",
      "metadata": {
        "colab": {
          "base_uri": "https://localhost:8080/"
        },
        "id": "gGApJtt0sdLV",
        "outputId": "dd103f00-7bfa-4e24-e10e-dbeb3f485999"
      },
      "source": [
        "lapiz = 5\n",
        "contlapiz = 0 \n",
        "print(\"se ha iniciado la compra. En total hay: \",contlapiz,lapiz)\n",
        "\n",
        "while(contlapiz<lapiz):\n",
        "  contlapiz =contlapiz+1\n",
        "  print(\"Se ha realizado la compra de lapices, ahora hay  \"+str(contlapiz)+\" lapiz\")\n",
        "  "
      ],
      "execution_count": 27,
      "outputs": [
        {
          "output_type": "stream",
          "text": [
            "se ha iniciado la compra. En total hay:  0 5\n",
            "Se ha realizado la compra de lapices, ahora hay  1 lapiz\n",
            "Se ha realizado la compra de lapices, ahora hay  2 lapiz\n",
            "Se ha realizado la compra de lapices, ahora hay  3 lapiz\n",
            "Se ha realizado la compra de lapices, ahora hay  4 lapiz\n",
            "Se ha realizado la compra de lapices, ahora hay  5 lapiz\n"
          ],
          "name": "stdout"
        }
      ]
    },
    {
      "cell_type": "markdown",
      "metadata": {
        "id": "sUqTUrmHvKv8"
      },
      "source": [
        "Tener en cuenta que dentro de ciclo de WHILE  se va afectando las variables implicadas en la declaración de la condición debe cumplir el ciclo. En el ejemplo anterior la variable contlapiz para que en algún momento la condición sea verdadera y termine el ciclo tiene que cumplir la condición (contlapiz/lapiz). De lo contrario tendriamos un ciclo que nunca se detendría."
      ]
    },
    {
      "cell_type": "markdown",
      "metadata": {
        "id": "9W3mwbqLwDbG"
      },
      "source": [
        "**Ciclo FOR**\n",
        "\n",
        "---\n",
        "\n",
        "Es un ciclo especializado y optimizado para los ciclos controlados por cantidad de tres elementos:\n",
        "1. La variable de iteración\n",
        "2. Elemento de iteración\n",
        "3. Bloque de código a iterar\n",
        "\n",
        "**Ventah¿jas de usar FOR**\n",
        "En Python es muy importante y se considera una herramienta bastante flexible y poderosa por permitir ingresar estructuras de datos complejos, cadena de caracteres, rnagos, entre otros.\n",
        "\n",
        "Los elementos de iteración usados en esta estructura de datos son necesarios que tengan la siguiente caracteristica:\n",
        "1. Una cantidad definida (esto lo diferencia totalmente del WHILE)\n",
        "2. "
      ]
    }
  ]
}