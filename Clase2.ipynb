{
  "nbformat": 4,
  "nbformat_minor": 0,
  "metadata": {
    "colab": {
      "name": "Clase2.ipynb",
      "provenance": [],
      "authorship_tag": "ABX9TyOPGdi1vqhgHbhsrNdSt628",
      "include_colab_link": true
    },
    "kernelspec": {
      "name": "python3",
      "display_name": "Python 3"
    },
    "language_info": {
      "name": "python"
    }
  },
  "cells": [
    {
      "cell_type": "markdown",
      "metadata": {
        "id": "view-in-github",
        "colab_type": "text"
      },
      "source": [
        "<a href=\"https://colab.research.google.com/github/ANGIECATHERINEP/MujerDigital/blob/main/Clase2.ipynb\" target=\"_parent\"><img src=\"https://colab.research.google.com/assets/colab-badge.svg\" alt=\"Open In Colab\"/></a>"
      ]
    },
    {
      "cell_type": "markdown",
      "metadata": {
        "id": "pGpoEuHzvOfu"
      },
      "source": [
        "**Operadores aritméticos**\n",
        "\n",
        "---\n",
        "Los operadores permiten realizar diferentes procesos de calculo en cualquier lenguaje de programación.\n",
        "\n",
        "Los operadores más basicos son: \n",
        "1. suma\n",
        "2. Resta\n",
        "3. Multiplicación \n",
        "4. División\n",
        "\n",
        "\n",
        "\n"
      ]
    },
    {
      "cell_type": "markdown",
      "metadata": {
        "id": "viR4ceEHvs0I"
      },
      "source": [
        "**Suma y resta**\n",
        "\n",
        "---\n",
        "simbolo suma(+) el cual se utilizara en medio de la declaracion de las varianles a operar.\n",
        "\n",
        "Simbolo resta(-)\n"
      ]
    },
    {
      "cell_type": "code",
      "metadata": {
        "colab": {
          "base_uri": "https://localhost:8080/"
        },
        "id": "vnfSzjAGv_mD",
        "outputId": "c47f9c9b-b5d0-45a3-d122-e1dd1c1c79c8"
      },
      "source": [
        "print(10+300)\n",
        "print (20-50)"
      ],
      "execution_count": 3,
      "outputs": [
        {
          "output_type": "stream",
          "text": [
            "310\n",
            "-30\n"
          ],
          "name": "stdout"
        }
      ]
    },
    {
      "cell_type": "code",
      "metadata": {
        "colab": {
          "base_uri": "https://localhost:8080/"
        },
        "id": "W159GIYzwHw0",
        "outputId": "012c6cfb-ba77-4e2c-a6ea-87242f7cea06"
      },
      "source": [
        "a = 20\n",
        "b = 35\n",
        "print(a+b)\n",
        "print(a-b)"
      ],
      "execution_count": 4,
      "outputs": [
        {
          "output_type": "stream",
          "text": [
            "55\n",
            "-15\n"
          ],
          "name": "stdout"
        }
      ]
    },
    {
      "cell_type": "code",
      "metadata": {
        "colab": {
          "base_uri": "https://localhost:8080/"
        },
        "id": "As_LMr9rwqtT",
        "outputId": "397f336f-de25-4fc7-e299-b5a3cc60e048"
      },
      "source": [
        "numero_botella = 12\n",
        "print(numero_botella + 8)"
      ],
      "execution_count": 5,
      "outputs": [
        {
          "output_type": "stream",
          "text": [
            "20\n"
          ],
          "name": "stdout"
        }
      ]
    },
    {
      "cell_type": "code",
      "metadata": {
        "colab": {
          "base_uri": "https://localhost:8080/"
        },
        "id": "c0u7Ll8zw3Ea",
        "outputId": "eea81792-f58e-4b13-fe45-950e7c00f2ec"
      },
      "source": [
        "numero_botella = 12\n",
        "numero_botella = numero_botella + 8\n",
        "print(numero_botella)"
      ],
      "execution_count": 6,
      "outputs": [
        {
          "output_type": "stream",
          "text": [
            "20\n"
          ],
          "name": "stdout"
        }
      ]
    },
    {
      "cell_type": "markdown",
      "metadata": {
        "id": "CuW77jh_xTRj"
      },
      "source": [
        "**Sumas y restas entre dos diferentes tipos de variables**\n",
        "\n",
        "---\n",
        "los tipos de variables:\n",
        "1. Declaración de variables númericas enteros\n",
        "2. Flotantes(incorpora y flexibiliza lols decimales)\n",
        "3. Tipo cadena\n"
      ]
    },
    {
      "cell_type": "code",
      "metadata": {
        "colab": {
          "base_uri": "https://localhost:8080/"
        },
        "id": "tzRIVZAcxqQS",
        "outputId": "1bedb965-69aa-4a13-ced8-6f4e3577846c"
      },
      "source": [
        "q1 = 100\n",
        "q2 = 24.5\n",
        "print(type(q1+q2))"
      ],
      "execution_count": 7,
      "outputs": [
        {
          "output_type": "stream",
          "text": [
            "<class 'float'>\n"
          ],
          "name": "stdout"
        }
      ]
    },
    {
      "cell_type": "code",
      "metadata": {
        "colab": {
          "base_uri": "https://localhost:8080/"
        },
        "id": "XMnXBgbHyEfK",
        "outputId": "167657b3-13ea-4580-9a00-6abca82632db"
      },
      "source": [
        "v1 = \"quiero\"\n",
        "v2 = \"un celular\"\n",
        "v3 =v1 +\" \" + v2\n",
        "print(v1+v2)\n",
        "print(v1,v2)\n",
        "print(v3)"
      ],
      "execution_count": 12,
      "outputs": [
        {
          "output_type": "stream",
          "text": [
            "quieroun celular\n",
            "quiero un celular\n",
            "quiero un celular\n"
          ],
          "name": "stdout"
        }
      ]
    },
    {
      "cell_type": "code",
      "metadata": {
        "colab": {
          "base_uri": "https://localhost:8080/"
        },
        "id": "gyI-IZiAyt4B",
        "outputId": "6f7e7c00-cc08-4c31-d2e5-eef6ef08bb80"
      },
      "source": [
        "xq2 = 235\n",
        "xq3 = 400\n",
        "print(xq2-xq3)\n",
        "\n",
        "xq2 = 24.66\n",
        "xq3 = 4\n",
        "print(type(xq2-xq3))"
      ],
      "execution_count": 14,
      "outputs": [
        {
          "output_type": "stream",
          "text": [
            "-165\n",
            "<class 'float'>\n"
          ],
          "name": "stdout"
        }
      ]
    },
    {
      "cell_type": "markdown",
      "metadata": {
        "id": "G3nDlxTfzWgD"
      },
      "source": [
        "**IMPORTANTE**\n",
        "\n",
        "La resta no funciona directamente para variables tipo cadena."
      ]
    },
    {
      "cell_type": "markdown",
      "metadata": {
        "id": "una-E8ED0lw5"
      },
      "source": [
        "**Multiplicación**\n",
        "\n",
        "---\n",
        "Definamos la multiplicación como la suma de varias veces un numero, cantidad de veces indicadas por otro numero (4x2=4+4=8). El simbolo es *.\n"
      ]
    },
    {
      "cell_type": "code",
      "metadata": {
        "colab": {
          "base_uri": "https://localhost:8080/"
        },
        "id": "uhIuR1iE07kB",
        "outputId": "9d660f06-9cb8-46a2-837d-39997426a830"
      },
      "source": [
        "cali = 5\n",
        "palmira = 6\n",
        "print(cali*palmira)"
      ],
      "execution_count": 16,
      "outputs": [
        {
          "output_type": "stream",
          "text": [
            "30\n"
          ],
          "name": "stdout"
        }
      ]
    },
    {
      "cell_type": "markdown",
      "metadata": {
        "id": "h1IbvkC31Mdj"
      },
      "source": [
        "**IMPORTANTE**\n",
        "\n",
        "Se aplica la ley conmutativa.\n",
        "Recordemos que la ley conmutativa es que el orden de los factores no altera el resultado (aplica en suma y multiplicación)"
      ]
    },
    {
      "cell_type": "code",
      "metadata": {
        "colab": {
          "base_uri": "https://localhost:8080/"
        },
        "id": "SsIkS2mp1k0f",
        "outputId": "49bb1cd2-17f7-4125-9bcd-9a87b9354516"
      },
      "source": [
        "cali = 5\n",
        "palmira = 6\n",
        "print(palmira*cali)"
      ],
      "execution_count": 17,
      "outputs": [
        {
          "output_type": "stream",
          "text": [
            "30\n"
          ],
          "name": "stdout"
        }
      ]
    },
    {
      "cell_type": "markdown",
      "metadata": {
        "id": "Y3odOgzr1pUg"
      },
      "source": [
        "**División**\n",
        "\n",
        "---\n",
        "ACLARACIÓN: **NO** aplica la ley conmutativa. \n",
        "\n",
        "el simbolo es /.\n"
      ]
    },
    {
      "cell_type": "code",
      "metadata": {
        "colab": {
          "base_uri": "https://localhost:8080/"
        },
        "id": "D4eX5rly12LD",
        "outputId": "ff143fb5-0b72-4976-f48d-e626707b000e"
      },
      "source": [
        "a = 20\n",
        "b = 4\n",
        "print(a/b, b/a)"
      ],
      "execution_count": 19,
      "outputs": [
        {
          "output_type": "stream",
          "text": [
            "5.0 0.2\n"
          ],
          "name": "stdout"
        }
      ]
    },
    {
      "cell_type": "markdown",
      "metadata": {
        "id": "9lCqo7se2ZZC"
      },
      "source": [
        "Para el print podemos separa las operaciones por variable con (,), lo cual no afectara la impresión de los resultados."
      ]
    },
    {
      "cell_type": "markdown",
      "metadata": {
        "id": "lNAxQIC12-B-"
      },
      "source": [
        "**Tipos de división**\n",
        "\n",
        "---\n",
        "1. División exacta con(//)\n",
        "2. División inexacta o con decimales con (/)\n",
        "\n",
        "\n"
      ]
    },
    {
      "cell_type": "code",
      "metadata": {
        "colab": {
          "base_uri": "https://localhost:8080/"
        },
        "id": "Q3zYYjER3Tbf",
        "outputId": "f7cee9f6-22f9-4e39-a599-76245a828e2a"
      },
      "source": [
        "print(15//5)\n",
        "print(15/4)"
      ],
      "execution_count": 22,
      "outputs": [
        {
          "output_type": "stream",
          "text": [
            "3\n",
            "3.75\n"
          ],
          "name": "stdout"
        }
      ]
    },
    {
      "cell_type": "markdown",
      "metadata": {
        "id": "vrk690kQ36Vv"
      },
      "source": [
        "Nota: La opración de división, al igual que una división normal no es posible dividir entre cero (0); Porque en matematicas es un resultado indefinido."
      ]
    },
    {
      "cell_type": "markdown",
      "metadata": {
        "id": "GvkO0De14P5o"
      },
      "source": [
        "4. Potenciación\n",
        "5. Módulo"
      ]
    },
    {
      "cell_type": "markdown",
      "metadata": {
        "id": "PJfpGB044ZVL"
      },
      "source": [
        "**Potenciación**\n",
        "\n",
        "---\n",
        "En Python se maneja el simbolo (**). El primer valor es la base y el ultimo es el exponente\n"
      ]
    },
    {
      "cell_type": "code",
      "metadata": {
        "colab": {
          "base_uri": "https://localhost:8080/"
        },
        "id": "vsQjydOr4m_E",
        "outputId": "bbba0288-152d-4358-c147-8094164184b5"
      },
      "source": [
        "print(2**3)"
      ],
      "execution_count": 24,
      "outputs": [
        {
          "output_type": "stream",
          "text": [
            "8\n"
          ],
          "name": "stdout"
        }
      ]
    },
    {
      "cell_type": "markdown",
      "metadata": {
        "id": "17fZGvYk45Se"
      },
      "source": [
        "**Módulo**\n",
        "\n",
        "---\n",
        "Le llamamos módulo al residuo de la opración de división. El simbolo usado para mostrar el residuo es (%); El primer valor es el dividendo y el segundo el divisor\n"
      ]
    },
    {
      "cell_type": "code",
      "metadata": {
        "colab": {
          "base_uri": "https://localhost:8080/"
        },
        "id": "XspTenMT5H-e",
        "outputId": "00326c3c-008b-4bd0-98b4-a12f594a9d04"
      },
      "source": [
        "print(88%9)"
      ],
      "execution_count": 26,
      "outputs": [
        {
          "output_type": "stream",
          "text": [
            "7\n"
          ],
          "name": "stdout"
        }
      ]
    },
    {
      "cell_type": "markdown",
      "metadata": {
        "id": "3X6AsOmP8BU9"
      },
      "source": [
        "**OPERADORES DE COMPARACIÓN**\n",
        "\n",
        "---\n",
        "Los opradores de comparación sirven para comparar varios valores.\n",
        "En la vida cotodiana a la hora de tomar decisiones teemos que decidir entre un camino u otro, ejemplo: en las compras, desiciones de vida, caminos por recorrer.\n",
        "\n",
        "\n"
      ]
    },
    {
      "cell_type": "markdown",
      "metadata": {
        "id": "X_75bTgL85xF"
      },
      "source": [
        "**Igualdad**\n",
        "\n",
        "---\n",
        "Simbolo en Python es (==)\n"
      ]
    },
    {
      "cell_type": "code",
      "metadata": {
        "colab": {
          "base_uri": "https://localhost:8080/"
        },
        "id": "uj6aD4LT8_hu",
        "outputId": "ef13ffc8-f3c2-4146-ca23-0978b018f35a"
      },
      "source": [
        "x = 30\n",
        "z = 31\n",
        "print(x==z)"
      ],
      "execution_count": 27,
      "outputs": [
        {
          "output_type": "stream",
          "text": [
            "False\n"
          ],
          "name": "stdout"
        }
      ]
    },
    {
      "cell_type": "code",
      "metadata": {
        "colab": {
          "base_uri": "https://localhost:8080/"
        },
        "id": "jiCrLUhL9QPr",
        "outputId": "f4116fdb-43cb-49a3-cd98-d2faee9362d0"
      },
      "source": [
        "x = \"casa\"\n",
        "z = \"casa\"\n",
        "print(x==z)"
      ],
      "execution_count": 28,
      "outputs": [
        {
          "output_type": "stream",
          "text": [
            "True\n"
          ],
          "name": "stdout"
        }
      ]
    },
    {
      "cell_type": "markdown",
      "metadata": {
        "id": "SO83JfTQ_Szm"
      },
      "source": [
        "**Diferencia**\n",
        "\n",
        "---\n",
        "A diferencia del operador de igualda el sismbolo esta combinado por el simbolo de admiración, es decir (!=).\n"
      ]
    },
    {
      "cell_type": "code",
      "metadata": {
        "colab": {
          "base_uri": "https://localhost:8080/"
        },
        "id": "bTysLrh-_h8V",
        "outputId": "f054be2c-95c8-4bf8-efe7-493915b433b2"
      },
      "source": [
        "x = \"casa\"\n",
        "z = \"caza\"\n",
        "print(x!=z)"
      ],
      "execution_count": 29,
      "outputs": [
        {
          "output_type": "stream",
          "text": [
            "True\n"
          ],
          "name": "stdout"
        }
      ]
    },
    {
      "cell_type": "markdown",
      "metadata": {
        "id": "6miUfoCO_tPy"
      },
      "source": [
        "**Mayor que**\n",
        "\n",
        "---\n",
        "Símbolo en Python (>).\n",
        "Siempre comprativa se designa cual es el menor o el mayor , por el valor que esta \n",
        "a la izquierda de la opración.\n"
      ]
    },
    {
      "cell_type": "code",
      "metadata": {
        "colab": {
          "base_uri": "https://localhost:8080/"
        },
        "id": "Bdn9A-go_8hO",
        "outputId": "8755edb7-e370-4cb6-ac69-c6324dfb5aaf"
      },
      "source": [
        "print(30>29.8)"
      ],
      "execution_count": 30,
      "outputs": [
        {
          "output_type": "stream",
          "text": [
            "True\n"
          ],
          "name": "stdout"
        }
      ]
    },
    {
      "cell_type": "markdown",
      "metadata": {
        "id": "Hhaxf01VAeUO"
      },
      "source": [
        "**Menor que**\n",
        "\n",
        "---\n",
        "Caso contrario, el simbolo es (<)\n"
      ]
    },
    {
      "cell_type": "code",
      "metadata": {
        "colab": {
          "base_uri": "https://localhost:8080/"
        },
        "id": "0dZ1N32gAmmY",
        "outputId": "62c74d51-5f8e-421e-daf1-44a01f3a9eaf"
      },
      "source": [
        "x = 4\n",
        "y = 3\n",
        "print(x<y)"
      ],
      "execution_count": 31,
      "outputs": [
        {
          "output_type": "stream",
          "text": [
            "False\n"
          ],
          "name": "stdout"
        }
      ]
    },
    {
      "cell_type": "markdown",
      "metadata": {
        "id": "qXH5N0NBAw8m"
      },
      "source": [
        "**Mayor o igual que**\n",
        "\n",
        "\n",
        "---\n",
        "Es similar al mayor que, con la diferencia de que la forma en dara el resultado verdadero es que si ambos números son iguales y flexibiliza dando verdadero de igual forma si el valor de la izquierda es mayor que el de la derecha.\n",
        "\n",
        "El simbolo es (>=)\n"
      ]
    },
    {
      "cell_type": "code",
      "metadata": {
        "colab": {
          "base_uri": "https://localhost:8080/"
        },
        "id": "QtfH6I6aBPgI",
        "outputId": "b1fe614a-4d7b-49d3-a581-bc9a792148a1"
      },
      "source": [
        "x = 10\n",
        "y = 10\n",
        "print(x>=y)"
      ],
      "execution_count": 32,
      "outputs": [
        {
          "output_type": "stream",
          "text": [
            "True\n"
          ],
          "name": "stdout"
        }
      ]
    },
    {
      "cell_type": "code",
      "metadata": {
        "colab": {
          "base_uri": "https://localhost:8080/"
        },
        "id": "QSZG3hGeBcvI",
        "outputId": "4f0be0bf-7870-4024-dd1c-29197b9c7aa5"
      },
      "source": [
        "x = 10\n",
        "y = 5\n",
        "print(x>=y)"
      ],
      "execution_count": 33,
      "outputs": [
        {
          "output_type": "stream",
          "text": [
            "True\n"
          ],
          "name": "stdout"
        }
      ]
    }
  ]
}