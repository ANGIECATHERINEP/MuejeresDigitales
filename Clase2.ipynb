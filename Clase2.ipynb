{
  "nbformat": 4,
  "nbformat_minor": 0,
  "metadata": {
    "colab": {
      "name": "Clase2.ipynb",
      "provenance": [],
      "authorship_tag": "ABX9TyNk/ijkiQjk3Cm8TExPJgTY",
      "include_colab_link": true
    },
    "kernelspec": {
      "name": "python3",
      "display_name": "Python 3"
    },
    "language_info": {
      "name": "python"
    }
  },
  "cells": [
    {
      "cell_type": "markdown",
      "metadata": {
        "id": "view-in-github",
        "colab_type": "text"
      },
      "source": [
        "<a href=\"https://colab.research.google.com/github/ANGIECATHERINEP/MujerDigital/blob/main/Clase2.ipynb\" target=\"_parent\"><img src=\"https://colab.research.google.com/assets/colab-badge.svg\" alt=\"Open In Colab\"/></a>"
      ]
    },
    {
      "cell_type": "markdown",
      "metadata": {
        "id": "pGpoEuHzvOfu"
      },
      "source": [
        "**OPERADORES ARITMÉTICOS**\n",
        "\n",
        "---\n",
        "Los operadores permiten realizar diferentes procesos de calculo en cualquier lenguaje de programación.\n",
        "\n",
        "Los operadores más basicos son: \n",
        "1. suma\n",
        "2. Resta\n",
        "3. Multiplicación \n",
        "4. División\n",
        "\n",
        "\n",
        "\n"
      ]
    },
    {
      "cell_type": "markdown",
      "metadata": {
        "id": "viR4ceEHvs0I"
      },
      "source": [
        "**Suma y resta**\n",
        "\n",
        "---\n",
        "simbolo suma(+) el cual se utilizara en medio de la declaracion de las varianles a operar.\n",
        "\n",
        "Simbolo resta(-)\n"
      ]
    },
    {
      "cell_type": "code",
      "metadata": {
        "colab": {
          "base_uri": "https://localhost:8080/"
        },
        "id": "vnfSzjAGv_mD",
        "outputId": "c47f9c9b-b5d0-45a3-d122-e1dd1c1c79c8"
      },
      "source": [
        "print(10+300)\n",
        "print (20-50)"
      ],
      "execution_count": 3,
      "outputs": [
        {
          "output_type": "stream",
          "text": [
            "310\n",
            "-30\n"
          ],
          "name": "stdout"
        }
      ]
    },
    {
      "cell_type": "code",
      "metadata": {
        "colab": {
          "base_uri": "https://localhost:8080/"
        },
        "id": "W159GIYzwHw0",
        "outputId": "012c6cfb-ba77-4e2c-a6ea-87242f7cea06"
      },
      "source": [
        "a = 20\n",
        "b = 35\n",
        "print(a+b)\n",
        "print(a-b)"
      ],
      "execution_count": 4,
      "outputs": [
        {
          "output_type": "stream",
          "text": [
            "55\n",
            "-15\n"
          ],
          "name": "stdout"
        }
      ]
    },
    {
      "cell_type": "code",
      "metadata": {
        "colab": {
          "base_uri": "https://localhost:8080/"
        },
        "id": "As_LMr9rwqtT",
        "outputId": "397f336f-de25-4fc7-e299-b5a3cc60e048"
      },
      "source": [
        "numero_botella = 12\n",
        "print(numero_botella + 8)"
      ],
      "execution_count": 5,
      "outputs": [
        {
          "output_type": "stream",
          "text": [
            "20\n"
          ],
          "name": "stdout"
        }
      ]
    },
    {
      "cell_type": "code",
      "metadata": {
        "colab": {
          "base_uri": "https://localhost:8080/"
        },
        "id": "c0u7Ll8zw3Ea",
        "outputId": "eea81792-f58e-4b13-fe45-950e7c00f2ec"
      },
      "source": [
        "numero_botella = 12\n",
        "numero_botella = numero_botella + 8\n",
        "print(numero_botella)"
      ],
      "execution_count": 6,
      "outputs": [
        {
          "output_type": "stream",
          "text": [
            "20\n"
          ],
          "name": "stdout"
        }
      ]
    },
    {
      "cell_type": "markdown",
      "metadata": {
        "id": "CuW77jh_xTRj"
      },
      "source": [
        "**Sumas y restas entre dos diferentes tipos de variables**\n",
        "\n",
        "---\n",
        "los tipos de variables:\n",
        "1. Declaración de variables númericas enteros\n",
        "2. Flotantes(incorpora y flexibiliza lols decimales)\n",
        "3. Tipo cadena\n"
      ]
    },
    {
      "cell_type": "code",
      "metadata": {
        "colab": {
          "base_uri": "https://localhost:8080/"
        },
        "id": "tzRIVZAcxqQS",
        "outputId": "1bedb965-69aa-4a13-ced8-6f4e3577846c"
      },
      "source": [
        "q1 = 100\n",
        "q2 = 24.5\n",
        "print(type(q1+q2))"
      ],
      "execution_count": 7,
      "outputs": [
        {
          "output_type": "stream",
          "text": [
            "<class 'float'>\n"
          ],
          "name": "stdout"
        }
      ]
    },
    {
      "cell_type": "code",
      "metadata": {
        "colab": {
          "base_uri": "https://localhost:8080/"
        },
        "id": "XMnXBgbHyEfK",
        "outputId": "167657b3-13ea-4580-9a00-6abca82632db"
      },
      "source": [
        "v1 = \"quiero\"\n",
        "v2 = \"un celular\"\n",
        "v3 =v1 +\" \" + v2\n",
        "print(v1+v2)\n",
        "print(v1,v2)\n",
        "print(v3)"
      ],
      "execution_count": 12,
      "outputs": [
        {
          "output_type": "stream",
          "text": [
            "quieroun celular\n",
            "quiero un celular\n",
            "quiero un celular\n"
          ],
          "name": "stdout"
        }
      ]
    },
    {
      "cell_type": "code",
      "metadata": {
        "colab": {
          "base_uri": "https://localhost:8080/"
        },
        "id": "gyI-IZiAyt4B",
        "outputId": "6f7e7c00-cc08-4c31-d2e5-eef6ef08bb80"
      },
      "source": [
        "xq2 = 235\n",
        "xq3 = 400\n",
        "print(xq2-xq3)\n",
        "\n",
        "xq2 = 24.66\n",
        "xq3 = 4\n",
        "print(type(xq2-xq3))"
      ],
      "execution_count": 14,
      "outputs": [
        {
          "output_type": "stream",
          "text": [
            "-165\n",
            "<class 'float'>\n"
          ],
          "name": "stdout"
        }
      ]
    },
    {
      "cell_type": "markdown",
      "metadata": {
        "id": "G3nDlxTfzWgD"
      },
      "source": [
        "**IMPORTANTE**\n",
        "\n",
        "La resta no funciona directamente para variables tipo cadena."
      ]
    },
    {
      "cell_type": "markdown",
      "metadata": {
        "id": "una-E8ED0lw5"
      },
      "source": [
        "**Multiplicación**\n",
        "\n",
        "---\n",
        "Definamos la multiplicación como la suma de varias veces un numero, cantidad de veces indicadas por otro numero (4x2=4+4=8). El simbolo es *.\n"
      ]
    },
    {
      "cell_type": "code",
      "metadata": {
        "colab": {
          "base_uri": "https://localhost:8080/"
        },
        "id": "uhIuR1iE07kB",
        "outputId": "9d660f06-9cb8-46a2-837d-39997426a830"
      },
      "source": [
        "cali = 5\n",
        "palmira = 6\n",
        "print(cali*palmira)"
      ],
      "execution_count": 16,
      "outputs": [
        {
          "output_type": "stream",
          "text": [
            "30\n"
          ],
          "name": "stdout"
        }
      ]
    },
    {
      "cell_type": "markdown",
      "metadata": {
        "id": "h1IbvkC31Mdj"
      },
      "source": [
        "**IMPORTANTE**\n",
        "\n",
        "Se aplica la ley conmutativa.\n",
        "Recordemos que la ley conmutativa es que el orden de los factores no altera el resultado (aplica en suma y multiplicación)"
      ]
    },
    {
      "cell_type": "code",
      "metadata": {
        "colab": {
          "base_uri": "https://localhost:8080/"
        },
        "id": "SsIkS2mp1k0f",
        "outputId": "49bb1cd2-17f7-4125-9bcd-9a87b9354516"
      },
      "source": [
        "cali = 5\n",
        "palmira = 6\n",
        "print(palmira*cali)"
      ],
      "execution_count": 17,
      "outputs": [
        {
          "output_type": "stream",
          "text": [
            "30\n"
          ],
          "name": "stdout"
        }
      ]
    },
    {
      "cell_type": "markdown",
      "metadata": {
        "id": "Y3odOgzr1pUg"
      },
      "source": [
        "**División**\n",
        "\n",
        "---\n",
        "ACLARACIÓN: **NO** aplica la ley conmutativa. \n",
        "\n",
        "el simbolo es /.\n"
      ]
    },
    {
      "cell_type": "code",
      "metadata": {
        "colab": {
          "base_uri": "https://localhost:8080/"
        },
        "id": "D4eX5rly12LD",
        "outputId": "ff143fb5-0b72-4976-f48d-e626707b000e"
      },
      "source": [
        "a = 20\n",
        "b = 4\n",
        "print(a/b, b/a)"
      ],
      "execution_count": 19,
      "outputs": [
        {
          "output_type": "stream",
          "text": [
            "5.0 0.2\n"
          ],
          "name": "stdout"
        }
      ]
    },
    {
      "cell_type": "markdown",
      "metadata": {
        "id": "9lCqo7se2ZZC"
      },
      "source": [
        "Para el print podemos separa las operaciones por variable con (,), lo cual no afectara la impresión de los resultados."
      ]
    },
    {
      "cell_type": "markdown",
      "metadata": {
        "id": "lNAxQIC12-B-"
      },
      "source": [
        "**Tipos de división**\n",
        "\n",
        "---\n",
        "1. División exacta con(//)\n",
        "2. División inexacta o con decimales con (/)\n",
        "\n",
        "\n"
      ]
    },
    {
      "cell_type": "code",
      "metadata": {
        "colab": {
          "base_uri": "https://localhost:8080/"
        },
        "id": "Q3zYYjER3Tbf",
        "outputId": "f7cee9f6-22f9-4e39-a599-76245a828e2a"
      },
      "source": [
        "print(15//5)\n",
        "print(15/4)"
      ],
      "execution_count": 22,
      "outputs": [
        {
          "output_type": "stream",
          "text": [
            "3\n",
            "3.75\n"
          ],
          "name": "stdout"
        }
      ]
    },
    {
      "cell_type": "markdown",
      "metadata": {
        "id": "vrk690kQ36Vv"
      },
      "source": [
        "Nota: La opración de división, al igual que una división normal no es posible dividir entre cero (0); Porque en matematicas es un resultado indefinido."
      ]
    },
    {
      "cell_type": "markdown",
      "metadata": {
        "id": "GvkO0De14P5o"
      },
      "source": [
        "4. Potenciación\n",
        "5. Módulo"
      ]
    },
    {
      "cell_type": "markdown",
      "metadata": {
        "id": "PJfpGB044ZVL"
      },
      "source": [
        "**Potenciación**\n",
        "\n",
        "---\n",
        "En Python se maneja el simbolo (**). El primer valor es la base y el ultimo es el exponente\n"
      ]
    },
    {
      "cell_type": "code",
      "metadata": {
        "colab": {
          "base_uri": "https://localhost:8080/"
        },
        "id": "vsQjydOr4m_E",
        "outputId": "bbba0288-152d-4358-c147-8094164184b5"
      },
      "source": [
        "print(2**3)"
      ],
      "execution_count": 24,
      "outputs": [
        {
          "output_type": "stream",
          "text": [
            "8\n"
          ],
          "name": "stdout"
        }
      ]
    },
    {
      "cell_type": "markdown",
      "metadata": {
        "id": "17fZGvYk45Se"
      },
      "source": [
        "**Módulo**\n",
        "\n",
        "---\n",
        "Le llamamos módulo al residuo de la opración de división. El simbolo usado para mostrar el residuo es (%); El primer valor es el dividendo y el segundo el divisor\n"
      ]
    },
    {
      "cell_type": "code",
      "metadata": {
        "colab": {
          "base_uri": "https://localhost:8080/"
        },
        "id": "XspTenMT5H-e",
        "outputId": "00326c3c-008b-4bd0-98b4-a12f594a9d04"
      },
      "source": [
        "print(88%9)"
      ],
      "execution_count": 26,
      "outputs": [
        {
          "output_type": "stream",
          "text": [
            "7\n"
          ],
          "name": "stdout"
        }
      ]
    },
    {
      "cell_type": "markdown",
      "metadata": {
        "id": "3X6AsOmP8BU9"
      },
      "source": [
        "**OPERADORES DE COMPARACIÓN**\n",
        "\n",
        "---\n",
        "Los opradores de comparación sirven para comparar varios valores.\n",
        "En la vida cotodiana a la hora de tomar decisiones teemos que decidir entre un camino u otro, ejemplo: en las compras, desiciones de vida, caminos por recorrer.\n",
        "\n",
        "\n"
      ]
    },
    {
      "cell_type": "markdown",
      "metadata": {
        "id": "X_75bTgL85xF"
      },
      "source": [
        "**Igualdad**\n",
        "\n",
        "---\n",
        "Simbolo en Python es (==)\n"
      ]
    },
    {
      "cell_type": "code",
      "metadata": {
        "colab": {
          "base_uri": "https://localhost:8080/"
        },
        "id": "uj6aD4LT8_hu",
        "outputId": "ef13ffc8-f3c2-4146-ca23-0978b018f35a"
      },
      "source": [
        "x = 30\n",
        "z = 31\n",
        "print(x==z)"
      ],
      "execution_count": 27,
      "outputs": [
        {
          "output_type": "stream",
          "text": [
            "False\n"
          ],
          "name": "stdout"
        }
      ]
    },
    {
      "cell_type": "code",
      "metadata": {
        "colab": {
          "base_uri": "https://localhost:8080/"
        },
        "id": "jiCrLUhL9QPr",
        "outputId": "f4116fdb-43cb-49a3-cd98-d2faee9362d0"
      },
      "source": [
        "x = \"casa\"\n",
        "z = \"casa\"\n",
        "print(x==z)"
      ],
      "execution_count": 28,
      "outputs": [
        {
          "output_type": "stream",
          "text": [
            "True\n"
          ],
          "name": "stdout"
        }
      ]
    },
    {
      "cell_type": "markdown",
      "metadata": {
        "id": "SO83JfTQ_Szm"
      },
      "source": [
        "**Diferencia**\n",
        "\n",
        "---\n",
        "A diferencia del operador de igualda el sismbolo esta combinado por el simbolo de admiración, es decir (!=).\n"
      ]
    },
    {
      "cell_type": "code",
      "metadata": {
        "colab": {
          "base_uri": "https://localhost:8080/"
        },
        "id": "bTysLrh-_h8V",
        "outputId": "f054be2c-95c8-4bf8-efe7-493915b433b2"
      },
      "source": [
        "x = \"casa\"\n",
        "z = \"caza\"\n",
        "print(x!=z)"
      ],
      "execution_count": 29,
      "outputs": [
        {
          "output_type": "stream",
          "text": [
            "True\n"
          ],
          "name": "stdout"
        }
      ]
    },
    {
      "cell_type": "markdown",
      "metadata": {
        "id": "6miUfoCO_tPy"
      },
      "source": [
        "**Mayor que**\n",
        "\n",
        "---\n",
        "Símbolo en Python (>).\n",
        "Siempre comprativa se designa cual es el menor o el mayor , por el valor que esta \n",
        "a la izquierda de la opración.\n"
      ]
    },
    {
      "cell_type": "code",
      "metadata": {
        "colab": {
          "base_uri": "https://localhost:8080/"
        },
        "id": "Bdn9A-go_8hO",
        "outputId": "8755edb7-e370-4cb6-ac69-c6324dfb5aaf"
      },
      "source": [
        "print(30>29.8)"
      ],
      "execution_count": 30,
      "outputs": [
        {
          "output_type": "stream",
          "text": [
            "True\n"
          ],
          "name": "stdout"
        }
      ]
    },
    {
      "cell_type": "markdown",
      "metadata": {
        "id": "Hhaxf01VAeUO"
      },
      "source": [
        "**Menor que**\n",
        "\n",
        "---\n",
        "Caso contrario, el simbolo es (<)\n"
      ]
    },
    {
      "cell_type": "code",
      "metadata": {
        "colab": {
          "base_uri": "https://localhost:8080/"
        },
        "id": "0dZ1N32gAmmY",
        "outputId": "62c74d51-5f8e-421e-daf1-44a01f3a9eaf"
      },
      "source": [
        "x = 4\n",
        "y = 3\n",
        "print(x<y)"
      ],
      "execution_count": 31,
      "outputs": [
        {
          "output_type": "stream",
          "text": [
            "False\n"
          ],
          "name": "stdout"
        }
      ]
    },
    {
      "cell_type": "markdown",
      "metadata": {
        "id": "qXH5N0NBAw8m"
      },
      "source": [
        "**Mayor o igual que**\n",
        "\n",
        "\n",
        "---\n",
        "Es similar al mayor que, con la diferencia de que la forma en dara el resultado verdadero es que si ambos números son iguales y flexibiliza dando verdadero de igual forma si el valor de la izquierda es mayor que el de la derecha.\n",
        "\n",
        "El simbolo es (>=)\n"
      ]
    },
    {
      "cell_type": "code",
      "metadata": {
        "colab": {
          "base_uri": "https://localhost:8080/"
        },
        "id": "QtfH6I6aBPgI",
        "outputId": "b1fe614a-4d7b-49d3-a581-bc9a792148a1"
      },
      "source": [
        "x = 10\n",
        "y = 10\n",
        "print(x>=y)"
      ],
      "execution_count": 32,
      "outputs": [
        {
          "output_type": "stream",
          "text": [
            "True\n"
          ],
          "name": "stdout"
        }
      ]
    },
    {
      "cell_type": "code",
      "metadata": {
        "colab": {
          "base_uri": "https://localhost:8080/"
        },
        "id": "QSZG3hGeBcvI",
        "outputId": "4f0be0bf-7870-4024-dd1c-29197b9c7aa5"
      },
      "source": [
        "x = 10\n",
        "y = 5\n",
        "print(x>=y)"
      ],
      "execution_count": 33,
      "outputs": [
        {
          "output_type": "stream",
          "text": [
            "True\n"
          ],
          "name": "stdout"
        }
      ]
    },
    {
      "cell_type": "markdown",
      "metadata": {
        "id": "CcN_cQQXBuQt"
      },
      "source": [
        "**Menor o igual que**\n",
        "\n",
        "---\n",
        "\n",
        "el símbolo es (<=)"
      ]
    },
    {
      "cell_type": "code",
      "metadata": {
        "colab": {
          "base_uri": "https://localhost:8080/"
        },
        "id": "4aE2t4bsBzOP",
        "outputId": "ecb49124-ad53-43af-d8dc-4dad35b66ee6"
      },
      "source": [
        "c = 45\n",
        "print(c<=46)"
      ],
      "execution_count": 34,
      "outputs": [
        {
          "output_type": "stream",
          "text": [
            "True\n"
          ],
          "name": "stdout"
        }
      ]
    },
    {
      "cell_type": "markdown",
      "metadata": {
        "id": "UtYZZZ14CA9e"
      },
      "source": [
        "**tener en cuenta:** En la comparaciones los resultados que nos arrojan siempre es de tipo booleano es decir: True o false "
      ]
    },
    {
      "cell_type": "markdown",
      "metadata": {
        "id": "ASr0YBJQCfYe"
      },
      "source": [
        "**OPERADORES LÓGICOS**\n",
        "\n",
        "---\n",
        "Python incluye tres operadoress lógicos base:\n",
        "1. AND(y)\n",
        "2. OR(o)\n",
        "3. NOT(no)\n",
        "\n",
        "los operadores lógicos funcionan con valores booleanos a su vez, devuelven como respuesta valores booleanos\n"
      ]
    },
    {
      "cell_type": "markdown",
      "metadata": {
        "id": "U4sCvK9SC-kR"
      },
      "source": [
        "**Operadores AND**\n",
        "\n",
        "---\n",
        "Este operador solo devolverá (verdadero) si ambos valores lo son.\n",
        "\n",
        "¿como usar este operador?\n",
        "Basta con escribir un valor booleano, luego la palabra \"and\" y por ultimo otro valor booleano\n"
      ]
    },
    {
      "cell_type": "code",
      "metadata": {
        "colab": {
          "base_uri": "https://localhost:8080/"
        },
        "id": "0S-IV8qyDbiI",
        "outputId": "676fb1b5-0f60-44a6-da7a-958324366781"
      },
      "source": [
        "print(True and False)"
      ],
      "execution_count": 35,
      "outputs": [
        {
          "output_type": "stream",
          "text": [
            "False\n"
          ],
          "name": "stdout"
        }
      ]
    },
    {
      "cell_type": "markdown",
      "metadata": {
        "id": "kITVDMi8DphR"
      },
      "source": [
        "**Ejemplo de contextualización AND**\n",
        "\n",
        "1. True and True = true\n",
        "2. True and False = False\n",
        "3. False and False = False\n",
        "4. False and True False = False"
      ]
    },
    {
      "cell_type": "markdown",
      "metadata": {
        "id": "KnHMVTjtEBYM"
      },
      "source": [
        "**Operador OR**\n",
        "\n",
        "---\n",
        "A difrencia del operador AND, or devleve a todo verdadero a menos de que ambos valores sean falsos.\n"
      ]
    },
    {
      "cell_type": "code",
      "metadata": {
        "colab": {
          "base_uri": "https://localhost:8080/"
        },
        "id": "QcIZOdBsEOy1",
        "outputId": "0a780860-08a1-4386-a656-8bb61e23fb8f"
      },
      "source": [
        "print(True or True)\n",
        "print(False or False)"
      ],
      "execution_count": 37,
      "outputs": [
        {
          "output_type": "stream",
          "text": [
            "True\n",
            "False\n"
          ],
          "name": "stdout"
        }
      ]
    },
    {
      "cell_type": "markdown",
      "metadata": {
        "id": "u8nAgEmNEg-V"
      },
      "source": [
        "Ejemplo  de contextualización OR\n",
        "\n",
        "1. True or True = true\n",
        "2. True or False = true\n",
        "3. False or True  = true\n",
        "**4. False or False = False**"
      ]
    },
    {
      "cell_type": "code",
      "metadata": {
        "colab": {
          "base_uri": "https://localhost:8080/"
        },
        "id": "b1n6rtmuE8ft",
        "outputId": "411d071f-bdd0-4147-de8b-9c3ec7e1de28"
      },
      "source": [
        "a = 3\n",
        "b = 2\n",
        "print(a>4 or a==4)\n",
        "print(b==b and a>=b)"
      ],
      "execution_count": 39,
      "outputs": [
        {
          "output_type": "stream",
          "text": [
            "False\n",
            "True\n"
          ],
          "name": "stdout"
        }
      ]
    },
    {
      "cell_type": "markdown",
      "metadata": {
        "id": "z9X_RYEJFiF1"
      },
      "source": [
        "**Operador NOT**\n",
        "\n",
        "---\n",
        "Este operador es negación, en español NO.\n",
        "\n",
        "Este operador es muy especial, dado que por si solo sirve para hacer ninguna operación, lo único que hace es negar, o **invertir el valor** que viene despues de él.\n"
      ]
    },
    {
      "cell_type": "code",
      "metadata": {
        "colab": {
          "base_uri": "https://localhost:8080/"
        },
        "id": "ZihX-IiqGSsQ",
        "outputId": "63a9297d-ce09-4170-8bdd-8e8532f4d049"
      },
      "source": [
        "print(not False)\n",
        "print(not True)"
      ],
      "execution_count": 40,
      "outputs": [
        {
          "output_type": "stream",
          "text": [
            "True\n",
            "False\n"
          ],
          "name": "stdout"
        }
      ]
    },
    {
      "cell_type": "markdown",
      "metadata": {
        "id": "8J6FUjSlHOVo"
      },
      "source": [
        "**PRECEDENCIA DE OPERADORES**\n",
        "\n",
        "---\n",
        "Es muy importante manejar el orden y las opraciones al realizarlas, para no caer en problemas código error.\n",
        "\n",
        "El orden debe ser:\n",
        "1. De izquierda a derecha\n",
        "2. Primero los parentesis\n",
        "3. Potenciación o radicación\n",
        "4. Multiplicacion y división\n",
        "5. Suma y resta\n",
        "\n",
        "**ejemplo**\n",
        "\n",
        "4 - 2 (10) = -16\n",
        "1. Primero el parentesis: 4 - 2 * 10=\n",
        "2. Se continúa con la multiplicación: 4 - 20 =\n",
        "3. Por último la resta: 4-20= -16\n",
        "\n",
        "*¿Cual crees que es el resultado de la siguiente operación?*"
      ]
    },
    {
      "cell_type": "code",
      "metadata": {
        "colab": {
          "base_uri": "https://localhost:8080/"
        },
        "id": "8_6tuL4CIWc9",
        "outputId": "a9b635be-4a58-4163-bd25-828cce067edf"
      },
      "source": [
        "a = False\n",
        "b = True\n",
        "c = True\n",
        "print(not c and (a or b))"
      ],
      "execution_count": 41,
      "outputs": [
        {
          "output_type": "stream",
          "text": [
            "False\n"
          ],
          "name": "stdout"
        }
      ]
    },
    {
      "cell_type": "code",
      "metadata": {
        "colab": {
          "base_uri": "https://localhost:8080/"
        },
        "id": "nyjDfheDJKAv",
        "outputId": "83553dd8-98ac-4f58-ba8d-0e332a9d647d"
      },
      "source": [
        "print(3-2*(13-5))"
      ],
      "execution_count": 43,
      "outputs": [
        {
          "output_type": "stream",
          "text": [
            "-13\n"
          ],
          "name": "stdout"
        }
      ]
    },
    {
      "cell_type": "markdown",
      "metadata": {
        "id": "uhWnu0RRJY6m"
      },
      "source": [
        "**RESUMEN**\n",
        "\n",
        "---\n",
        "1. Aplicación de ley conmutativa: Solo para suma y resta (operadores básicos)\n",
        "2. los resultados de los operadores lógicos son de tipo booleano.\n",
        "3. NO se puede realizar resta entre variables del tipo cadena (el procedimiento si abarca numeros es la conversion del inicio)\n",
        "4. Si aplicamos el condicional AND, para el que resultado sea TRUE, la única forma es que ambos valores sean verdaderos.\n",
        "5. En cambio con el OR, si cumple que alguno de los dos valores son TRUE, el resultado será TRUE.\n"
      ]
    },
    {
      "cell_type": "markdown",
      "metadata": {
        "id": "2gRERL0CoJ17"
      },
      "source": [
        "\n",
        "\n",
        "-"
      ]
    },
    {
      "cell_type": "markdown",
      "metadata": {
        "id": "kLvS3DHAli31"
      },
      "source": [
        "\n",
        "\n",
        "---\n",
        "\n",
        "\n",
        "\n",
        "---\n",
        "\n",
        "\n",
        "#**TAREA CLASE N° 2**\n",
        "\n",
        "---\n",
        "\n",
        "\n",
        "---\n",
        "\n",
        "\n",
        "\n"
      ]
    },
    {
      "cell_type": "markdown",
      "metadata": {
        "id": "iLnZCwiMpRSD"
      },
      "source": [
        "**a.**"
      ]
    },
    {
      "cell_type": "code",
      "metadata": {
        "colab": {
          "base_uri": "https://localhost:8080/"
        },
        "id": "ikQ_iqrloHFb",
        "outputId": "4e83e062-b451-4faf-bab3-37bc2e863431"
      },
      "source": [
        "print((8 - 2) * 15 // 3)"
      ],
      "execution_count": 47,
      "outputs": [
        {
          "output_type": "stream",
          "text": [
            "30\n"
          ],
          "name": "stdout"
        }
      ]
    },
    {
      "cell_type": "markdown",
      "metadata": {
        "id": "tjabQqurpVvf"
      },
      "source": [
        "1. Primero el parentesis: ( 6 )* 15 / 3 =\n",
        "2. Se continúa con la multiplicación: 6 * 15 / 3 =\n",
        "3. Por último la división: 90 / 3= 30"
      ]
    },
    {
      "cell_type": "markdown",
      "metadata": {
        "id": "9lJ3jW2QpfLr"
      },
      "source": [
        "**b.**"
      ]
    },
    {
      "cell_type": "code",
      "metadata": {
        "colab": {
          "base_uri": "https://localhost:8080/"
        },
        "id": "hzTbpJKrpiNv",
        "outputId": "7a929782-0f3f-4c40-c739-f513f90643b8"
      },
      "source": [
        "a = 35\n",
        "b = 50\n",
        "c = 28\n",
        "print(a>=c and (b>=c and a!= b))"
      ],
      "execution_count": 53,
      "outputs": [
        {
          "output_type": "stream",
          "text": [
            "True\n"
          ],
          "name": "stdout"
        }
      ]
    },
    {
      "cell_type": "markdown",
      "metadata": {
        "id": "vTxC_mBsp1tu"
      },
      "source": [
        "1. Primero los valores del parentesis: \n",
        "\n",
        "    b >= c --- True\n",
        "\n",
        "    a != b --- True\n",
        "\n",
        "    True **AND** True = True\n",
        "\n",
        "2. Luego se resuelve: \n",
        "\n",
        "    a >= c ---True\n",
        "\n",
        "3. Por último: \n",
        "\n",
        "    True AND True = True"
      ]
    },
    {
      "cell_type": "markdown",
      "metadata": {
        "id": "ZxfvIJrvEOj7"
      },
      "source": [
        "**c.**"
      ]
    },
    {
      "cell_type": "code",
      "metadata": {
        "colab": {
          "base_uri": "https://localhost:8080/"
        },
        "id": "nAoalVhNERtL",
        "outputId": "b52cb08d-5d0f-4ae3-9506-21b053e0b099"
      },
      "source": [
        "print(4**3*(10 + 5))"
      ],
      "execution_count": 49,
      "outputs": [
        {
          "output_type": "stream",
          "text": [
            "960\n"
          ],
          "name": "stdout"
        }
      ]
    },
    {
      "cell_type": "markdown",
      "metadata": {
        "id": "ljvKn9oeGD8n"
      },
      "source": [
        "1. Primero el parentesis: 4**3 *(15)=\n",
        "2. Se continúa con la potenciación : 64*(15)=\n",
        "3. Por último con la multiplicación: 64 * 15= 960\n"
      ]
    },
    {
      "cell_type": "markdown",
      "metadata": {
        "id": "EEAfEpP6G7mj"
      },
      "source": [
        "**d.**"
      ]
    },
    {
      "cell_type": "code",
      "metadata": {
        "colab": {
          "base_uri": "https://localhost:8080/"
        },
        "id": "hu9Prk3lHCqL",
        "outputId": "a085a6d7-a198-40db-f3af-c522fbccbede"
      },
      "source": [
        "x = 5\n",
        "y = 4.5\n",
        "z = 6\n",
        "print(x==y or (z>x and y>z))"
      ],
      "execution_count": 50,
      "outputs": [
        {
          "output_type": "stream",
          "text": [
            "False\n"
          ],
          "name": "stdout"
        }
      ]
    },
    {
      "cell_type": "markdown",
      "metadata": {
        "id": "5VFK91IxHyWU"
      },
      "source": [
        "1. Primero los valores del parentesis: \n",
        "\n",
        "    z > x = True     **AND**      y > z = false\n",
        "\n",
        "    True  **AND**   False = False\n",
        "\n",
        "2. Se continúa con los valores del lado izquierdo: \n",
        "\n",
        "    x == y ---False\n",
        "\n",
        "3. Por último: \n",
        "\n",
        "    False **OR**  False = False"
      ]
    },
    {
      "cell_type": "markdown",
      "metadata": {
        "id": "aQzcPY-XKP6r"
      },
      "source": [
        "**e.**"
      ]
    },
    {
      "cell_type": "code",
      "metadata": {
        "colab": {
          "base_uri": "https://localhost:8080/"
        },
        "id": "zW-OWAnFKR06",
        "outputId": "0e8dd46b-16bf-49de-bf78-5b8b6603de43"
      },
      "source": [
        "u = False\n",
        "v = True\n",
        "w = False\n",
        "print(not w or (u and v))"
      ],
      "execution_count": 54,
      "outputs": [
        {
          "output_type": "stream",
          "text": [
            "True\n"
          ],
          "name": "stdout"
        }
      ]
    },
    {
      "cell_type": "markdown",
      "metadata": {
        "id": "HVBg_jQ9NLre"
      },
      "source": [
        "1. Primero el parentesis:\n",
        "   \n",
        "    u **AND** v = False\n",
        "    \n",
        "2. Por último:  \n",
        "\n",
        "    **NOT** w = True\n",
        "\n",
        "    False **OR** True = True"
      ]
    }
  ]
}