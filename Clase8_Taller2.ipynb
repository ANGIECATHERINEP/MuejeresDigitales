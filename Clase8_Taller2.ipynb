{
  "nbformat": 4,
  "nbformat_minor": 0,
  "metadata": {
    "colab": {
      "name": "Clase8_Taller2.ipynb",
      "provenance": [],
      "authorship_tag": "ABX9TyMhXN1RK9RiujQ+pRILCxeN",
      "include_colab_link": true
    },
    "kernelspec": {
      "name": "python3",
      "display_name": "Python 3"
    },
    "language_info": {
      "name": "python"
    }
  },
  "cells": [
    {
      "cell_type": "markdown",
      "metadata": {
        "id": "view-in-github",
        "colab_type": "text"
      },
      "source": [
        "<a href=\"https://colab.research.google.com/github/ANGIECATHERINEP/MujerDigital/blob/main/Clase8_Taller2.ipynb\" target=\"_parent\"><img src=\"https://colab.research.google.com/assets/colab-badge.svg\" alt=\"Open In Colab\"/></a>"
      ]
    },
    {
      "cell_type": "markdown",
      "metadata": {
        "id": "hJc8vUg_78Bd"
      },
      "source": [
        "**Ejercicio de práctica**\n",
        "\n",
        "---\n",
        " Se les pide a la analista realizar una estimación poblacional a partir de informacion descriptiva relevante sobre la pobalción de los paises de vía de desarrollo.\n",
        "\n",
        "Para ello de inicio se solicita que se cree un programa que permita ingresar como prueba 5 paises y su respectiva población e identificar  que país tiene la mayor cantidad de habitantes.\n"
      ]
    },
    {
      "cell_type": "code",
      "metadata": {
        "colab": {
          "base_uri": "https://localhost:8080/"
        },
        "id": "3P77HRk_A9Ak",
        "outputId": "66bddcd3-f4b5-44a5-a427-0ce037885988"
      },
      "source": [
        "def poblacion():\n",
        "  pais=[]\n",
        "  for i in range(5):\n",
        "     nombre = input(\"ingresa el nombre del pais:  \")\n",
        "     cant= int(input(\"ingrese la cantidad de habitantes:  \"))\n",
        "     pais.append((nombre,cant))\n",
        "  return pais\n",
        "\n",
        "def view(pais):\n",
        "  print(\"habitantes por país: \")\n",
        "  for x in range(len(pais)):  #para separar cada elemento de la lista\n",
        "    print(pais[x][0], pais[x][1])\n",
        "\n",
        "def mayor(pais):\n",
        "  p=0\n",
        "  for x in range(1,len(pais)):\n",
        "    if pais[x][1]>pais[p][1]:\n",
        "      pos=x\n",
        "  print(\"el país con la más alta población registrada es:  \",pais[pos][0])\n",
        "\n",
        "pais=poblacion() \n",
        "view(pais)\n",
        "mayor(pais)\n"
      ],
      "execution_count": 13,
      "outputs": [
        {
          "output_type": "stream",
          "text": [
            "ingresa el nombre del pais:  Colombia\n",
            "ingrese la cantidad de habitantes:  2000\n",
            "ingresa el nombre del pais:  Peru\n",
            "ingrese la cantidad de habitantes:  3500\n",
            "ingresa el nombre del pais:  Alemania\n",
            "ingrese la cantidad de habitantes:  5000\n",
            "ingresa el nombre del pais:  Panama\n",
            "ingrese la cantidad de habitantes:  1000\n",
            "ingresa el nombre del pais:  Chile\n",
            "ingrese la cantidad de habitantes:  4000\n",
            "habitantes por país: \n",
            "Colombia 2000\n",
            "Peru 3500\n",
            "Alemania 5000\n",
            "Panama 1000\n",
            "Chile 4000\n",
            "el país con la más alta población registrada es:   Chile\n"
          ],
          "name": "stdout"
        }
      ]
    },
    {
      "cell_type": "markdown",
      "metadata": {
        "id": "GHKP5gqME86L"
      },
      "source": [
        "**Taller 2**\n",
        "\n",
        "---\n",
        "Se solicita realizar un programa que permita identificar el nivel de cumplimiento del area de ventas de la empresa AVA. Entre los principales requerimientos se encuentran los siguientes:\n",
        "1. Permita ingresar la cantidad de vendedores del area de ventas.\n",
        "2. permita ingresar la puntuación por cada uno de ellos(escala de 1-el peor a 10-el mejor).\n",
        "3. el programa debe permitir identificar el vendedor con peor rendimiento y mejor rendimiento\n",
        "4. Obtener el promedio general del nivel de cumplimiento del area de ventas.\n",
        "\n",
        "NOTA: si hay empate en la puntuación para definir el primer y ultimo puesto, se define por orden alfabetico.\n"
      ]
    }
  ]
}