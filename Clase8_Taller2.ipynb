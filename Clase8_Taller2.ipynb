{
  "nbformat": 4,
  "nbformat_minor": 0,
  "metadata": {
    "colab": {
      "name": "Clase8_Taller2.ipynb",
      "provenance": [],
      "authorship_tag": "ABX9TyPK8WKh9Vnfb4srDKWL2QVJ",
      "include_colab_link": true
    },
    "kernelspec": {
      "name": "python3",
      "display_name": "Python 3"
    },
    "language_info": {
      "name": "python"
    }
  },
  "cells": [
    {
      "cell_type": "markdown",
      "metadata": {
        "id": "view-in-github",
        "colab_type": "text"
      },
      "source": [
        "<a href=\"https://colab.research.google.com/github/ANGIECATHERINEP/MujerDigital/blob/main/Clase8_Taller2.ipynb\" target=\"_parent\"><img src=\"https://colab.research.google.com/assets/colab-badge.svg\" alt=\"Open In Colab\"/></a>"
      ]
    },
    {
      "cell_type": "markdown",
      "metadata": {
        "id": "hJc8vUg_78Bd"
      },
      "source": [
        "**Ejercicio de práctica**\n",
        "\n",
        "---\n",
        " Se les pide a la analista realizar una estimación poblacional a partir de informacion descriptiva relevante sobre la pobalción de los paises de vía de desarrollo.\n",
        "\n",
        "Para ello de inicio se solicita que se cree un programa que permita ingresar como prueba 5 paises y su respectiva población e identificar  que país tiene la mayor cantidad de habitantes.\n"
      ]
    },
    {
      "cell_type": "code",
      "metadata": {
        "colab": {
          "base_uri": "https://localhost:8080/"
        },
        "id": "3P77HRk_A9Ak",
        "outputId": "66bddcd3-f4b5-44a5-a427-0ce037885988"
      },
      "source": [
        "def poblacion():\n",
        "  pais=[]\n",
        "  for i in range(5):\n",
        "     nombre = input(\"ingresa el nombre del pais:  \")\n",
        "     cant= int(input(\"ingrese la cantidad de habitantes:  \"))\n",
        "     pais.append((nombre,cant))\n",
        "  return pais\n",
        "\n",
        "def view(pais):\n",
        "  print(\"habitantes por país: \")\n",
        "  for x in range(len(pais)):  #para separar cada elemento de la lista\n",
        "    print(pais[x][0], pais[x][1])\n",
        "\n",
        "def mayor(pais):\n",
        "  p=0\n",
        "  for x in range(1,len(pais)):\n",
        "    if pais[x][1]>pais[p][1]:\n",
        "      pos=x\n",
        "  print(\"el país con la más alta población registrada es:  \",pais[pos][0])\n",
        "\n",
        "pais=poblacion() \n",
        "view(pais)\n",
        "mayor(pais)\n"
      ],
      "execution_count": 13,
      "outputs": [
        {
          "output_type": "stream",
          "text": [
            "ingresa el nombre del pais:  Colombia\n",
            "ingrese la cantidad de habitantes:  2000\n",
            "ingresa el nombre del pais:  Peru\n",
            "ingrese la cantidad de habitantes:  3500\n",
            "ingresa el nombre del pais:  Alemania\n",
            "ingrese la cantidad de habitantes:  5000\n",
            "ingresa el nombre del pais:  Panama\n",
            "ingrese la cantidad de habitantes:  1000\n",
            "ingresa el nombre del pais:  Chile\n",
            "ingrese la cantidad de habitantes:  4000\n",
            "habitantes por país: \n",
            "Colombia 2000\n",
            "Peru 3500\n",
            "Alemania 5000\n",
            "Panama 1000\n",
            "Chile 4000\n",
            "el país con la más alta población registrada es:   Chile\n"
          ],
          "name": "stdout"
        }
      ]
    },
    {
      "cell_type": "code",
      "metadata": {
        "colab": {
          "base_uri": "https://localhost:8080/"
        },
        "id": "ORF23RBzGMfz",
        "outputId": "708bbdb4-e5fa-482f-bb31-750ddf1a285c"
      },
      "source": [
        "se=[1,10,7,9,3,15]\n",
        "sorted(se)  #ordena los elementos de la lista"
      ],
      "execution_count": 14,
      "outputs": [
        {
          "output_type": "execute_result",
          "data": {
            "text/plain": [
              "[1, 3, 7, 9, 10, 15]"
            ]
          },
          "metadata": {
            "tags": []
          },
          "execution_count": 14
        }
      ]
    },
    {
      "cell_type": "markdown",
      "metadata": {
        "id": "GHKP5gqME86L"
      },
      "source": [
        "**Taller 2**\n",
        "\n",
        "---\n",
        "Se solicita realizar un programa que permita identificar el nivel de cumplimiento del area de ventas de la empresa AVA. Entre los principales requerimientos se encuentran los siguientes:\n",
        "1. Permita ingresar la cantidad de vendedores del área de ventas.\n",
        "2. permita ingresar la puntuación por cada uno de ellos(escala de 1-el peor a 10-el mejor).\n",
        "3. el programa debe permitir identificar el vendedor con peor rendimiento y mejor rendimiento\n",
        "4. Obtener el promedio general del nivel de cumplimiento del area de ventas.\n",
        "\n",
        "**NOTA:** si hay empate en la puntuación para definir el primer y ultimo puesto, se define por orden alfabetico.\n"
      ]
    },
    {
      "cell_type": "code",
      "metadata": {
        "colab": {
          "base_uri": "https://localhost:8080/"
        },
        "id": "eHujk4WmHg4s",
        "outputId": "b68ce6fc-7d24-49e9-fedf-0728a3d8bf94"
      },
      "source": [
        "def cantvend():\n",
        "   vendedor=[]\n",
        "   c =int(input(\"Ingrese la cantidad de vendedores del área de venta: \"))\n",
        "   for i in range(c):\n",
        "      vend= input(\"ingrese el nombre del vendedor: \")\n",
        "      puntuacion=int(input(\"Ingrese la puntuación (escala de 1 al 10): \"))\n",
        "      vendedor.append((vend,puntuacion))\n",
        "   return vendedor\n",
        "\n",
        "def viewvend(vendedor):\n",
        "   print(\" \")\n",
        "   print(\"puntuacion de cada vendedor: \")\n",
        "   print(\" \")\n",
        "   for x in range(len(vendedor)): \n",
        "      print(vendedor[x][0], vendedor[x][1])\n",
        "\n",
        "\n",
        "vendedor=cantvend()\n",
        "viewvend(vendedor)"
      ],
      "execution_count": 38,
      "outputs": [
        {
          "output_type": "stream",
          "text": [
            "Ingrese la cantidad de vendedores del área de venta: 3\n",
            "ingrese el nombre del vendedor: fgkgmgk\n",
            "Ingrese la puntuación (escala de 1 al 10): 5\n",
            "ingrese el nombre del vendedor: ghggh\n",
            "Ingrese la puntuación (escala de 1 al 10): 6\n",
            "ingrese el nombre del vendedor: ghggh\n",
            "Ingrese la puntuación (escala de 1 al 10): 8\n",
            "puntuacion de cada vendedor: \n",
            " \n",
            "fgkgmgk 5\n",
            "ghggh 6\n",
            "ghggh 8\n"
          ],
          "name": "stdout"
        }
      ]
    }
  ]
}