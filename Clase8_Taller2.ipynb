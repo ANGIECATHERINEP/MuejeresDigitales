{
  "nbformat": 4,
  "nbformat_minor": 0,
  "metadata": {
    "colab": {
      "name": "Clase8_Taller2.ipynb",
      "provenance": [],
      "authorship_tag": "ABX9TyMKOxd0M7RKkuz6R5EiXN0K",
      "include_colab_link": true
    },
    "kernelspec": {
      "name": "python3",
      "display_name": "Python 3"
    },
    "language_info": {
      "name": "python"
    }
  },
  "cells": [
    {
      "cell_type": "markdown",
      "metadata": {
        "id": "view-in-github",
        "colab_type": "text"
      },
      "source": [
        "<a href=\"https://colab.research.google.com/github/ANGIECATHERINEP/MujerDigital/blob/main/Clase8_Taller2.ipynb\" target=\"_parent\"><img src=\"https://colab.research.google.com/assets/colab-badge.svg\" alt=\"Open In Colab\"/></a>"
      ]
    },
    {
      "cell_type": "markdown",
      "metadata": {
        "id": "hJc8vUg_78Bd"
      },
      "source": [
        "**Ejercicio de práctica**\n",
        "\n",
        "---\n",
        " Se les pide a la analista realizar una estimación poblacional a partir de informacion descriptiva relevante sobre la pobalción de los paises de vía de desarrollo.\n",
        "\n",
        "Para ello de inicio se solicita que se cree un programa que permita ingresar como prueba 5 paises y su respectiva población e identificar  que país tiene la mayor cantidad de habitantes.\n"
      ]
    },
    {
      "cell_type": "code",
      "metadata": {
        "colab": {
          "base_uri": "https://localhost:8080/"
        },
        "id": "3P77HRk_A9Ak",
        "outputId": "bc72f261-9677-4ed4-dcbf-a4f9664f8f44"
      },
      "source": [
        "def poblacion():\n",
        "  pais=[]\n",
        "  for i in range(5):\n",
        "     nombre = input(\"ingresa el nombre del pais:  \")\n",
        "     cant= int(input(\"ingrese la cantidad de habitantes:  \"))\n",
        "     pais.append((nombre,cant))\n",
        "  return pais\n",
        "\n",
        "def view(pais):\n",
        "  print(\"habitantes por país: \")\n",
        "  for x in range(len(pais)):  #para separar cada elemento de la lista\n",
        "    print(pais[x][0], pais[x][1])\n",
        "\n",
        "def mayor(pais):\n",
        "  p=0\n",
        "  for x in range(1,len(pais)):\n",
        "    if pais[x][1]>pais[p][1]:\n",
        "      p=x\n",
        "  print(\"el país con la más alta población registrada es:  \",pais[p][0])\n",
        "\n",
        "pais=poblacion() \n",
        "view(pais)\n",
        "mayor(pais)\n"
      ],
      "execution_count": null,
      "outputs": [
        {
          "output_type": "stream",
          "text": [
            "ingresa el nombre del pais:  colombia\n",
            "ingrese la cantidad de habitantes:  52000\n",
            "ingresa el nombre del pais:  chile\n",
            "ingrese la cantidad de habitantes:  8000\n",
            "ingresa el nombre del pais:  inglaterra\n",
            "ingrese la cantidad de habitantes:  7500\n",
            "ingresa el nombre del pais:  suecia\n",
            "ingrese la cantidad de habitantes:  9520\n",
            "ingresa el nombre del pais:  francia\n",
            "ingrese la cantidad de habitantes:  8410\n",
            "habitantes por país: \n",
            "colombia 52000\n",
            "chile 8000\n",
            "inglaterra 7500\n",
            "suecia 9520\n",
            "francia 8410\n",
            "el país con la más alta población registrada es:   colombia\n"
          ],
          "name": "stdout"
        }
      ]
    },
    {
      "cell_type": "code",
      "metadata": {
        "colab": {
          "base_uri": "https://localhost:8080/"
        },
        "id": "ORF23RBzGMfz",
        "outputId": "708bbdb4-e5fa-482f-bb31-750ddf1a285c"
      },
      "source": [
        "se=[1,10,7,9,3,15]\n",
        "sorted(se)  #ordena los elementos de la lista"
      ],
      "execution_count": null,
      "outputs": [
        {
          "output_type": "execute_result",
          "data": {
            "text/plain": [
              "[1, 3, 7, 9, 10, 15]"
            ]
          },
          "metadata": {
            "tags": []
          },
          "execution_count": 14
        }
      ]
    },
    {
      "cell_type": "markdown",
      "metadata": {
        "id": "GHKP5gqME86L"
      },
      "source": [
        "**Taller 2**\n",
        "\n",
        "---\n",
        "Se solicita realizar un programa que permita identificar el nivel de cumplimiento del area de ventas de la empresa AVA. Entre los principales requerimientos se encuentran los siguientes:\n",
        "1. Permita ingresar la cantidad de vendedores del área de ventas.\n",
        "2. permita ingresar la puntuación por cada uno de ellos(escala de 1-el peor a 10-el mejor).\n",
        "3. el programa debe permitir identificar el vendedor con peor rendimiento y mejor rendimiento\n",
        "4. Obtener el promedio general del nivel de cumplimiento del area de ventas.\n",
        "\n",
        "**NOTA:** si hay empate en la puntuación para definir el primer y ultimo puesto, se define por orden alfabetico.\n"
      ]
    },
    {
      "cell_type": "code",
      "metadata": {
        "colab": {
          "base_uri": "https://localhost:8080/"
        },
        "id": "eHujk4WmHg4s",
        "outputId": "dbbb2822-e794-4082-e80f-b173990ddc81"
      },
      "source": [
        "print(\"                   Empresa AVA\")\n",
        "print(\" \")\n",
        "def cantvend():\n",
        "   vendedor=[]\n",
        "   n=0\n",
        "   c =int(input(\"Ingrese la cantidad de vendedores del área de venta: \"))\n",
        "   for i in range(c):\n",
        "      n=str(i+1)\n",
        "      vend= input(\"ingrese el nombre del vendedor \"+n+\" es: \")\n",
        "      puntuacion=int(input(\"Ingrese su puntuación (escala de 1 al 10): \"))\n",
        "      vendedor.append((vend,puntuacion))\n",
        "   return vendedor\n",
        "\n",
        "def viewvend(vendedor):\n",
        "   print(\" \")\n",
        "   print(\"puntuación de cada vendedor: \")\n",
        "   print(\" \")\n",
        "   ord=sorted(vendedor, key=lambda sub:(sub[1], sub[0]))\n",
        "   for x in range(len(ord)):       \n",
        "      print(ord[x][0], ord[x][1])\n",
        "\n",
        "\n",
        "def mayormenor(vendedor):\n",
        "  p=0\n",
        "  w=0\n",
        "  for x in range(1,len(vendedor)):\n",
        "    if vendedor[x][1]>vendedor[p][1]:\n",
        "      p=x\n",
        "    if vendedor[x][1]<vendedor[w][1]:\n",
        "      w=x\n",
        "  print(\" \")\n",
        "  print(\"El vendedor con el mejor rendimiento es:  \",vendedor[p][0])\n",
        "  print(\"El vendedor con el menor rendimiento es:  \",vendedor[w][0])\n",
        "\n",
        "\n",
        "def promedio(vendedor):\n",
        "  suma=0\n",
        "  for x in range(0,len(vendedor)):\n",
        "     suma=suma+vendedor[x][1]\n",
        "  prom=suma/len(vendedor)\n",
        "  print(\"el promedio general del nivel de cumplimiento del area de ventas es:  \",prom)\n",
        "\n",
        "vendedor=cantvend()\n",
        "viewvend(vendedor)\n",
        "mayormenor(vendedor)\n",
        "promedio(vendedor)"
      ],
      "execution_count": 16,
      "outputs": [
        {
          "output_type": "stream",
          "text": [
            "                   Empresa AVA\n",
            " \n",
            "Ingrese la cantidad de vendedores del área de venta: 5\n",
            "ingrese el nombre del vendedor 1 es: Daniel\n",
            "Ingrese su puntuación (escala de 1 al 10): 6\n",
            "ingrese el nombre del vendedor 2 es: Natalia\n",
            "Ingrese su puntuación (escala de 1 al 10): 8\n",
            "ingrese el nombre del vendedor 3 es: Diego\n",
            "Ingrese su puntuación (escala de 1 al 10): 6\n",
            "ingrese el nombre del vendedor 4 es: Andrea\n",
            "Ingrese su puntuación (escala de 1 al 10): 9\n",
            "ingrese el nombre del vendedor 5 es: Fabian\n",
            "Ingrese su puntuación (escala de 1 al 10): 2\n",
            " \n",
            "puntuación de cada vendedor: \n",
            " \n",
            "Fabian 2\n",
            "Daniel 6\n",
            "Diego 6\n",
            "Natalia 8\n",
            "Andrea 9\n",
            " \n",
            "El vendedor con el mejor rendimiento es:   Andrea\n",
            "El vendedor con el menor rendimiento es:   Fabian\n",
            "el promedio general del nivel de cumplimiento del area de ventas es:   6.2\n"
          ],
          "name": "stdout"
        }
      ]
    }
  ]
}