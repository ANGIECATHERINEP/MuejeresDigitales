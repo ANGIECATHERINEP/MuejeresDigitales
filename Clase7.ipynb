{
  "nbformat": 4,
  "nbformat_minor": 0,
  "metadata": {
    "colab": {
      "name": "Clase7.ipynb",
      "provenance": [],
      "authorship_tag": "ABX9TyPsiIauz7wKkRR4yVbvptvt",
      "include_colab_link": true
    },
    "kernelspec": {
      "name": "python3",
      "display_name": "Python 3"
    },
    "language_info": {
      "name": "python"
    }
  },
  "cells": [
    {
      "cell_type": "markdown",
      "metadata": {
        "id": "view-in-github",
        "colab_type": "text"
      },
      "source": [
        "<a href=\"https://colab.research.google.com/github/ANGIECATHERINEP/MujerDigital/blob/main/Clase7.ipynb\" target=\"_parent\"><img src=\"https://colab.research.google.com/assets/colab-badge.svg\" alt=\"Open In Colab\"/></a>"
      ]
    },
    {
      "cell_type": "markdown",
      "metadata": {
        "id": "0yul6Perv6nt"
      },
      "source": [
        "***Continuación de funciones***\n",
        "\n",
        "---\n",
        "\n",
        "\n",
        "\n",
        "---\n",
        "\n"
      ]
    },
    {
      "cell_type": "code",
      "metadata": {
        "colab": {
          "base_uri": "https://localhost:8080/"
        },
        "id": "vCDvjlWZzUg0",
        "outputId": "bfd9441f-13b9-4491-b25c-4c58530907ae"
      },
      "source": [
        "def suma(a,b,c,d=3): #cuando se coloco al final la variable fija\n",
        "  return a+b+c+d\n",
        "suma(2,3,4)"
      ],
      "execution_count": 4,
      "outputs": [
        {
          "output_type": "execute_result",
          "data": {
            "text/plain": [
              "12"
            ]
          },
          "metadata": {
            "tags": []
          },
          "execution_count": 4
        }
      ]
    },
    {
      "cell_type": "code",
      "metadata": {
        "colab": {
          "base_uri": "https://localhost:8080/"
        },
        "id": "nS3TFFyIz-fx",
        "outputId": "932c28c7-3c95-4bf6-b3ce-83fac233234d"
      },
      "source": [
        "def suma(*number):  # *--para convertirlo en tipo tupla / para no colocar al cerrar la función suma [] /para ampliar la longitud\n",
        "  print(type(number))  #para visualizar el tipo de dato\n",
        "  total  =0\n",
        "  for i in number:\n",
        "     total +=i\n",
        "  return total\n",
        "suma(2,3,5,4)   #definiendo variables "
      ],
      "execution_count": 6,
      "outputs": [
        {
          "output_type": "stream",
          "text": [
            "<class 'tuple'>\n"
          ],
          "name": "stdout"
        },
        {
          "output_type": "execute_result",
          "data": {
            "text/plain": [
              "14"
            ]
          },
          "metadata": {
            "tags": []
          },
          "execution_count": 6
        }
      ]
    },
    {
      "cell_type": "code",
      "metadata": {
        "colab": {
          "base_uri": "https://localhost:8080/"
        },
        "id": "Vg6S6yj-0PQo",
        "outputId": "2f64f751-eeeb-4043-db04-b9ab1ec0f111"
      },
      "source": [
        "suma(1,2,5,6,7,9)  #Se ha aumentado la longitud porque en el código anterior se añadio el * en number"
      ],
      "execution_count": 8,
      "outputs": [
        {
          "output_type": "stream",
          "text": [
            "<class 'tuple'>\n"
          ],
          "name": "stdout"
        },
        {
          "output_type": "execute_result",
          "data": {
            "text/plain": [
              "30"
            ]
          },
          "metadata": {
            "tags": []
          },
          "execution_count": 8
        }
      ]
    },
    {
      "cell_type": "markdown",
      "metadata": {
        "id": "qKNE-IPH2ZyJ"
      },
      "source": [
        "El uso del (**) \n",
        "\n",
        "---\n",
        "El uso del doble * nos permite tener como parametro de entrada una lista de elementos en forma clave y valor. La forma de iterar sera usando el comando *item() \n"
      ]
    },
    {
      "cell_type": "code",
      "metadata": {
        "colab": {
          "base_uri": "https://localhost:8080/"
        },
        "id": "5zwLJvKt24yk",
        "outputId": "4798a8d7-731d-48a4-85e4-63a0cd2defe3"
      },
      "source": [
        "def suma(**dado):  #define valores como tipo lista\n",
        "  suma=0\n",
        "  for i,j in dado.items():\n",
        "    suma +=j\n",
        "  return suma\n",
        "\n",
        "suma(a=3, d=30, c=7) "
      ],
      "execution_count": 9,
      "outputs": [
        {
          "output_type": "execute_result",
          "data": {
            "text/plain": [
              "40"
            ]
          },
          "metadata": {
            "tags": []
          },
          "execution_count": 9
        }
      ]
    },
    {
      "cell_type": "markdown",
      "metadata": {
        "id": "kqu4Knkc37R2"
      },
      "source": [
        "**Ampliemos la definicIón del comando RETURN**\n",
        "\n",
        "---\n",
        "\n",
        "1. Devolvor parámetros:\n"
      ]
    },
    {
      "cell_type": "code",
      "metadata": {
        "colab": {
          "base_uri": "https://localhost:8080/",
          "height": 35
        },
        "id": "KDuRAkzc4W60",
        "outputId": "cddb6523-0d1c-4540-822d-2c4936905990"
      },
      "source": [
        "def w():\n",
        "  return \"HI\"\n",
        "w()"
      ],
      "execution_count": 10,
      "outputs": [
        {
          "output_type": "execute_result",
          "data": {
            "application/vnd.google.colaboratory.intrinsic+json": {
              "type": "string"
            },
            "text/plain": [
              "'HI'"
            ]
          },
          "metadata": {
            "tags": []
          },
          "execution_count": 10
        }
      ]
    },
    {
      "cell_type": "markdown",
      "metadata": {
        "id": "6QGQgaSi4oZo"
      },
      "source": [
        "2. Devolver varias variables:"
      ]
    },
    {
      "cell_type": "code",
      "metadata": {
        "colab": {
          "base_uri": "https://localhost:8080/"
        },
        "id": "8xOcqHC74whr",
        "outputId": "af30c0c4-2ff2-4983-e318-060560262718"
      },
      "source": [
        "def sd(a,b,c):\n",
        "  q = a+b+c  #declaración de variable con una suma de arg\n",
        "  z = q/3    #declaraión variables con el promedio\n",
        "  return q,z\n",
        "q,z = sd(2,4,6)\n",
        "print(q)\n",
        "print(z)\n"
      ],
      "execution_count": 11,
      "outputs": [
        {
          "output_type": "stream",
          "text": [
            "12\n",
            "4.0\n"
          ],
          "name": "stdout"
        }
      ]
    },
    {
      "cell_type": "markdown",
      "metadata": {
        "id": "MF1EEfib5mpN"
      },
      "source": [
        "**Formas de hacer documentación en programación y por bloques de código o línea**\n",
        "\n",
        "---\n",
        "Se utiliza la triple comilla **(\"\"\")** para comentariar en el código\n",
        "\n",
        "\n",
        "\n",
        "\n"
      ]
    },
    {
      "cell_type": "code",
      "metadata": {
        "colab": {
          "base_uri": "https://localhost:8080/"
        },
        "id": "HA4L_9ns59Ru",
        "outputId": "2cfaf32e-307b-43e5-9706-51126126846c"
      },
      "source": [
        "def paula(a,b):\n",
        "  \"\"\"\n",
        "  Descripción de la función, los parametros que se van a usar, explicar como se usa y que operaciones devuelve esta función (docstring)\n",
        "  \"\"\"\n",
        "  return a+b\n",
        "paula(2,3)"
      ],
      "execution_count": 15,
      "outputs": [
        {
          "output_type": "execute_result",
          "data": {
            "text/plain": [
              "5"
            ]
          },
          "metadata": {
            "tags": []
          },
          "execution_count": 15
        }
      ]
    },
    {
      "cell_type": "markdown",
      "metadata": {
        "id": "bZMcHCuU66Kw"
      },
      "source": [
        "con ayuda de **HELP()** se puede visualizar como esta estruturado el comentario de la función"
      ]
    },
    {
      "cell_type": "code",
      "metadata": {
        "colab": {
          "base_uri": "https://localhost:8080/"
        },
        "id": "PKwFz95e66br",
        "outputId": "1cbd02be-eb19-4a6b-d7cd-fe8aef20b8f5"
      },
      "source": [
        "help(paula)"
      ],
      "execution_count": 16,
      "outputs": [
        {
          "output_type": "stream",
          "text": [
            "Help on function paula in module __main__:\n",
            "\n",
            "paula(a, b)\n",
            "    Descripción de la función, los parametros que se van a usar, explicar como se usa y que operaciones devuelve esta función (docstring)\n",
            "\n"
          ],
          "name": "stdout"
        }
      ]
    },
    {
      "cell_type": "markdown",
      "metadata": {
        "id": "SsRG3Lei7iDU"
      },
      "source": [
        "otra forma de llamar el comentario es **print** nombre de la función seguido de punto seguido y doble guión bajo escribir doc y seguido doble guión bajo"
      ]
    },
    {
      "cell_type": "code",
      "metadata": {
        "colab": {
          "base_uri": "https://localhost:8080/"
        },
        "id": "_UK2DMIR7ih3",
        "outputId": "3c5ef73e-6ed0-401b-f262-79ab7e5c3327"
      },
      "source": [
        "print(paula.__doc__)"
      ],
      "execution_count": 17,
      "outputs": [
        {
          "output_type": "stream",
          "text": [
            "\n",
            "  Descripción de la función, los parametros que se van a usar, explicar como se usa y que operaciones devuelve esta función (docstring)\n",
            "  \n"
          ],
          "name": "stdout"
        }
      ]
    },
    {
      "cell_type": "markdown",
      "metadata": {
        "id": "tBLhjeez8fNw"
      },
      "source": [
        "-"
      ]
    },
    {
      "cell_type": "markdown",
      "metadata": {
        "id": "J2y15CKJ8Qul"
      },
      "source": [
        "**Diferencia entre valores y referencias**\n",
        "\n",
        "---\n",
        "\n",
        "Existen dos conceptos de paso por *valor* y por *referencia*, que se aplica a la hora de tratar a los parametros de entrada de una función:\n",
        "\n",
        "1Si se usa un parametro por valor, se cra una copia local de la variable, lo cual implica que cualquier modificación sobre esta no tendra repercuciones sobre  la base original.\n",
        "\n",
        "2. Si la variable pasa como referencia si actuará directamente sobre la base original.\n",
        "\n",
        "*Ejemplo de paso por valor*"
      ]
    },
    {
      "cell_type": "code",
      "metadata": {
        "id": "1P6Zix5x8Zw4"
      },
      "source": [
        "x=3\n",
        "def funcion(w):\n",
        "  W=0\n",
        "funcion(x)"
      ],
      "execution_count": 20,
      "outputs": []
    }
  ]
}