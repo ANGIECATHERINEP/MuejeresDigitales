{
  "nbformat": 4,
  "nbformat_minor": 0,
  "metadata": {
    "colab": {
      "name": "Clase7.ipynb",
      "provenance": [],
      "authorship_tag": "ABX9TyNgzIbtlAmDryM/ePMtfT3u",
      "include_colab_link": true
    },
    "kernelspec": {
      "name": "python3",
      "display_name": "Python 3"
    },
    "language_info": {
      "name": "python"
    }
  },
  "cells": [
    {
      "cell_type": "markdown",
      "metadata": {
        "id": "view-in-github",
        "colab_type": "text"
      },
      "source": [
        "<a href=\"https://colab.research.google.com/github/ANGIECATHERINEP/MujerDigital/blob/main/Clase7.ipynb\" target=\"_parent\"><img src=\"https://colab.research.google.com/assets/colab-badge.svg\" alt=\"Open In Colab\"/></a>"
      ]
    },
    {
      "cell_type": "markdown",
      "metadata": {
        "id": "0yul6Perv6nt"
      },
      "source": [
        "***Continuación de funciones***\n",
        "\n",
        "---\n",
        "\n",
        "\n",
        "\n",
        "---\n",
        "\n"
      ]
    },
    {
      "cell_type": "code",
      "metadata": {
        "colab": {
          "base_uri": "https://localhost:8080/"
        },
        "id": "vCDvjlWZzUg0",
        "outputId": "bfd9441f-13b9-4491-b25c-4c58530907ae"
      },
      "source": [
        "def suma(a,b,c,d=3): #cuando se coloco al final la variable fija\n",
        "  return a+b+c+d\n",
        "suma(2,3,4)"
      ],
      "execution_count": 4,
      "outputs": [
        {
          "output_type": "execute_result",
          "data": {
            "text/plain": [
              "12"
            ]
          },
          "metadata": {
            "tags": []
          },
          "execution_count": 4
        }
      ]
    },
    {
      "cell_type": "code",
      "metadata": {
        "colab": {
          "base_uri": "https://localhost:8080/"
        },
        "id": "nS3TFFyIz-fx",
        "outputId": "932c28c7-3c95-4bf6-b3ce-83fac233234d"
      },
      "source": [
        "def suma(*number):  # *--para convertirlo en tipo tupla / para no colocar al cerrar la función suma [] /para ampliar la longitud\n",
        "  print(type(number))  #para visualizar el tipo de dato\n",
        "  total  =0\n",
        "  for i in number:\n",
        "     total +=i\n",
        "  return total\n",
        "suma(2,3,5,4)   #definiendo variables "
      ],
      "execution_count": 6,
      "outputs": [
        {
          "output_type": "stream",
          "text": [
            "<class 'tuple'>\n"
          ],
          "name": "stdout"
        },
        {
          "output_type": "execute_result",
          "data": {
            "text/plain": [
              "14"
            ]
          },
          "metadata": {
            "tags": []
          },
          "execution_count": 6
        }
      ]
    },
    {
      "cell_type": "code",
      "metadata": {
        "colab": {
          "base_uri": "https://localhost:8080/"
        },
        "id": "Vg6S6yj-0PQo",
        "outputId": "2f64f751-eeeb-4043-db04-b9ab1ec0f111"
      },
      "source": [
        "suma(1,2,5,6,7,9)  #Se ha aumentado la longitud porque en el código anterior se añadio el * en number"
      ],
      "execution_count": 8,
      "outputs": [
        {
          "output_type": "stream",
          "text": [
            "<class 'tuple'>\n"
          ],
          "name": "stdout"
        },
        {
          "output_type": "execute_result",
          "data": {
            "text/plain": [
              "30"
            ]
          },
          "metadata": {
            "tags": []
          },
          "execution_count": 8
        }
      ]
    },
    {
      "cell_type": "markdown",
      "metadata": {
        "id": "qKNE-IPH2ZyJ"
      },
      "source": [
        "El uso del (**) \n",
        "\n",
        "---\n",
        "El uso del doble * nos permite tener como parametro de entrada una lista de elementos en forma clave y valor. La forma de iterar sera usando el comando *item() \n"
      ]
    },
    {
      "cell_type": "code",
      "metadata": {
        "colab": {
          "base_uri": "https://localhost:8080/"
        },
        "id": "5zwLJvKt24yk",
        "outputId": "4798a8d7-731d-48a4-85e4-63a0cd2defe3"
      },
      "source": [
        "def suma(**dado):  #define valores como tipo lista\n",
        "  suma=0\n",
        "  for i,j in dado.items():\n",
        "    suma +=j\n",
        "  return suma\n",
        "\n",
        "suma(a=3, d=30, c=7) "
      ],
      "execution_count": 9,
      "outputs": [
        {
          "output_type": "execute_result",
          "data": {
            "text/plain": [
              "40"
            ]
          },
          "metadata": {
            "tags": []
          },
          "execution_count": 9
        }
      ]
    },
    {
      "cell_type": "markdown",
      "metadata": {
        "id": "kqu4Knkc37R2"
      },
      "source": [
        "**Ampliemos la definicIón del comando RETURN**\n",
        "\n",
        "---\n",
        "\n",
        "1. Devolvor parámetros:\n"
      ]
    },
    {
      "cell_type": "code",
      "metadata": {
        "colab": {
          "base_uri": "https://localhost:8080/",
          "height": 35
        },
        "id": "KDuRAkzc4W60",
        "outputId": "cddb6523-0d1c-4540-822d-2c4936905990"
      },
      "source": [
        "def w():\n",
        "  return \"HI\"\n",
        "w()"
      ],
      "execution_count": 10,
      "outputs": [
        {
          "output_type": "execute_result",
          "data": {
            "application/vnd.google.colaboratory.intrinsic+json": {
              "type": "string"
            },
            "text/plain": [
              "'HI'"
            ]
          },
          "metadata": {
            "tags": []
          },
          "execution_count": 10
        }
      ]
    },
    {
      "cell_type": "markdown",
      "metadata": {
        "id": "6QGQgaSi4oZo"
      },
      "source": [
        "2. Devolver varias variables:"
      ]
    },
    {
      "cell_type": "code",
      "metadata": {
        "colab": {
          "base_uri": "https://localhost:8080/"
        },
        "id": "8xOcqHC74whr",
        "outputId": "af30c0c4-2ff2-4983-e318-060560262718"
      },
      "source": [
        "def sd(a,b,c):\n",
        "  q = a+b+c  #declaración de variable con una suma de arg\n",
        "  z = q/3    #declaraión variables con el promedio\n",
        "  return q,z\n",
        "q,z = sd(2,4,6)\n",
        "print(q)\n",
        "print(z)\n"
      ],
      "execution_count": 11,
      "outputs": [
        {
          "output_type": "stream",
          "text": [
            "12\n",
            "4.0\n"
          ],
          "name": "stdout"
        }
      ]
    },
    {
      "cell_type": "markdown",
      "metadata": {
        "id": "MF1EEfib5mpN"
      },
      "source": [
        "**Formas de hacer documentación en programación y por bloques de código o línea**\n",
        "\n",
        "---\n",
        "Se utiliza la triple comilla **(\"\"\")** para comentariar en el código\n",
        "\n",
        "\n",
        "\n",
        "\n"
      ]
    },
    {
      "cell_type": "code",
      "metadata": {
        "colab": {
          "base_uri": "https://localhost:8080/"
        },
        "id": "HA4L_9ns59Ru",
        "outputId": "2cfaf32e-307b-43e5-9706-51126126846c"
      },
      "source": [
        "def paula(a,b):\n",
        "  \"\"\"\n",
        "  Descripción de la función, los parametros que se van a usar, explicar como se usa y que operaciones devuelve esta función (docstring)\n",
        "  \"\"\"\n",
        "  return a+b\n",
        "paula(2,3)"
      ],
      "execution_count": 15,
      "outputs": [
        {
          "output_type": "execute_result",
          "data": {
            "text/plain": [
              "5"
            ]
          },
          "metadata": {
            "tags": []
          },
          "execution_count": 15
        }
      ]
    },
    {
      "cell_type": "markdown",
      "metadata": {
        "id": "bZMcHCuU66Kw"
      },
      "source": [
        "con ayuda de **HELP()** se puede visualizar como esta estruturado el comentario de la función"
      ]
    },
    {
      "cell_type": "code",
      "metadata": {
        "colab": {
          "base_uri": "https://localhost:8080/"
        },
        "id": "PKwFz95e66br",
        "outputId": "1cbd02be-eb19-4a6b-d7cd-fe8aef20b8f5"
      },
      "source": [
        "help(paula)"
      ],
      "execution_count": 16,
      "outputs": [
        {
          "output_type": "stream",
          "text": [
            "Help on function paula in module __main__:\n",
            "\n",
            "paula(a, b)\n",
            "    Descripción de la función, los parametros que se van a usar, explicar como se usa y que operaciones devuelve esta función (docstring)\n",
            "\n"
          ],
          "name": "stdout"
        }
      ]
    },
    {
      "cell_type": "markdown",
      "metadata": {
        "id": "SsRG3Lei7iDU"
      },
      "source": [
        "otra forma de llamar el comentario es **print** nombre de la función seguido de punto seguido y doble guión bajo escribir doc y seguido doble guión bajo"
      ]
    },
    {
      "cell_type": "code",
      "metadata": {
        "colab": {
          "base_uri": "https://localhost:8080/"
        },
        "id": "_UK2DMIR7ih3",
        "outputId": "3c5ef73e-6ed0-401b-f262-79ab7e5c3327"
      },
      "source": [
        "print(paula.__doc__)"
      ],
      "execution_count": 17,
      "outputs": [
        {
          "output_type": "stream",
          "text": [
            "\n",
            "  Descripción de la función, los parametros que se van a usar, explicar como se usa y que operaciones devuelve esta función (docstring)\n",
            "  \n"
          ],
          "name": "stdout"
        }
      ]
    },
    {
      "cell_type": "markdown",
      "metadata": {
        "id": "tBLhjeez8fNw"
      },
      "source": [
        "-"
      ]
    },
    {
      "cell_type": "markdown",
      "metadata": {
        "id": "J2y15CKJ8Qul"
      },
      "source": [
        "**Diferencia entre valores y referencias**\n",
        "\n",
        "---\n",
        "\n",
        "Existen dos conceptos de paso por *valor* y por *referencia*, que se aplica a la hora de tratar a los parametros de entrada de una función:\n",
        "\n",
        "1. Si se usa un parametro por valor, se crea una copia local de la variable, lo cual implica que cualquier modificación sobre esta no tendra repercuciones sobre  la base original.\n",
        "\n",
        "2. Si la variable pasa como referencia si actuará directamente sobre la base original.\n",
        "\n",
        "*Ejemplo de paso por valor:*"
      ]
    },
    {
      "cell_type": "code",
      "metadata": {
        "colab": {
          "base_uri": "https://localhost:8080/"
        },
        "id": "1P6Zix5x8Zw4",
        "outputId": "d6175e43-44fa-4d33-ec7d-93a03ff4b265"
      },
      "source": [
        "x=3\n",
        "def funcion(w):\n",
        "  W=0\n",
        "funcion(x)  #se escoje los valores de x por que w no tiene ninguno\n",
        "print(x)"
      ],
      "execution_count": 21,
      "outputs": [
        {
          "output_type": "stream",
          "text": [
            "3\n"
          ],
          "name": "stdout"
        }
      ]
    },
    {
      "cell_type": "markdown",
      "metadata": {
        "id": "8HeNbkf_-bbE"
      },
      "source": [
        "1. Inicio con x=3\n",
        "2. Se lo pasamos a  funcion()\n",
        "3. Dentro de esta función hacemos que la variable valga 0\n",
        "4. Dado que pasa como valor dentro de función se crea una copia local de x, por lo cual la variable original no se modifica\n",
        "\n",
        "-"
      ]
    },
    {
      "cell_type": "markdown",
      "metadata": {
        "id": "oHH1Vq4u_FTA"
      },
      "source": [
        "*Ejemplo de paso por referencia:*"
      ]
    },
    {
      "cell_type": "code",
      "metadata": {
        "colab": {
          "base_uri": "https://localhost:8080/"
        },
        "id": "yV-zLqQa_Kz4",
        "outputId": "6e0bfda9-0a01-424f-b8dd-fbfa0434cd8f"
      },
      "source": [
        "x = [3,6,9,12]\n",
        "def sw(tipo):\n",
        "  tipo.append(50)  #append es adición de variables\n",
        "sw(x)\n",
        "print(x)"
      ],
      "execution_count": 22,
      "outputs": [
        {
          "output_type": "stream",
          "text": [
            "[3, 6, 9, 12, 50]\n"
          ],
          "name": "stdout"
        }
      ]
    },
    {
      "cell_type": "markdown",
      "metadata": {
        "id": "6f_X_j5HBjBN"
      },
      "source": [
        "# **TIPOS DE FUNCIONES**\n",
        "\n",
        "\n",
        "\n",
        "---\n",
        "\n",
        "\n"
      ]
    },
    {
      "cell_type": "markdown",
      "metadata": {
        "id": "OHivJZNqB07E"
      },
      "source": [
        "**1. Funciones lambda**\n",
        "\n",
        "---\n",
        "\n",
        "\n",
        "\n",
        "Son funciones que normalmente se usan para definir el código en una sola línea.\n"
      ]
    },
    {
      "cell_type": "code",
      "metadata": {
        "colab": {
          "base_uri": "https://localhost:8080/"
        },
        "id": "kx4faVTf_3yI",
        "outputId": "2b83f1a0-823c-4708-aade-2cbe1a7de294"
      },
      "source": [
        "(lambda a,b,c,d: a+b+c+d )(1,2,3,4)"
      ],
      "execution_count": 24,
      "outputs": [
        {
          "output_type": "execute_result",
          "data": {
            "text/plain": [
              "10"
            ]
          },
          "metadata": {
            "tags": []
          },
          "execution_count": 24
        }
      ]
    },
    {
      "cell_type": "code",
      "metadata": {
        "colab": {
          "base_uri": "https://localhost:8080/"
        },
        "id": "ugFIuTrYCrKw",
        "outputId": "55a0bccd-e524-4434-c828-a958c3dc8e3f"
      },
      "source": [
        "(lambda *number:sum(number))(1,4,5,7)  #esta utilizando la función suma con --sum()"
      ],
      "execution_count": 27,
      "outputs": [
        {
          "output_type": "execute_result",
          "data": {
            "text/plain": [
              "17"
            ]
          },
          "metadata": {
            "tags": []
          },
          "execution_count": 27
        }
      ]
    },
    {
      "cell_type": "code",
      "metadata": {
        "colab": {
          "base_uri": "https://localhost:8080/"
        },
        "id": "nIofkrxoEWQL",
        "outputId": "6c2dac86-81de-46ef-8ef3-f941b4b55f5f"
      },
      "source": [
        "(lambda **number:sum(number.values()))(a=1,b=4,c=10)  #values--valores"
      ],
      "execution_count": 28,
      "outputs": [
        {
          "output_type": "execute_result",
          "data": {
            "text/plain": [
              "15"
            ]
          },
          "metadata": {
            "tags": []
          },
          "execution_count": 28
        }
      ]
    },
    {
      "cell_type": "code",
      "metadata": {
        "colab": {
          "base_uri": "https://localhost:8080/"
        },
        "id": "_2YNJMcJEw4Y",
        "outputId": "a9de8ff3-8000-43d9-d9ca-9b724415cee4"
      },
      "source": [
        "luisa=lambda a,b,c,d:(a,b,c,d)\n",
        "print(luisa(2,5,7,9))"
      ],
      "execution_count": 29,
      "outputs": [
        {
          "output_type": "stream",
          "text": [
            "(2, 5, 7, 9)\n"
          ],
          "name": "stdout"
        }
      ]
    },
    {
      "cell_type": "code",
      "metadata": {
        "colab": {
          "base_uri": "https://localhost:8080/"
        },
        "id": "SpE6_3u-FNUR",
        "outputId": "4717c772-c316-4760-b334-f9522ce84b57"
      },
      "source": [
        "luisa=lambda a,b,c,d:a+b+c+d\n",
        "print(luisa(4,5,2,9))"
      ],
      "execution_count": 30,
      "outputs": [
        {
          "output_type": "stream",
          "text": [
            "20\n"
          ],
          "name": "stdout"
        }
      ]
    },
    {
      "cell_type": "markdown",
      "metadata": {
        "id": "-rbRO4E2FtCQ"
      },
      "source": [
        "**Recursividad**\n",
        "\n",
        "\n",
        "---\n",
        "Las caracteristicas de una función recursiva son las siguientes:\n",
        "1. Sección en que se llama a si misma.\n",
        "2. Sección del bloque de código donde este la condición  que implique retornar sin volver a llamarse **IMPORTANTE**.\n",
        "\n",
        "Los ejemplos tradicionales de recursividad son la aplicación de **calculo diferencial** y la serie de **fibunacci**.\n",
        "\n",
        "**1. Aplicación de calculo factorial:**\n",
        "\n",
        "En matemáticas definimos factorial (n!) como la multiplicación de todos los números predecesores hasta llegar a uno\n",
        "\n",
        "*Ejemplo:* 5!= 5x4x3x2x1 "
      ]
    },
    {
      "cell_type": "code",
      "metadata": {
        "colab": {
          "base_uri": "https://localhost:8080/"
        },
        "id": "lwHiFGDuHzXZ",
        "outputId": "75659ac1-d780-486f-97a6-c88c5588b529"
      },
      "source": [
        "def factorial(n): # forma no recursiva\n",
        "  w=1\n",
        "  i=2\n",
        "  while i<=n:\n",
        "    w *=i \n",
        "    i +=1\n",
        "  return w\n",
        "factorial(5)"
      ],
      "execution_count": 31,
      "outputs": [
        {
          "output_type": "execute_result",
          "data": {
            "text/plain": [
              "120"
            ]
          },
          "metadata": {
            "tags": []
          },
          "execution_count": 31
        }
      ]
    },
    {
      "cell_type": "code",
      "metadata": {
        "colab": {
          "base_uri": "https://localhost:8080/"
        },
        "id": "6lmCz8zJI4kM",
        "outputId": "04e83890-7851-45d7-9d45-31479d97edf4"
      },
      "source": [
        "def recursivofac(n):  #forma recursiva\n",
        "  if n==1:\n",
        "    return 1\n",
        "  else:\n",
        "    return n*recursivofac(n-1)  #va a multiplicar todos los números predecesores de 5\n",
        "recursivofac(5)"
      ],
      "execution_count": 33,
      "outputs": [
        {
          "output_type": "execute_result",
          "data": {
            "text/plain": [
              "120"
            ]
          },
          "metadata": {
            "tags": []
          },
          "execution_count": 33
        }
      ]
    },
    {
      "cell_type": "markdown",
      "metadata": {
        "id": "qgs5te32Kdgs"
      },
      "source": [
        "A continuación complementoamos los tipo de gerenadores:\n",
        "\n",
        "1. **Return:** Cuando usamos el *return* nos devuelve la variable.\n",
        "\n",
        "2. **Yield:** devuelve un objeto de clase generador."
      ]
    },
    {
      "cell_type": "code",
      "metadata": {
        "colab": {
          "base_uri": "https://localhost:8080/"
        },
        "id": "-DUcibUyKws3",
        "outputId": "991c3ef7-03da-4842-a218-af8cfd9a39ad"
      },
      "source": [
        "def s():\n",
        "  yield 4  \n",
        "s()"
      ],
      "execution_count": 34,
      "outputs": [
        {
          "output_type": "execute_result",
          "data": {
            "text/plain": [
              "<generator object s at 0x7f3a67d6fc50>"
            ]
          },
          "metadata": {
            "tags": []
          },
          "execution_count": 34
        }
      ]
    }
  ]
}