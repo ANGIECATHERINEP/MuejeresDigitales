{
  "nbformat": 4,
  "nbformat_minor": 0,
  "metadata": {
    "colab": {
      "name": "Untitled1.ipynb",
      "provenance": [],
      "authorship_tag": "ABX9TyMLb+IACzs/FtCpylSYpoT3",
      "include_colab_link": true
    },
    "kernelspec": {
      "name": "python3",
      "display_name": "Python 3"
    },
    "language_info": {
      "name": "python"
    }
  },
  "cells": [
    {
      "cell_type": "markdown",
      "metadata": {
        "id": "view-in-github",
        "colab_type": "text"
      },
      "source": [
        "<a href=\"https://colab.research.google.com/github/ANGIECATHERINEP/MuejeresDigitales/blob/main/Clase1.ipynb\" target=\"_parent\"><img src=\"https://colab.research.google.com/assets/colab-badge.svg\" alt=\"Open In Colab\"/></a>"
      ]
    },
    {
      "cell_type": "code",
      "metadata": {
        "id": "8KdmdfospD8p"
      },
      "source": [
        ""
      ],
      "execution_count": null,
      "outputs": []
    },
    {
      "cell_type": "markdown",
      "metadata": {
        "id": "uLRq7JFRpGMn"
      },
      "source": [
        "**Introduccion**\n",
        "\n",
        "---\n",
        "En python hay varios tipos de datos estos datos son compuestos que es tan disponibles por defectos en los interpretes.\n",
        "**¿De que tipos?**\n",
        "1. Numericos\n",
        "2. Secuencias\n",
        "3. Mapeos\n",
        "4. conjuntos usados para agrupar otros valores.\n",
        "\n",
        "**Diferencia entre constantes y variables**\n",
        "En matematicas llamamos constante a una magnitud que no cambia con el paso del tiempo\n",
        "Ejemplo: Contabilidad: Gastos fijos_ Muebles de oficina\n",
        "Ejemplo: 6\n",
        "\n",
        "Por otro lado, el concepto de variable, como la cantidad que es suceptible a tomar distintos valores numericos\n",
        "**Ejemplo:**\n",
        "\n"
      ]
    },
    {
      "cell_type": "code",
      "metadata": {
        "id": "UMAWgsKLq_SA"
      },
      "source": [
        ""
      ],
      "execution_count": null,
      "outputs": []
    },
    {
      "cell_type": "code",
      "metadata": {
        "colab": {
          "base_uri": "https://localhost:8080/"
        },
        "id": "0rbCgCuIq1BG",
        "outputId": "4763d54c-5ed8-425c-db23-c1d5b984bd7c"
      },
      "source": [
        "x = 5\n",
        "print(x)"
      ],
      "execution_count": 2,
      "outputs": [
        {
          "output_type": "stream",
          "text": [
            "5\n"
          ],
          "name": "stdout"
        }
      ]
    },
    {
      "cell_type": "markdown",
      "metadata": {
        "id": "eprBS4HepFrx"
      },
      "source": [
        ""
      ]
    }
  ]
}