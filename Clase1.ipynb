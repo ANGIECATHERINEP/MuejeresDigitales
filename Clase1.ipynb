{
  "nbformat": 4,
  "nbformat_minor": 0,
  "metadata": {
    "colab": {
      "name": "Clase1.ipynb",
      "provenance": [],
      "authorship_tag": "ABX9TyOXvAuX1ut0ACcsI17gkwri",
      "include_colab_link": true
    },
    "kernelspec": {
      "name": "python3",
      "display_name": "Python 3"
    },
    "language_info": {
      "name": "python"
    }
  },
  "cells": [
    {
      "cell_type": "markdown",
      "metadata": {
        "id": "view-in-github",
        "colab_type": "text"
      },
      "source": [
        "<a href=\"https://colab.research.google.com/github/ANGIECATHERINEP/MuejeresDigitales/blob/main/Clase1.ipynb\" target=\"_parent\"><img src=\"https://colab.research.google.com/assets/colab-badge.svg\" alt=\"Open In Colab\"/></a>"
      ]
    },
    {
      "cell_type": "markdown",
      "metadata": {
        "id": "uLRq7JFRpGMn"
      },
      "source": [
        "**Introduccion**\n",
        "\n",
        "---\n",
        "Manejar un código limpio en Python:\n",
        "1. Manejar siempre minuscula\n",
        "2. Se puede añadir numero a las variables\n",
        "3. Aparecera error  si no estan seguidos la declaracion de la variables con el numero asignado en esta (ana1)\n",
        "\n",
        "En Python hay varios tipos de datos estos datos son compuestos que es tan disponibles por defectos en los interpretes.\n",
        "\n",
        "**¿De que tipos?**\n",
        "1. Numericos\n",
        "2. Secuencias\n",
        "3. Mapeos\n",
        "4. conjuntos usados para agrupar otros valores.\n",
        "\n",
        "**Diferencia entre constantes y variables:**\n",
        "\n",
        "En matematicas llamamos constante a una magnitud que no cambia con el paso del tiempo\n",
        "Ejemplo: Contabilidad: Gastos fijos_ Muebles de oficina\n",
        "Ejemplo: 6\n",
        "\n",
        "Por otro lado, el concepto de variable, como la cantidad que es suceptible a tomar distintos valores numericos\n",
        "**Ejemplo:**\n",
        "\n"
      ]
    },
    {
      "cell_type": "code",
      "metadata": {
        "colab": {
          "base_uri": "https://localhost:8080/"
        },
        "id": "0rbCgCuIq1BG",
        "outputId": "4763d54c-5ed8-425c-db23-c1d5b984bd7c"
      },
      "source": [
        "x = 5\n",
        "print(x)"
      ],
      "execution_count": 2,
      "outputs": [
        {
          "output_type": "stream",
          "text": [
            "5\n"
          ],
          "name": "stdout"
        }
      ]
    },
    {
      "cell_type": "markdown",
      "metadata": {
        "id": "eprBS4HepFrx"
      },
      "source": [
        "**Tipos de datos**\n",
        "\n",
        "---\n",
        "**Enteros:**\n",
        "- Son los numeros que no tiene decimales\n",
        "- Pueden ser positivos y negativos\n"
      ]
    },
    {
      "cell_type": "code",
      "metadata": {
        "colab": {
          "base_uri": "https://localhost:8080/"
        },
        "id": "4SPCfK4Lrrr_",
        "outputId": "9702548d-42a3-4425-89e1-557d0887f891"
      },
      "source": [
        "a = int(3.96)\n",
        "print(a)"
      ],
      "execution_count": 4,
      "outputs": [
        {
          "output_type": "stream",
          "text": [
            "3\n"
          ],
          "name": "stdout"
        }
      ]
    },
    {
      "cell_type": "markdown",
      "metadata": {
        "id": "GTkM_Ah6sC8T"
      },
      "source": [
        "El comando int es para hacer alusión a numeros enteros.\n",
        "A parte el comando float, permite valores decimales."
      ]
    },
    {
      "cell_type": "code",
      "metadata": {
        "colab": {
          "base_uri": "https://localhost:8080/"
        },
        "id": "V23neam6sruA",
        "outputId": "a979cf51-5391-4237-cbe3-4cdea2d4f0a3"
      },
      "source": [
        "b=float(8)\n",
        "print(b)"
      ],
      "execution_count": 5,
      "outputs": [
        {
          "output_type": "stream",
          "text": [
            "8.0\n"
          ],
          "name": "stdout"
        }
      ]
    },
    {
      "cell_type": "markdown",
      "metadata": {
        "id": "-ATwYk9Hs7Sh"
      },
      "source": [
        "**Tipo cadena**\n",
        "\n",
        "---\n",
        "\n",
        "Las cadenas son texto encerrados entre comilllas (simples o dobles) y se pueden conformar de diferentes caracteres (numericos, alfabeticos, especiales #$).\n",
        "Tener en cuenta, las cadenas admiten operadores como suma y resta (variable String)."
      ]
    },
    {
      "cell_type": "code",
      "metadata": {
        "colab": {
          "base_uri": "https://localhost:8080/"
        },
        "id": "P_VUnr7BtgnU",
        "outputId": "05c12a84-3a86-4def-fb9a-68d82f8d74a3"
      },
      "source": [
        "val1=\"Angie\"\n",
        "print(val1)\n",
        "val2=\"Hola mundo\"\n",
        "print(val2)"
      ],
      "execution_count": 8,
      "outputs": [
        {
          "output_type": "stream",
          "text": [
            "Angie\n",
            "Hola mundo\n"
          ],
          "name": "stdout"
        }
      ]
    },
    {
      "cell_type": "code",
      "metadata": {
        "colab": {
          "base_uri": "https://localhost:8080/"
        },
        "id": "44ddlktFvVII",
        "outputId": "9fa88e1d-7b8d-470a-b81b-a806663978eb"
      },
      "source": [
        "n = \"Aprender\"\n",
        "z =\"Python\"\n",
        "nz = n+\" \"+z\n",
        "print(nz)\n",
        "print(n,z)"
      ],
      "execution_count": 14,
      "outputs": [
        {
          "output_type": "stream",
          "text": [
            "Aprender Python\n",
            "Aprender Python\n"
          ],
          "name": "stdout"
        }
      ]
    },
    {
      "cell_type": "markdown",
      "metadata": {
        "id": "AcWbWFmkyJ_T"
      },
      "source": [
        "**Tipo Booleano**\n",
        "\n",
        "---\n",
        "\n",
        "\n",
        "Es tipo de valor solo tendra un valor verdadero o falso.\n",
        "\n",
        "**Nota:**Son valores usados en condiciones y bucles"
      ]
    },
    {
      "cell_type": "code",
      "metadata": {
        "colab": {
          "base_uri": "https://localhost:8080/"
        },
        "id": "DHNU1oocyeHb",
        "outputId": "50883752-08c7-453f-8553-fc15818499d8"
      },
      "source": [
        "lola = True\n",
        "print(\"El valor es verdadero: \",lola, \", el cual es de tipo\", type(lola))"
      ],
      "execution_count": 16,
      "outputs": [
        {
          "output_type": "stream",
          "text": [
            "El valor es verdadero:  True , el cual es de tipo <class 'bool'>\n"
          ],
          "name": "stdout"
        }
      ]
    },
    {
      "cell_type": "markdown",
      "metadata": {
        "id": "8nqyZy0RzSAu"
      },
      "source": [
        "Python cuenta con tipo de datos que admite colecciones:\n",
        "1. Listas\n",
        "2. Tuplas\n",
        "3. Diccionarios  \n",
        "\n",
        "**Tipos de conjuntos:**\n",
        "Son una coleccion de datos en elementos que se repiten"
      ]
    },
    {
      "cell_type": "code",
      "metadata": {
        "colab": {
          "base_uri": "https://localhost:8080/"
        },
        "id": "WMSWkTNL0LJB",
        "outputId": "881e6b7f-5c63-4c70-cac0-c080aac7d12c"
      },
      "source": [
        "fru = 'pera','manzana','naranja'\n",
        "color = 'morado','blanco','azul'\n",
        "print(fru,color)"
      ],
      "execution_count": 17,
      "outputs": [
        {
          "output_type": "stream",
          "text": [
            "('pera', 'manzana', 'naranja') ('morado', 'blanco', 'azul')\n"
          ],
          "name": "stdout"
        }
      ]
    },
    {
      "cell_type": "markdown",
      "metadata": {
        "id": "PMRm6-nE0iq3"
      },
      "source": [
        "**Tipo listas**\n",
        "\n",
        "---\n",
        "Son listas las que almacenan vectores. se utilizan[  ], las listas siempre empiezan a nombrarse desde cero, apartir de alli comienza el conteo.\n",
        "\n",
        "Ejemplo de listas en Python:\n"
      ]
    },
    {
      "cell_type": "code",
      "metadata": {
        "colab": {
          "base_uri": "https://localhost:8080/"
        },
        "id": "k7g69Y7806ui",
        "outputId": "7be821f9-eebc-4230-a1ab-ab5e00303a11"
      },
      "source": [
        "ines =['5','uva','lila','perro']\n",
        "print(ines)\n",
        "fe = ines[0:3:2]\n",
        "print(fe)\n",
        "e = ines[0:3]\n",
        "print(e)\n",
        "c = ines[3]\n",
        "print(c)"
      ],
      "execution_count": 28,
      "outputs": [
        {
          "output_type": "stream",
          "text": [
            "['5', 'uva', 'lila', 'perro']\n",
            "['5', 'lila']\n",
            "['5', 'uva', 'lila']\n",
            "perro\n"
          ],
          "name": "stdout"
        }
      ]
    },
    {
      "cell_type": "markdown",
      "metadata": {
        "id": "__m71n-A4FGP"
      },
      "source": [
        "**Tipo Tuplas**\n",
        "\n",
        "---\n",
        "Es una lista que no se puede modificardespues de la creacion de esta\n",
        "\n",
        "Tuplas anidadas: Agrupación(Tuplas).\n"
      ]
    },
    {
      "cell_type": "code",
      "metadata": {
        "colab": {
          "base_uri": "https://localhost:8080/"
        },
        "id": "YQVT6pzZ4c3_",
        "outputId": "4662f104-1d6d-42b4-b4c4-e01a3a7b9662"
      },
      "source": [
        "tupla = 23,28,'hello'\n",
        "print(tupla)\n",
        "otra =tupla, (1,2,3,4)\n",
        "print(otra)"
      ],
      "execution_count": 30,
      "outputs": [
        {
          "output_type": "stream",
          "text": [
            "(23, 28, 'hello')\n",
            "((23, 28, 'hello'), (1, 2, 3, 4))\n"
          ],
          "name": "stdout"
        }
      ]
    },
    {
      "cell_type": "markdown",
      "metadata": {
        "id": "oxxOy17Z551F"
      },
      "source": [
        "**Tipo Diccionarios**\n",
        "\n",
        "---\n",
        "Define los datos uno a uno entre un campo(ID -Identificador clave) y un valor\n"
      ]
    },
    {
      "cell_type": "code",
      "metadata": {
        "colab": {
          "base_uri": "https://localhost:8080/"
        },
        "id": "MyH5xtXw6xUd",
        "outputId": "e9482c74-cf6b-408d-bac8-df6dd6123bd5"
      },
      "source": [
        "datos_b={\n",
        "    \"nombres\":\"Diana\",\n",
        "    \"apellidos\":\"Perea\",\n",
        "    \"cedula\":\"231478\",\n",
        "    \"est_civil\":\"viuda\",\n",
        "    \"lugar_nac\":\"Neiva\",\n",
        "    \"fecha_nac\":\"24/12/1980\"\n",
        "}\n",
        "print(\"ID del diccionario\",datos_b.keys())\n",
        "print(\"ID del diccionario\",datos_b.values())\n",
        "print(\"ID del diccionario\",datos_b.items())\n",
        "print (\"cedula de ciudadania de Diana\",datos_b['cedula'])"
      ],
      "execution_count": 46,
      "outputs": [
        {
          "output_type": "stream",
          "text": [
            "ID del diccionario dict_keys(['nombres', 'apellidos', 'cedula', 'est_civil', 'lugar_nac', 'fecha_nac'])\n",
            "ID del diccionario dict_values(['Diana', 'Perea', '231478', 'viuda', 'Neiva', '24/12/1980'])\n",
            "ID del diccionario dict_items([('nombres', 'Diana'), ('apellidos', 'Perea'), ('cedula', '231478'), ('est_civil', 'viuda'), ('lugar_nac', 'Neiva'), ('fecha_nac', '24/12/1980')])\n",
            "cedula de ciudadania de Diana 231478\n"
          ],
          "name": "stdout"
        }
      ]
    },
    {
      "cell_type": "markdown",
      "metadata": {
        "id": "O5HhaKZz8naa"
      },
      "source": [
        "**Ejemplo practico (caracteristicas de carros)**"
      ]
    },
    {
      "cell_type": "code",
      "metadata": {
        "colab": {
          "base_uri": "https://localhost:8080/"
        },
        "id": "MYnkQUBz8vGQ",
        "outputId": "f126f114-e85e-46ad-8dd4-638db2665388"
      },
      "source": [
        "carros_0 ={}\n",
        "carros_0['tam']='grande'\n",
        "carros_0['color']='negro'\n",
        "carros_0['marca']='renault'\n",
        "carros_0['precio']=60\n",
        "\n",
        "carros_1 ={}\n",
        "carros_1['tam']='pequeño'\n",
        "carros_1['color']='blanco'\n",
        "carros_1['marca']='chevrolet'\n",
        "carros_1['precio']=37\n",
        "print(carros_0)\n",
        "print(carros_1)\n",
        "\n",
        "compra0=carros_0['precio']\n",
        "compra1=carros_1['precio']\n",
        "compratotal=compra0+compra1\n",
        "print(\"la compra total fue \",compratotal)\n",
        "print(\"la compra total fue \"+str(compratotal))\n",
        " "
      ],
      "execution_count": 45,
      "outputs": [
        {
          "output_type": "stream",
          "text": [
            "{'tam': 'grande', 'color': 'negro', 'marca': 'renault', 'precio': 60}\n",
            "{'tam': 'pequeño', 'color': 'blanco', 'marca': 'chevrolet', 'precio': 37}\n",
            "la compra total fue  97\n",
            "la compra total fue 97\n"
          ],
          "name": "stdout"
        }
      ]
    }
  ]
}