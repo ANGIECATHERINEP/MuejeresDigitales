{
  "nbformat": 4,
  "nbformat_minor": 0,
  "metadata": {
    "colab": {
      "name": "proyecto1.ipynb",
      "provenance": [],
      "collapsed_sections": [],
      "authorship_tag": "ABX9TyM7LMKhbvZSS86jGomgKoAt",
      "include_colab_link": true
    },
    "kernelspec": {
      "name": "python3",
      "display_name": "Python 3"
    },
    "language_info": {
      "name": "python"
    }
  },
  "cells": [
    {
      "cell_type": "markdown",
      "metadata": {
        "id": "view-in-github",
        "colab_type": "text"
      },
      "source": [
        "<a href=\"https://colab.research.google.com/github/ANGIECATHERINEP/MujerDigital/blob/main/proyecto_ciencia_datos_mat.ipynb\" target=\"_parent\"><img src=\"https://colab.research.google.com/assets/colab-badge.svg\" alt=\"Open In Colab\"/></a>"
      ]
    },
    {
      "cell_type": "markdown",
      "metadata": {
        "id": "621-26z73B7F"
      },
      "source": [
        "**GRUPO 5** \n",
        "\n",
        "**Nombres: Angela Maria Zea, Angie Pinilla Nova**\n",
        "\n",
        "**TEMA: matriculados en educación superior - pregrado en el sector de las TIC**\n",
        "\n",
        "**APRENDIZAJE SUPERVISADO: REGRESIÓN LINEAL**\n",
        "\n"
      ]
    },
    {
      "cell_type": "code",
      "metadata": {
        "id": "yIXxHJHXMzVc"
      },
      "source": [
        "import pandas as pd\n",
        "import numpy as np\n",
        "import seaborn as sb\n",
        "from datetime import datetime\n",
        "import time\n",
        "import scipy\n",
        "import sklearn \n",
        "from sklearn import linear_model as lm\n",
        "from sklearn.linear_model import LinearRegression\n",
        "import statsmodels.api as sm\n",
        "import statsmodels.formula.api as sfm\n",
        "import matplotlib as mpl\n",
        "import matplotlib.pyplot as plt  \n",
        "import matplotlib.dates as mdates\n",
        "%matplotlib inline\n",
        "\n",
        "import plotly.graph_objects as go\n",
        "from sklearn.model_selection import train_test_split\n",
        "from sklearn import metrics\n",
        "from sklearn.metrics import r2_score"
      ],
      "execution_count": 3,
      "outputs": []
    },
    {
      "cell_type": "code",
      "metadata": {
        "colab": {
          "base_uri": "https://localhost:8080/",
          "height": 972
        },
        "id": "I1Vb8dqIM2_4",
        "outputId": "4ea4ca0a-451e-4d8e-a9c5-ed606183264f"
      },
      "source": [
        "df = pd.read_csv('EST_MATRICULADOS_2005_A_2020.csv', sep=';')\n",
        "df.head(10)"
      ],
      "execution_count": 4,
      "outputs": [
        {
          "output_type": "stream",
          "name": "stderr",
          "text": [
            "/usr/local/lib/python3.7/dist-packages/IPython/core/interactiveshell.py:2718: DtypeWarning:\n",
            "\n",
            "Columns (8) have mixed types.Specify dtype option on import or set low_memory=False.\n",
            "\n"
          ]
        },
        {
          "output_type": "execute_result",
          "data": {
            "text/html": [
              "<div>\n",
              "<style scoped>\n",
              "    .dataframe tbody tr th:only-of-type {\n",
              "        vertical-align: middle;\n",
              "    }\n",
              "\n",
              "    .dataframe tbody tr th {\n",
              "        vertical-align: top;\n",
              "    }\n",
              "\n",
              "    .dataframe thead th {\n",
              "        text-align: right;\n",
              "    }\n",
              "</style>\n",
              "<table border=\"1\" class=\"dataframe\">\n",
              "  <thead>\n",
              "    <tr style=\"text-align: right;\">\n",
              "      <th></th>\n",
              "      <th>Código  IES</th>\n",
              "      <th>IES</th>\n",
              "      <th>Sector IES</th>\n",
              "      <th>Carácter IES</th>\n",
              "      <th>Código Departamento (Programa)</th>\n",
              "      <th>Departamento oferta del programa</th>\n",
              "      <th>Código Municipio(Programa)</th>\n",
              "      <th>Municipio oferta del programa</th>\n",
              "      <th>Código SNIES</th>\n",
              "      <th>Programa Académico</th>\n",
              "      <th>Metodología programa</th>\n",
              "      <th>NBC</th>\n",
              "      <th>Sexo</th>\n",
              "      <th>Año</th>\n",
              "      <th>Semestre</th>\n",
              "      <th>Matriculados</th>\n",
              "    </tr>\n",
              "  </thead>\n",
              "  <tbody>\n",
              "    <tr>\n",
              "      <th>0</th>\n",
              "      <td>9110</td>\n",
              "      <td>SERVICIO NACIONAL DE APRENDIZAJE-SENA-</td>\n",
              "      <td>OFICIAL</td>\n",
              "      <td>INSTITUCION TECNOLOGICA</td>\n",
              "      <td>11</td>\n",
              "      <td>BOGOTA D.C.</td>\n",
              "      <td>11001</td>\n",
              "      <td>BOGOTA D.C.</td>\n",
              "      <td>55238</td>\n",
              "      <td>TECNICA PROFESIONAL EN GESTION CONTABLE Y FINA...</td>\n",
              "      <td>PRESENCIAL</td>\n",
              "      <td>SIN CLASIFICAR</td>\n",
              "      <td>MUJER</td>\n",
              "      <td>2005</td>\n",
              "      <td>1</td>\n",
              "      <td>11591</td>\n",
              "    </tr>\n",
              "    <tr>\n",
              "      <th>1</th>\n",
              "      <td>9110</td>\n",
              "      <td>SERVICIO NACIONAL DE APRENDIZAJE-SENA-</td>\n",
              "      <td>OFICIAL</td>\n",
              "      <td>INSTITUCION TECNOLOGICA</td>\n",
              "      <td>11</td>\n",
              "      <td>BOGOTA D.C.</td>\n",
              "      <td>11001</td>\n",
              "      <td>BOGOTA D.C.</td>\n",
              "      <td>55238</td>\n",
              "      <td>TECNICA PROFESIONAL EN GESTION CONTABLE Y FINA...</td>\n",
              "      <td>PRESENCIAL</td>\n",
              "      <td>SIN CLASIFICAR</td>\n",
              "      <td>MUJER</td>\n",
              "      <td>2005</td>\n",
              "      <td>2</td>\n",
              "      <td>11591</td>\n",
              "    </tr>\n",
              "    <tr>\n",
              "      <th>2</th>\n",
              "      <td>2106</td>\n",
              "      <td>DIRECCION NACIONAL DE ESCUELAS</td>\n",
              "      <td>OFICIAL</td>\n",
              "      <td>INSTITUCION UNIVERSITARIA/ESCUELA TECNOLOGICA</td>\n",
              "      <td>11</td>\n",
              "      <td>BOGOTA D.C.</td>\n",
              "      <td>11001</td>\n",
              "      <td>BOGOTA D.C.</td>\n",
              "      <td>11675</td>\n",
              "      <td>TECNICO PROFESIONAL EN SERVICIO DE POLICIA</td>\n",
              "      <td>PRESENCIAL</td>\n",
              "      <td>FORMACION RELACIONADA CON EL CAMPO MILITAR O P...</td>\n",
              "      <td>HOMBRE</td>\n",
              "      <td>2005</td>\n",
              "      <td>2</td>\n",
              "      <td>7571</td>\n",
              "    </tr>\n",
              "    <tr>\n",
              "      <th>3</th>\n",
              "      <td>9110</td>\n",
              "      <td>SERVICIO NACIONAL DE APRENDIZAJE-SENA-</td>\n",
              "      <td>OFICIAL</td>\n",
              "      <td>INSTITUCION TECNOLOGICA</td>\n",
              "      <td>11</td>\n",
              "      <td>BOGOTA D.C.</td>\n",
              "      <td>11001</td>\n",
              "      <td>BOGOTA D.C.</td>\n",
              "      <td>55238</td>\n",
              "      <td>TECNICA PROFESIONAL EN GESTION CONTABLE Y FINA...</td>\n",
              "      <td>PRESENCIAL</td>\n",
              "      <td>SIN CLASIFICAR</td>\n",
              "      <td>HOMBRE</td>\n",
              "      <td>2005</td>\n",
              "      <td>1</td>\n",
              "      <td>5978</td>\n",
              "    </tr>\n",
              "    <tr>\n",
              "      <th>4</th>\n",
              "      <td>9110</td>\n",
              "      <td>SERVICIO NACIONAL DE APRENDIZAJE-SENA-</td>\n",
              "      <td>OFICIAL</td>\n",
              "      <td>INSTITUCION TECNOLOGICA</td>\n",
              "      <td>11</td>\n",
              "      <td>BOGOTA D.C.</td>\n",
              "      <td>11001</td>\n",
              "      <td>BOGOTA D.C.</td>\n",
              "      <td>55238</td>\n",
              "      <td>TECNICA PROFESIONAL EN GESTION CONTABLE Y FINA...</td>\n",
              "      <td>PRESENCIAL</td>\n",
              "      <td>SIN CLASIFICAR</td>\n",
              "      <td>HOMBRE</td>\n",
              "      <td>2005</td>\n",
              "      <td>2</td>\n",
              "      <td>5978</td>\n",
              "    </tr>\n",
              "    <tr>\n",
              "      <th>5</th>\n",
              "      <td>2106</td>\n",
              "      <td>DIRECCION NACIONAL DE ESCUELAS</td>\n",
              "      <td>OFICIAL</td>\n",
              "      <td>INSTITUCION UNIVERSITARIA/ESCUELA TECNOLOGICA</td>\n",
              "      <td>11</td>\n",
              "      <td>BOGOTA D.C.</td>\n",
              "      <td>11001</td>\n",
              "      <td>BOGOTA D.C.</td>\n",
              "      <td>11675</td>\n",
              "      <td>TECNICO PROFESIONAL EN SERVICIO DE POLICIA</td>\n",
              "      <td>PRESENCIAL</td>\n",
              "      <td>FORMACION RELACIONADA CON EL CAMPO MILITAR O P...</td>\n",
              "      <td>HOMBRE</td>\n",
              "      <td>2005</td>\n",
              "      <td>1</td>\n",
              "      <td>3778</td>\n",
              "    </tr>\n",
              "    <tr>\n",
              "      <th>6</th>\n",
              "      <td>1207</td>\n",
              "      <td>UNIVERSIDAD DEL TOLIMA</td>\n",
              "      <td>OFICIAL</td>\n",
              "      <td>UNIVERSIDAD</td>\n",
              "      <td>73</td>\n",
              "      <td>TOLIMA</td>\n",
              "      <td>73001</td>\n",
              "      <td>IBAGUE</td>\n",
              "      <td>798</td>\n",
              "      <td>TECNOLOGIA EN ADMINISTRACION FINANCIERA</td>\n",
              "      <td>DISTANCIA(TRADICIONAL)</td>\n",
              "      <td>INGENIERIA ADMINISTRATIVA Y AFINES</td>\n",
              "      <td>MUJER</td>\n",
              "      <td>2005</td>\n",
              "      <td>1</td>\n",
              "      <td>3231</td>\n",
              "    </tr>\n",
              "    <tr>\n",
              "      <th>7</th>\n",
              "      <td>2709</td>\n",
              "      <td>FUNDACION UNIVERSITARIA SAN MARTIN</td>\n",
              "      <td>PRIVADA</td>\n",
              "      <td>INSTITUCION UNIVERSITARIA/ESCUELA TECNOLOGICA</td>\n",
              "      <td>11</td>\n",
              "      <td>BOGOTA D.C.</td>\n",
              "      <td>11001</td>\n",
              "      <td>BOGOTA D.C.</td>\n",
              "      <td>7543</td>\n",
              "      <td>CONTADURIA PUBLICA</td>\n",
              "      <td>DISTANCIA(TRADICIONAL)</td>\n",
              "      <td>CONTADURIA PUBLICA</td>\n",
              "      <td>MUJER</td>\n",
              "      <td>2005</td>\n",
              "      <td>2</td>\n",
              "      <td>3097</td>\n",
              "    </tr>\n",
              "    <tr>\n",
              "      <th>8</th>\n",
              "      <td>1207</td>\n",
              "      <td>UNIVERSIDAD DEL TOLIMA</td>\n",
              "      <td>OFICIAL</td>\n",
              "      <td>UNIVERSIDAD</td>\n",
              "      <td>73</td>\n",
              "      <td>TOLIMA</td>\n",
              "      <td>73001</td>\n",
              "      <td>IBAGUE</td>\n",
              "      <td>798</td>\n",
              "      <td>TECNOLOGIA EN ADMINISTRACION FINANCIERA</td>\n",
              "      <td>DISTANCIA(TRADICIONAL)</td>\n",
              "      <td>INGENIERIA ADMINISTRATIVA Y AFINES</td>\n",
              "      <td>MUJER</td>\n",
              "      <td>2005</td>\n",
              "      <td>2</td>\n",
              "      <td>3069</td>\n",
              "    </tr>\n",
              "    <tr>\n",
              "      <th>9</th>\n",
              "      <td>2709</td>\n",
              "      <td>FUNDACION UNIVERSITARIA SAN MARTIN</td>\n",
              "      <td>PRIVADA</td>\n",
              "      <td>INSTITUCION UNIVERSITARIA/ESCUELA TECNOLOGICA</td>\n",
              "      <td>11</td>\n",
              "      <td>BOGOTA D.C.</td>\n",
              "      <td>11001</td>\n",
              "      <td>BOGOTA D.C.</td>\n",
              "      <td>7543</td>\n",
              "      <td>CONTADURIA PUBLICA</td>\n",
              "      <td>DISTANCIA(TRADICIONAL)</td>\n",
              "      <td>CONTADURIA PUBLICA</td>\n",
              "      <td>MUJER</td>\n",
              "      <td>2005</td>\n",
              "      <td>1</td>\n",
              "      <td>2744</td>\n",
              "    </tr>\n",
              "  </tbody>\n",
              "</table>\n",
              "</div>"
            ],
            "text/plain": [
              "   Código  IES                                     IES  ... Semestre Matriculados\n",
              "0         9110  SERVICIO NACIONAL DE APRENDIZAJE-SENA-  ...        1        11591\n",
              "1         9110  SERVICIO NACIONAL DE APRENDIZAJE-SENA-  ...        2        11591\n",
              "2         2106          DIRECCION NACIONAL DE ESCUELAS  ...        2         7571\n",
              "3         9110  SERVICIO NACIONAL DE APRENDIZAJE-SENA-  ...        1         5978\n",
              "4         9110  SERVICIO NACIONAL DE APRENDIZAJE-SENA-  ...        2         5978\n",
              "5         2106          DIRECCION NACIONAL DE ESCUELAS  ...        1         3778\n",
              "6         1207                  UNIVERSIDAD DEL TOLIMA  ...        1         3231\n",
              "7         2709      FUNDACION UNIVERSITARIA SAN MARTIN  ...        2         3097\n",
              "8         1207                  UNIVERSIDAD DEL TOLIMA  ...        2         3069\n",
              "9         2709      FUNDACION UNIVERSITARIA SAN MARTIN  ...        1         2744\n",
              "\n",
              "[10 rows x 16 columns]"
            ]
          },
          "metadata": {},
          "execution_count": 4
        }
      ]
    },
    {
      "cell_type": "code",
      "metadata": {
        "colab": {
          "base_uri": "https://localhost:8080/"
        },
        "id": "Gc9qJ6GGaBeP",
        "outputId": "9b210f15-2a18-4bb9-de3f-39f2d63c054a"
      },
      "source": [
        "df.shape"
      ],
      "execution_count": 5,
      "outputs": [
        {
          "output_type": "execute_result",
          "data": {
            "text/plain": [
              "(540158, 16)"
            ]
          },
          "metadata": {},
          "execution_count": 5
        }
      ]
    },
    {
      "cell_type": "code",
      "metadata": {
        "colab": {
          "base_uri": "https://localhost:8080/"
        },
        "id": "K3rSCYGvaOza",
        "outputId": "6a70f8ef-5a85-4aec-9ae3-130308fedfb8"
      },
      "source": [
        "df.isnull().sum()"
      ],
      "execution_count": 6,
      "outputs": [
        {
          "output_type": "execute_result",
          "data": {
            "text/plain": [
              "Código  IES                         0\n",
              "IES                                 0\n",
              "Sector IES                          0\n",
              "Carácter IES                        0\n",
              "Código Departamento (Programa)      0\n",
              "Departamento oferta del programa    0\n",
              "Código Municipio(Programa)          0\n",
              "Municipio oferta del programa       0\n",
              "Código SNIES                        0\n",
              "Programa Académico                  0\n",
              "Metodología programa                0\n",
              "NBC                                 0\n",
              "Sexo                                0\n",
              "Año                                 0\n",
              "Semestre                            0\n",
              "Matriculados                        0\n",
              "dtype: int64"
            ]
          },
          "metadata": {},
          "execution_count": 6
        }
      ]
    },
    {
      "cell_type": "code",
      "metadata": {
        "colab": {
          "base_uri": "https://localhost:8080/"
        },
        "id": "6w38FrYAdrS-",
        "outputId": "347142b2-e0d6-4171-fff1-0703e3e3f1da"
      },
      "source": [
        "df.dtypes"
      ],
      "execution_count": 7,
      "outputs": [
        {
          "output_type": "execute_result",
          "data": {
            "text/plain": [
              "Código  IES                          int64\n",
              "IES                                 object\n",
              "Sector IES                          object\n",
              "Carácter IES                        object\n",
              "Código Departamento (Programa)       int64\n",
              "Departamento oferta del programa    object\n",
              "Código Municipio(Programa)           int64\n",
              "Municipio oferta del programa       object\n",
              "Código SNIES                        object\n",
              "Programa Académico                  object\n",
              "Metodología programa                object\n",
              "NBC                                 object\n",
              "Sexo                                object\n",
              "Año                                  int64\n",
              "Semestre                             int64\n",
              "Matriculados                         int64\n",
              "dtype: object"
            ]
          },
          "metadata": {},
          "execution_count": 7
        }
      ]
    },
    {
      "cell_type": "markdown",
      "metadata": {
        "id": "8450IiusE9Hd"
      },
      "source": [
        "-"
      ]
    },
    {
      "cell_type": "markdown",
      "metadata": {
        "id": "217aY6JX0XmK"
      },
      "source": [
        "\n",
        "\n",
        "---\n",
        "\n",
        "\n",
        "\n",
        "---\n",
        "\n"
      ]
    },
    {
      "cell_type": "markdown",
      "metadata": {
        "id": "oOyZLTqNyvkN"
      },
      "source": [
        "# **Matriculados en educación superior - pregrado en el sector de las TIC**\n",
        "\n",
        "Se escogieron las columnas de: NBC (Nivel basico de conocimiento y hace referencia a la profesión a fin del sector de las TIc), sexo, año, semestre, numero de matriculados; Para predecir cuantos se matricularan en el año 2021 en el sector de las TIC\n"
      ]
    },
    {
      "cell_type": "markdown",
      "metadata": {
        "id": "IURKczlCADz7"
      },
      "source": [
        "\n",
        "\n",
        "---\n",
        "\n",
        "\n",
        "\n",
        "---\n",
        "\n"
      ]
    },
    {
      "cell_type": "markdown",
      "metadata": {
        "id": "i-VEmyQj-wF0"
      },
      "source": [
        "***Graficos***"
      ]
    },
    {
      "cell_type": "code",
      "metadata": {
        "id": "sauAe2FGBvJA"
      },
      "source": [
        "graficas= df[df['NBC']=='INGENIERIA DE SISTEMAS, TELEMATICA Y AFINES']\n",
        "columns_to_keep = df.columns\n",
        "graficas =graficas[columns_to_keep]"
      ],
      "execution_count": 43,
      "outputs": []
    },
    {
      "cell_type": "code",
      "metadata": {
        "colab": {
          "base_uri": "https://localhost:8080/",
          "height": 957
        },
        "id": "6Qr9RLN79AZH",
        "outputId": "bf4257a3-7e56-4bca-9895-307156b0d4ff"
      },
      "source": [
        "fig, ax = plt.subplots(3,2, figsize=(20,12))\n",
        "\n",
        "\n",
        "mat1=graficas.groupby(['Año'])['Matriculados'].sum().reset_index(name='matriculados')\n",
        "mat2=graficas.groupby(['Metodología programa'])['Matriculados'].sum().reset_index(name='matriculados')\n",
        "mat3=graficas.groupby(['Semestre'])['Matriculados'].sum().reset_index(name='matriculados')\n",
        "mat4=graficas.groupby(['Año','Metodología programa'])['Matriculados'].sum().reset_index(name='matriculados')\n",
        "mat5=graficas.groupby(['Departamento oferta del programa'])['Matriculados'].sum().reset_index(name='matriculados')\n",
        "mat6=graficas.groupby(['Sector IES'])['Matriculados'].sum().reset_index(name='matriculados')\n",
        "\n",
        "\n",
        "sb.lineplot(x ='Año', y ='matriculados', data = mat1, ci=False, markers=True, ax=ax[0,0])\n",
        "sb.barplot(x='Metodología programa', y='matriculados', data=mat2, palette=\"pastel\", ax=ax[1,0])\n",
        "sb.lineplot(x='Año', y='matriculados', data=mat4, hue='Metodología programa', style='Metodología programa', palette=\"pastel\", ci=False, markers=True, ax=ax[1,1])\n",
        "sb.barplot(x='Semestre', y='matriculados', data=mat3, palette=\"Paired\", ax=ax[0,1])\n",
        "sb.barplot(x ='Departamento oferta del programa', y = 'matriculados', data =mat5, palette=\"Set2\")\n",
        "sb.barplot(x='Sector IES', y='matriculados', data=mat6, palette=\"rocket\", ax=ax[2,0])\n",
        "\n",
        "plt.xticks(rotation=90)\n",
        "\n",
        "ax[0, 0].set_title(\"NUMERO DE MATRICULADOS POR AÑO\", position=(0.5, 0.9))\n",
        "ax[0, 1].set_title(\"NUMERO DE MATRICULADOS POR SEMESTRE\", position=(0.5, 0.9))\n",
        "ax[1, 0].set_title(\"NUMERO TOTAL DE MATRICULADOS POR METODOLOGIA\", position=(0.5, 0.9))\n",
        "ax[1, 1].set_title(\"NUMERO DE MATRICULADOS POR AÑO EN METODOLOGIA\", position=(0.5, 0.9))\n",
        "ax[2, 0].set_title(\"NUMERO DE MATRICULADOS POR SECTOR\", position=(0.5, 0.9))\n",
        "\n",
        "plt.show()"
      ],
      "execution_count": 9,
      "outputs": [
        {
          "output_type": "display_data",
          "data": {
            "image/png": "[encoded data removed]",
            "text/plain": [
              "<Figure size 1440x864 with 6 Axes>"
            ]
          },
          "metadata": {
            "needs_background": "light"
          }
        }
      ]
    },
    {
      "cell_type": "code",
      "metadata": {
        "id": "Q2G1doScxxxq"
      },
      "source": [
        "df2=df.copy()"
      ],
      "execution_count": 44,
      "outputs": []
    },
    {
      "cell_type": "code",
      "metadata": {
        "id": "79SNlwL1b9es"
      },
      "source": [
        "df2['Mes']= np.where(df2['Semestre']==2, '7', '1')"
      ],
      "execution_count": 45,
      "outputs": []
    },
    {
      "cell_type": "code",
      "metadata": {
        "colab": {
          "base_uri": "https://localhost:8080/"
        },
        "id": "VQQyT50S8ZDf",
        "outputId": "f75dbe33-2791-493a-efeb-5414b02ef41c"
      },
      "source": [
        "df2['Año'].astype('str')"
      ],
      "execution_count": 46,
      "outputs": [
        {
          "output_type": "execute_result",
          "data": {
            "text/plain": [
              "0         2005\n",
              "1         2005\n",
              "2         2005\n",
              "3         2005\n",
              "4         2005\n",
              "          ... \n",
              "540153    2020\n",
              "540154    2020\n",
              "540155    2020\n",
              "540156    2020\n",
              "540157    2020\n",
              "Name: Año, Length: 540158, dtype: object"
            ]
          },
          "metadata": {},
          "execution_count": 46
        }
      ]
    },
    {
      "cell_type": "code",
      "metadata": {
        "id": "s9tcA85i8_W_"
      },
      "source": [
        "df2['Año_mes'] = df2['Año'].map(str) + \"\" + df2['Mes']"
      ],
      "execution_count": 47,
      "outputs": []
    },
    {
      "cell_type": "code",
      "metadata": {
        "id": "CslH8CRmx8YK"
      },
      "source": [
        "df2['Año_mes']=df2['Año_mes'].astype(int)"
      ],
      "execution_count": 48,
      "outputs": []
    },
    {
      "cell_type": "code",
      "metadata": {
        "colab": {
          "base_uri": "https://localhost:8080/",
          "height": 408
        },
        "id": "zszUFuLEQr4K",
        "outputId": "38f73afb-62e3-48f6-bcb4-ab0826ccef21"
      },
      "source": [
        "matriculas2= df2[df2['NBC']=='INGENIERIA DE SISTEMAS, TELEMATICA Y AFINES']\n",
        "columns_to_keep = ['Año_mes','Matriculados']\n",
        "matriculas2 =matriculas2[columns_to_keep]\n",
        "matriculas2"
      ],
      "execution_count": 49,
      "outputs": [
        {
          "output_type": "execute_result",
          "data": {
            "text/html": [
              "<div>\n",
              "<style scoped>\n",
              "    .dataframe tbody tr th:only-of-type {\n",
              "        vertical-align: middle;\n",
              "    }\n",
              "\n",
              "    .dataframe tbody tr th {\n",
              "        vertical-align: top;\n",
              "    }\n",
              "\n",
              "    .dataframe thead th {\n",
              "        text-align: right;\n",
              "    }\n",
              "</style>\n",
              "<table border=\"1\" class=\"dataframe\">\n",
              "  <thead>\n",
              "    <tr style=\"text-align: right;\">\n",
              "      <th></th>\n",
              "      <th>Año_mes</th>\n",
              "      <th>Matriculados</th>\n",
              "    </tr>\n",
              "  </thead>\n",
              "  <tbody>\n",
              "    <tr>\n",
              "      <th>13</th>\n",
              "      <td>20057</td>\n",
              "      <td>2341</td>\n",
              "    </tr>\n",
              "    <tr>\n",
              "      <th>16</th>\n",
              "      <td>20051</td>\n",
              "      <td>2007</td>\n",
              "    </tr>\n",
              "    <tr>\n",
              "      <th>44</th>\n",
              "      <td>20051</td>\n",
              "      <td>1255</td>\n",
              "    </tr>\n",
              "    <tr>\n",
              "      <th>51</th>\n",
              "      <td>20057</td>\n",
              "      <td>1183</td>\n",
              "    </tr>\n",
              "    <tr>\n",
              "      <th>61</th>\n",
              "      <td>20057</td>\n",
              "      <td>1144</td>\n",
              "    </tr>\n",
              "    <tr>\n",
              "      <th>...</th>\n",
              "      <td>...</td>\n",
              "      <td>...</td>\n",
              "    </tr>\n",
              "    <tr>\n",
              "      <th>540076</th>\n",
              "      <td>20207</td>\n",
              "      <td>4</td>\n",
              "    </tr>\n",
              "    <tr>\n",
              "      <th>540080</th>\n",
              "      <td>20201</td>\n",
              "      <td>4</td>\n",
              "    </tr>\n",
              "    <tr>\n",
              "      <th>540081</th>\n",
              "      <td>20207</td>\n",
              "      <td>4</td>\n",
              "    </tr>\n",
              "    <tr>\n",
              "      <th>540129</th>\n",
              "      <td>20201</td>\n",
              "      <td>4</td>\n",
              "    </tr>\n",
              "    <tr>\n",
              "      <th>540130</th>\n",
              "      <td>20207</td>\n",
              "      <td>4</td>\n",
              "    </tr>\n",
              "  </tbody>\n",
              "</table>\n",
              "<p>43970 rows × 2 columns</p>\n",
              "</div>"
            ],
            "text/plain": [
              "        Año_mes  Matriculados\n",
              "13        20057          2341\n",
              "16        20051          2007\n",
              "44        20051          1255\n",
              "51        20057          1183\n",
              "61        20057          1144\n",
              "...         ...           ...\n",
              "540076    20207             4\n",
              "540080    20201             4\n",
              "540081    20207             4\n",
              "540129    20201             4\n",
              "540130    20207             4\n",
              "\n",
              "[43970 rows x 2 columns]"
            ]
          },
          "metadata": {},
          "execution_count": 49
        }
      ]
    },
    {
      "cell_type": "code",
      "metadata": {
        "id": "vuUmn_YIQ8vS"
      },
      "source": [
        "matriculas2= matriculas2.groupby(['Año_mes'])['Matriculados'].sum().reset_index(name='matriculados2')"
      ],
      "execution_count": null,
      "outputs": []
    },
    {
      "cell_type": "code",
      "metadata": {
        "colab": {
          "base_uri": "https://localhost:8080/",
          "height": 1000
        },
        "id": "NmgtAJRNRFxO",
        "outputId": "40caf89d-2161-417a-dd6a-6a890eec7e33"
      },
      "source": [
        "matriculas2"
      ],
      "execution_count": null,
      "outputs": [
        {
          "output_type": "execute_result",
          "data": {
            "text/html": [
              "<div>\n",
              "<style scoped>\n",
              "    .dataframe tbody tr th:only-of-type {\n",
              "        vertical-align: middle;\n",
              "    }\n",
              "\n",
              "    .dataframe tbody tr th {\n",
              "        vertical-align: top;\n",
              "    }\n",
              "\n",
              "    .dataframe thead th {\n",
              "        text-align: right;\n",
              "    }\n",
              "</style>\n",
              "<table border=\"1\" class=\"dataframe\">\n",
              "  <thead>\n",
              "    <tr style=\"text-align: right;\">\n",
              "      <th></th>\n",
              "      <th>Año_mes</th>\n",
              "      <th>matriculados2</th>\n",
              "    </tr>\n",
              "  </thead>\n",
              "  <tbody>\n",
              "    <tr>\n",
              "      <th>0</th>\n",
              "      <td>20051</td>\n",
              "      <td>83286</td>\n",
              "    </tr>\n",
              "    <tr>\n",
              "      <th>1</th>\n",
              "      <td>20057</td>\n",
              "      <td>78775</td>\n",
              "    </tr>\n",
              "    <tr>\n",
              "      <th>2</th>\n",
              "      <td>20061</td>\n",
              "      <td>83498</td>\n",
              "    </tr>\n",
              "    <tr>\n",
              "      <th>3</th>\n",
              "      <td>20067</td>\n",
              "      <td>81118</td>\n",
              "    </tr>\n",
              "    <tr>\n",
              "      <th>4</th>\n",
              "      <td>20071</td>\n",
              "      <td>89863</td>\n",
              "    </tr>\n",
              "    <tr>\n",
              "      <th>5</th>\n",
              "      <td>20077</td>\n",
              "      <td>88202</td>\n",
              "    </tr>\n",
              "    <tr>\n",
              "      <th>6</th>\n",
              "      <td>20081</td>\n",
              "      <td>94649</td>\n",
              "    </tr>\n",
              "    <tr>\n",
              "      <th>7</th>\n",
              "      <td>20087</td>\n",
              "      <td>91222</td>\n",
              "    </tr>\n",
              "    <tr>\n",
              "      <th>8</th>\n",
              "      <td>20091</td>\n",
              "      <td>100269</td>\n",
              "    </tr>\n",
              "    <tr>\n",
              "      <th>9</th>\n",
              "      <td>20097</td>\n",
              "      <td>93478</td>\n",
              "    </tr>\n",
              "    <tr>\n",
              "      <th>10</th>\n",
              "      <td>20101</td>\n",
              "      <td>99157</td>\n",
              "    </tr>\n",
              "    <tr>\n",
              "      <th>11</th>\n",
              "      <td>20107</td>\n",
              "      <td>85866</td>\n",
              "    </tr>\n",
              "    <tr>\n",
              "      <th>12</th>\n",
              "      <td>20111</td>\n",
              "      <td>104368</td>\n",
              "    </tr>\n",
              "    <tr>\n",
              "      <th>13</th>\n",
              "      <td>20117</td>\n",
              "      <td>97709</td>\n",
              "    </tr>\n",
              "    <tr>\n",
              "      <th>14</th>\n",
              "      <td>20121</td>\n",
              "      <td>96159</td>\n",
              "    </tr>\n",
              "    <tr>\n",
              "      <th>15</th>\n",
              "      <td>20127</td>\n",
              "      <td>94207</td>\n",
              "    </tr>\n",
              "    <tr>\n",
              "      <th>16</th>\n",
              "      <td>20131</td>\n",
              "      <td>108078</td>\n",
              "    </tr>\n",
              "    <tr>\n",
              "      <th>17</th>\n",
              "      <td>20137</td>\n",
              "      <td>114879</td>\n",
              "    </tr>\n",
              "    <tr>\n",
              "      <th>18</th>\n",
              "      <td>20141</td>\n",
              "      <td>122346</td>\n",
              "    </tr>\n",
              "    <tr>\n",
              "      <th>19</th>\n",
              "      <td>20147</td>\n",
              "      <td>119835</td>\n",
              "    </tr>\n",
              "    <tr>\n",
              "      <th>20</th>\n",
              "      <td>20151</td>\n",
              "      <td>128953</td>\n",
              "    </tr>\n",
              "    <tr>\n",
              "      <th>21</th>\n",
              "      <td>20157</td>\n",
              "      <td>123532</td>\n",
              "    </tr>\n",
              "    <tr>\n",
              "      <th>22</th>\n",
              "      <td>20161</td>\n",
              "      <td>117219</td>\n",
              "    </tr>\n",
              "    <tr>\n",
              "      <th>23</th>\n",
              "      <td>20167</td>\n",
              "      <td>126773</td>\n",
              "    </tr>\n",
              "    <tr>\n",
              "      <th>24</th>\n",
              "      <td>20171</td>\n",
              "      <td>122383</td>\n",
              "    </tr>\n",
              "    <tr>\n",
              "      <th>25</th>\n",
              "      <td>20177</td>\n",
              "      <td>134023</td>\n",
              "    </tr>\n",
              "    <tr>\n",
              "      <th>26</th>\n",
              "      <td>20181</td>\n",
              "      <td>127547</td>\n",
              "    </tr>\n",
              "    <tr>\n",
              "      <th>27</th>\n",
              "      <td>20187</td>\n",
              "      <td>137667</td>\n",
              "    </tr>\n",
              "    <tr>\n",
              "      <th>28</th>\n",
              "      <td>20191</td>\n",
              "      <td>128072</td>\n",
              "    </tr>\n",
              "    <tr>\n",
              "      <th>29</th>\n",
              "      <td>20197</td>\n",
              "      <td>136965</td>\n",
              "    </tr>\n",
              "    <tr>\n",
              "      <th>30</th>\n",
              "      <td>20201</td>\n",
              "      <td>131684</td>\n",
              "    </tr>\n",
              "    <tr>\n",
              "      <th>31</th>\n",
              "      <td>20207</td>\n",
              "      <td>140665</td>\n",
              "    </tr>\n",
              "  </tbody>\n",
              "</table>\n",
              "</div>"
            ],
            "text/plain": [
              "    Año_mes  matriculados2\n",
              "0     20051          83286\n",
              "1     20057          78775\n",
              "2     20061          83498\n",
              "3     20067          81118\n",
              "4     20071          89863\n",
              "5     20077          88202\n",
              "6     20081          94649\n",
              "7     20087          91222\n",
              "8     20091         100269\n",
              "9     20097          93478\n",
              "10    20101          99157\n",
              "11    20107          85866\n",
              "12    20111         104368\n",
              "13    20117          97709\n",
              "14    20121          96159\n",
              "15    20127          94207\n",
              "16    20131         108078\n",
              "17    20137         114879\n",
              "18    20141         122346\n",
              "19    20147         119835\n",
              "20    20151         128953\n",
              "21    20157         123532\n",
              "22    20161         117219\n",
              "23    20167         126773\n",
              "24    20171         122383\n",
              "25    20177         134023\n",
              "26    20181         127547\n",
              "27    20187         137667\n",
              "28    20191         128072\n",
              "29    20197         136965\n",
              "30    20201         131684\n",
              "31    20207         140665"
            ]
          },
          "metadata": {},
          "execution_count": 21
        }
      ]
    },
    {
      "cell_type": "code",
      "metadata": {
        "colab": {
          "base_uri": "https://localhost:8080/",
          "height": 296
        },
        "id": "lkf4EOMadfd3",
        "outputId": "361ddfd0-7a16-403b-f08c-38ecb7d19f11"
      },
      "source": [
        "sb.lineplot(x ='Año_mes', y ='matriculados2', data = matriculas2, ci=False, markers=True)"
      ],
      "execution_count": null,
      "outputs": [
        {
          "output_type": "execute_result",
          "data": {
            "text/plain": [
              "<matplotlib.axes._subplots.AxesSubplot at 0x7f5667265ed0>"
            ]
          },
          "metadata": {},
          "execution_count": 22
        },
        {
          "output_type": "display_data",
          "data": {
            "image/png": "[encoded data removed]",
            "text/plain": [
              "<Figure size 432x288 with 1 Axes>"
            ]
          },
          "metadata": {
            "needs_background": "light"
          }
        }
      ]
    },
    {
      "cell_type": "markdown",
      "metadata": {
        "id": "IhC7kJXBR5R-"
      },
      "source": [
        "***Modelo lineal***\n",
        "\n",
        "\n",
        "---\n",
        "\n"
      ]
    },
    {
      "cell_type": "code",
      "metadata": {
        "colab": {
          "base_uri": "https://localhost:8080/"
        },
        "id": "GoIYQdQgSCR6",
        "outputId": "93ccb6f5-ece6-4711-c623-044df9986685"
      },
      "source": [
        "model4 = 'matriculados2~Año_mes'\n",
        "lm4   = sfm.ols(formula = model4, data = matriculas2).fit()\n",
        "print(lm4.summary())"
      ],
      "execution_count": null,
      "outputs": [
        {
          "output_type": "stream",
          "name": "stdout",
          "text": [
            "                            OLS Regression Results                            \n",
            "==============================================================================\n",
            "Dep. Variable:          matriculados2   R-squared:                       0.907\n",
            "Model:                            OLS   Adj. R-squared:                  0.904\n",
            "Method:                 Least Squares   F-statistic:                     294.3\n",
            "Date:                Thu, 11 Nov 2021   Prob (F-statistic):           4.71e-17\n",
            "Time:                        19:20:08   Log-Likelihood:                -322.88\n",
            "No. Observations:                  32   AIC:                             649.8\n",
            "Df Residuals:                      30   BIC:                             652.7\n",
            "Df Model:                           1                                         \n",
            "Covariance Type:            nonrobust                                         \n",
            "==============================================================================\n",
            "                 coef    std err          t      P>|t|      [0.025      0.975]\n",
            "------------------------------------------------------------------------------\n",
            "Intercept  -7.849e+06   4.64e+05    -16.920      0.000    -8.8e+06    -6.9e+06\n",
            "Año_mes      395.3554     23.047     17.154      0.000     348.288     442.423\n",
            "==============================================================================\n",
            "Omnibus:                        2.978   Durbin-Watson:                   1.809\n",
            "Prob(Omnibus):                  0.226   Jarque-Bera (JB):                1.954\n",
            "Skew:                          -0.594   Prob(JB):                        0.376\n",
            "Kurtosis:                       3.236   Cond. No.                     8.77e+06\n",
            "==============================================================================\n",
            "\n",
            "Warnings:\n",
            "[1] Standard Errors assume that the covariance matrix of the errors is correctly specified.\n",
            "[2] The condition number is large, 8.77e+06. This might indicate that there are\n",
            "strong multicollinearity or other numerical problems.\n"
          ]
        }
      ]
    },
    {
      "cell_type": "code",
      "metadata": {
        "colab": {
          "base_uri": "https://localhost:8080/"
        },
        "id": "fRdJ6GGzntBq",
        "outputId": "0057557b-cd4e-403f-ad1c-aa9f6842be54"
      },
      "source": [
        "predm=lm4.predict(pd.DataFrame(matriculas2['Año_mes']))\n",
        "predm"
      ],
      "execution_count": null,
      "outputs": [
        {
          "output_type": "execute_result",
          "data": {
            "text/plain": [
              "0      77988.747042\n",
              "1      80360.879481\n",
              "2      81942.301107\n",
              "3      84314.433546\n",
              "4      85895.855172\n",
              "5      88267.987611\n",
              "6      89849.409237\n",
              "7      92221.541676\n",
              "8      93802.963302\n",
              "9      96175.095742\n",
              "10     97756.517368\n",
              "11    100128.649807\n",
              "12    101710.071433\n",
              "13    104082.203872\n",
              "14    105663.625498\n",
              "15    108035.757937\n",
              "16    109617.179563\n",
              "17    111989.312002\n",
              "18    113570.733628\n",
              "19    115942.866067\n",
              "20    117524.287693\n",
              "21    119896.420132\n",
              "22    121477.841758\n",
              "23    123849.974198\n",
              "24    125431.395824\n",
              "25    127803.528263\n",
              "26    129384.949889\n",
              "27    131757.082328\n",
              "28    133338.503954\n",
              "29    135710.636393\n",
              "30    137292.058019\n",
              "31    139664.190458\n",
              "dtype: float64"
            ]
          },
          "metadata": {},
          "execution_count": 28
        }
      ]
    },
    {
      "cell_type": "code",
      "metadata": {
        "colab": {
          "base_uri": "https://localhost:8080/",
          "height": 296
        },
        "id": "2Ya-sTZrm3TR",
        "outputId": "716e9999-d0ba-42b5-993f-f3f334328c9f"
      },
      "source": [
        "matriculas2.plot(kind='scatter', x='Año_mes', y='matriculados2')\n",
        "plt.plot(pd.DataFrame(matriculas2['Año_mes']), predm, c='red')"
      ],
      "execution_count": null,
      "outputs": [
        {
          "output_type": "execute_result",
          "data": {
            "text/plain": [
              "[<matplotlib.lines.Line2D at 0x7f1388f5bf90>]"
            ]
          },
          "metadata": {},
          "execution_count": 29
        },
        {
          "output_type": "display_data",
          "data": {
            "image/png": "[encoded data removed]",
            "text/plain": [
              "<Figure size 432x288 with 1 Axes>"
            ]
          },
          "metadata": {
            "needs_background": "light"
          }
        }
      ]
    },
    {
      "cell_type": "markdown",
      "metadata": {
        "id": "pmLD20FzW_fx"
      },
      "source": [
        "***Regresion lineal Simple***\n",
        "\n",
        "---\n",
        "\n"
      ]
    },
    {
      "cell_type": "code",
      "metadata": {
        "id": "G0RSNn_IQvcl"
      },
      "source": [
        "X = matriculas2.iloc[:, :-1].values\n",
        "y = matriculas2.iloc[:, 1].values"
      ],
      "execution_count": null,
      "outputs": []
    },
    {
      "cell_type": "code",
      "metadata": {
        "id": "Jq8PL26CRZcC"
      },
      "source": [
        "X_train, X_test, y_train, y_test = train_test_split(X, y, test_size=0.3, random_state=42)"
      ],
      "execution_count": null,
      "outputs": []
    },
    {
      "cell_type": "code",
      "metadata": {
        "colab": {
          "base_uri": "https://localhost:8080/"
        },
        "id": "GsQFhMRtRdBO",
        "outputId": "4b47dfc2-4920-4af0-b35e-e470664b3137"
      },
      "source": [
        "regressor1 = LinearRegression()\n",
        "regressor1.fit(X, y)"
      ],
      "execution_count": null,
      "outputs": [
        {
          "output_type": "execute_result",
          "data": {
            "text/plain": [
              "LinearRegression(copy_X=True, fit_intercept=True, n_jobs=None, normalize=False)"
            ]
          },
          "metadata": {},
          "execution_count": 214
        }
      ]
    },
    {
      "cell_type": "code",
      "metadata": {
        "colab": {
          "base_uri": "https://localhost:8080/"
        },
        "id": "IyQkMIieRflK",
        "outputId": "44fdc40c-855b-40f3-d1be-0f8db1ce0e3b"
      },
      "source": [
        "print(regressor1.intercept_)"
      ],
      "execution_count": null,
      "outputs": [
        {
          "output_type": "stream",
          "name": "stdout",
          "text": [
            "-7849282.508962043\n"
          ]
        }
      ]
    },
    {
      "cell_type": "code",
      "metadata": {
        "colab": {
          "base_uri": "https://localhost:8080/"
        },
        "id": "kL9lv_0YRibO",
        "outputId": "905d4f41-2f26-436a-cf53-279571c312c8"
      },
      "source": [
        "print(regressor1.coef_)"
      ],
      "execution_count": null,
      "outputs": [
        {
          "output_type": "stream",
          "name": "stdout",
          "text": [
            "[395.35540651]\n"
          ]
        }
      ]
    },
    {
      "cell_type": "code",
      "metadata": {
        "colab": {
          "base_uri": "https://localhost:8080/"
        },
        "id": "HkONfSWg3sQ_",
        "outputId": "789495c8-876a-4a29-ca8f-153a5c46807a"
      },
      "source": [
        "graf_pred= (regressor1.coef_ * matriculas2['Año_mes'])+regressor1.intercept_\n",
        "graf_pred"
      ],
      "execution_count": null,
      "outputs": [
        {
          "output_type": "execute_result",
          "data": {
            "text/plain": [
              "0      77988.747042\n",
              "1      80360.879481\n",
              "2      81942.301107\n",
              "3      84314.433546\n",
              "4      85895.855172\n",
              "5      88267.987611\n",
              "6      89849.409237\n",
              "7      92221.541676\n",
              "8      93802.963302\n",
              "9      96175.095742\n",
              "10     97756.517368\n",
              "11    100128.649807\n",
              "12    101710.071433\n",
              "13    104082.203872\n",
              "14    105663.625498\n",
              "15    108035.757937\n",
              "16    109617.179563\n",
              "17    111989.312002\n",
              "18    113570.733628\n",
              "19    115942.866067\n",
              "20    117524.287693\n",
              "21    119896.420132\n",
              "22    121477.841758\n",
              "23    123849.974198\n",
              "24    125431.395824\n",
              "25    127803.528263\n",
              "26    129384.949889\n",
              "27    131757.082328\n",
              "28    133338.503954\n",
              "29    135710.636393\n",
              "30    137292.058019\n",
              "31    139664.190458\n",
              "Name: Año_mes, dtype: float64"
            ]
          },
          "metadata": {},
          "execution_count": 217
        }
      ]
    },
    {
      "cell_type": "code",
      "metadata": {
        "colab": {
          "base_uri": "https://localhost:8080/"
        },
        "id": "Y7eVaN0rRk-m",
        "outputId": "a82da9d6-3719-44ea-83e7-b9f7c790701a"
      },
      "source": [
        "y_pred1 = regressor1.predict(X_test)\n",
        "y_pred1"
      ],
      "execution_count": null,
      "outputs": [
        {
          "output_type": "execute_result",
          "data": {
            "text/plain": [
              "array([135710.63639292, 108035.75793697, 125431.39582357, 111989.31200211,\n",
              "        93802.96330248,  96175.09574156, 137292.05801898, 127803.52826265,\n",
              "       101710.07143276,  77988.74704194])"
            ]
          },
          "metadata": {},
          "execution_count": 219
        }
      ]
    },
    {
      "cell_type": "code",
      "metadata": {
        "colab": {
          "base_uri": "https://localhost:8080/",
          "height": 351
        },
        "id": "tXKFDT0_RuSg",
        "outputId": "63799aa9-0464-484f-d17a-e68eb4ee5160"
      },
      "source": [
        "f = pd.DataFrame({'Actual': y_test, 'Predicted': y_pred1})\n",
        "f"
      ],
      "execution_count": null,
      "outputs": [
        {
          "output_type": "execute_result",
          "data": {
            "text/html": [
              "<div>\n",
              "<style scoped>\n",
              "    .dataframe tbody tr th:only-of-type {\n",
              "        vertical-align: middle;\n",
              "    }\n",
              "\n",
              "    .dataframe tbody tr th {\n",
              "        vertical-align: top;\n",
              "    }\n",
              "\n",
              "    .dataframe thead th {\n",
              "        text-align: right;\n",
              "    }\n",
              "</style>\n",
              "<table border=\"1\" class=\"dataframe\">\n",
              "  <thead>\n",
              "    <tr style=\"text-align: right;\">\n",
              "      <th></th>\n",
              "      <th>Actual</th>\n",
              "      <th>Predicted</th>\n",
              "    </tr>\n",
              "  </thead>\n",
              "  <tbody>\n",
              "    <tr>\n",
              "      <th>0</th>\n",
              "      <td>136965</td>\n",
              "      <td>135710.636393</td>\n",
              "    </tr>\n",
              "    <tr>\n",
              "      <th>1</th>\n",
              "      <td>94207</td>\n",
              "      <td>108035.757937</td>\n",
              "    </tr>\n",
              "    <tr>\n",
              "      <th>2</th>\n",
              "      <td>122383</td>\n",
              "      <td>125431.395824</td>\n",
              "    </tr>\n",
              "    <tr>\n",
              "      <th>3</th>\n",
              "      <td>114879</td>\n",
              "      <td>111989.312002</td>\n",
              "    </tr>\n",
              "    <tr>\n",
              "      <th>4</th>\n",
              "      <td>100269</td>\n",
              "      <td>93802.963302</td>\n",
              "    </tr>\n",
              "    <tr>\n",
              "      <th>5</th>\n",
              "      <td>93478</td>\n",
              "      <td>96175.095742</td>\n",
              "    </tr>\n",
              "    <tr>\n",
              "      <th>6</th>\n",
              "      <td>131684</td>\n",
              "      <td>137292.058019</td>\n",
              "    </tr>\n",
              "    <tr>\n",
              "      <th>7</th>\n",
              "      <td>134023</td>\n",
              "      <td>127803.528263</td>\n",
              "    </tr>\n",
              "    <tr>\n",
              "      <th>8</th>\n",
              "      <td>104368</td>\n",
              "      <td>101710.071433</td>\n",
              "    </tr>\n",
              "    <tr>\n",
              "      <th>9</th>\n",
              "      <td>83286</td>\n",
              "      <td>77988.747042</td>\n",
              "    </tr>\n",
              "  </tbody>\n",
              "</table>\n",
              "</div>"
            ],
            "text/plain": [
              "   Actual      Predicted\n",
              "0  136965  135710.636393\n",
              "1   94207  108035.757937\n",
              "2  122383  125431.395824\n",
              "3  114879  111989.312002\n",
              "4  100269   93802.963302\n",
              "5   93478   96175.095742\n",
              "6  131684  137292.058019\n",
              "7  134023  127803.528263\n",
              "8  104368  101710.071433\n",
              "9   83286   77988.747042"
            ]
          },
          "metadata": {},
          "execution_count": 223
        }
      ]
    },
    {
      "cell_type": "code",
      "metadata": {
        "colab": {
          "base_uri": "https://localhost:8080/",
          "height": 296
        },
        "id": "Mx7mhNKy4GRu",
        "outputId": "551f6cf0-edca-4912-ce52-03430d6c4b39"
      },
      "source": [
        "matriculas2.plot(kind='scatter', x='Año_mes', y='matriculados2')\n",
        "plt.plot(pd.DataFrame(matriculas2['Año_mes']), graf_pred, c='red')"
      ],
      "execution_count": null,
      "outputs": [
        {
          "output_type": "execute_result",
          "data": {
            "text/plain": [
              "[<matplotlib.lines.Line2D at 0x7f137301c150>]"
            ]
          },
          "metadata": {},
          "execution_count": 220
        },
        {
          "output_type": "display_data",
          "data": {
            "image/png": "[encoded data removed]",
            "text/plain": [
              "<Figure size 432x288 with 1 Axes>"
            ]
          },
          "metadata": {
            "needs_background": "light"
          }
        }
      ]
    },
    {
      "cell_type": "code",
      "metadata": {
        "colab": {
          "base_uri": "https://localhost:8080/"
        },
        "id": "c2y_Ocp7R1Tx",
        "outputId": "64895ad9-ac47-4d33-a684-59c0dfb41a7e"
      },
      "source": [
        "from sklearn import metrics \n",
        "print('Mean Absolute Error:', metrics.mean_absolute_error(y_test, y_pred1))\n",
        "print('Mean Squared Error:', metrics.mean_squared_error(y_test, y_pred1))\n",
        "print('Root Mean Squared Error:', np.sqrt(metrics.mean_squared_error(y_test, y_pred1)))\n",
        "print('R-squared score (training): {:.3f}'\n",
        "     .format(regressor1.score(X, y)))\n",
        "print('R-squared score (test): {:.3f}\\n'\n",
        "     .format(regressor1.score(X_test, y_test)))"
      ],
      "execution_count": null,
      "outputs": [
        {
          "output_type": "stream",
          "name": "stdout",
          "text": [
            "Mean Absolute Error: 4996.704908622242\n",
            "Mean Squared Error: 36479256.05793993\n",
            "Root Mean Squared Error: 6039.8059619444675\n",
            "R-squared score (training): 0.907\n",
            "R-squared score (test): 0.889\n",
            "\n"
          ]
        }
      ]
    },
    {
      "cell_type": "code",
      "metadata": {
        "colab": {
          "base_uri": "https://localhost:8080/"
        },
        "id": "r0-FMqUJR34h",
        "outputId": "b3e6fb4b-587c-41ab-ee73-cffbe9eadfa3"
      },
      "source": [
        "print('El r^2 es:',r2_score(y_test,y_pred1))"
      ],
      "execution_count": null,
      "outputs": [
        {
          "output_type": "stream",
          "name": "stdout",
          "text": [
            "El r^2 es: 0.8891155606098675\n"
          ]
        }
      ]
    },
    {
      "cell_type": "code",
      "metadata": {
        "colab": {
          "base_uri": "https://localhost:8080/"
        },
        "id": "dKrpa9cuQgHy",
        "outputId": "78a172cb-f34f-4414-9e4b-011f612191b6"
      },
      "source": [
        "regressor1.predict([[20211]])"
      ],
      "execution_count": null,
      "outputs": [
        {
          "output_type": "execute_result",
          "data": {
            "text/plain": [
              "array([141245.61208411])"
            ]
          },
          "metadata": {},
          "execution_count": 226
        }
      ]
    },
    {
      "cell_type": "markdown",
      "metadata": {
        "id": "fyDpiarEBSp2"
      },
      "source": [
        "***La predicción final para el primer semestre del año 2021 es de: 141.245 personas matriculadas en el sector de las TIC***\n"
      ]
    },
    {
      "cell_type": "markdown",
      "metadata": {
        "id": "Dzt3peNU__ga"
      },
      "source": [
        "-"
      ]
    },
    {
      "cell_type": "markdown",
      "metadata": {
        "id": "91voweT_LSmO"
      },
      "source": [
        "\n",
        "\n",
        "---\n",
        "\n",
        "\n",
        "\n",
        "---\n",
        "\n"
      ]
    },
    {
      "cell_type": "markdown",
      "metadata": {
        "id": "-GzvgywZhiw2"
      },
      "source": [
        "#**Matriculados en educación superior - pregrado en el sector de las TIC por GENERO**"
      ]
    },
    {
      "cell_type": "markdown",
      "metadata": {
        "id": "Jd0L2FCU_8XS"
      },
      "source": [
        "\n",
        "\n",
        "---\n",
        "\n",
        "\n",
        "\n",
        "---\n",
        "\n"
      ]
    },
    {
      "cell_type": "markdown",
      "metadata": {
        "id": "QRi5aUsG_GCa"
      },
      "source": [
        "***Graficos***"
      ]
    },
    {
      "cell_type": "code",
      "metadata": {
        "id": "CPmjCRBP4MCe"
      },
      "source": [
        "graficas2= df[df['NBC']=='INGENIERIA DE SISTEMAS, TELEMATICA Y AFINES']\n",
        "columns_to_keep = df.columns\n",
        "graficas2 =graficas2[columns_to_keep]"
      ],
      "execution_count": 10,
      "outputs": []
    },
    {
      "cell_type": "code",
      "metadata": {
        "colab": {
          "base_uri": "https://localhost:8080/",
          "height": 957
        },
        "id": "o0Vey5x_4MCe",
        "outputId": "a908c2a9-be41-41cf-ad18-655131a19ceb"
      },
      "source": [
        "fig, ax = plt.subplots(3,2, figsize=(20,12))\n",
        "\n",
        "matg1=graficas2.groupby('Sexo').Matriculados.sum()\n",
        "matg2=graficas2.groupby(['Sexo','Año'])['Matriculados'].sum().reset_index(name='matriculados')\n",
        "matg3=graficas2.groupby(['Sexo','Semestre'])['Matriculados'].sum().reset_index(name='matriculados')\n",
        "matg4=graficas2.groupby(['Año','Sexo','Metodología programa'])['Matriculados'].sum().reset_index(name='matriculados')\n",
        "matg5=graficas2.groupby(['Sexo','Departamento oferta del programa'])['Matriculados'].sum().reset_index(name='matriculados')\n",
        "matg6=graficas2.groupby(['Sexo','Sector IES'])['Matriculados'].sum().reset_index(name='matriculados')\n",
        "\n",
        "\n",
        "sb.barplot(x=matg1.index, y=matg1.values, palette=\"pastel\", ax=ax[0,0])\n",
        "sb.lineplot(x ='Año', y ='matriculados', data = matg2, hue = 'Sexo', style='Sexo',palette=\"pastel\", ci=False, markers=True, ax=ax[0,1])\n",
        "sb.scatterplot(x='Metodología programa', y='matriculados', data=matg4, hue='Sexo', palette=\"pastel\", ci=False, markers=True, ax=ax[1,0])\n",
        "sb.barplot(x='Semestre', y='matriculados', hue='Sexo', data=matg3, palette=\"pastel\", ax=ax[1,1])\n",
        "sb.barplot(x ='Departamento oferta del programa', y = 'matriculados', data =matg5, hue = 'Sexo', palette=\"pastel\")\n",
        "sb.barplot(x='Sector IES', y='matriculados', hue='Sexo', data=matg6, palette=\"pastel\", ax=ax[2,0])\n",
        "plt.xticks(rotation=90)\n",
        "\n",
        "\n",
        "ax[0, 0].set_title(\"NUMERO TOTAL DE MATRICULADOS\", position=(0.5, 0.9))\n",
        "ax[0, 1].set_title(\"NUMERO DE MATRICULADOS POR AÑO\", position=(0.5, 0.9))\n",
        "ax[1, 1].set_title(\"NUMERO DE MATRICULADOS POR SEMESTRE\", position=(0.5, 0.9))\n",
        "ax[1, 0].set_title(\"NUMERO DE MATRICULADOS POR METODOLOGIA\", position=(0.5, 0.9))\n",
        "ax[2, 0].set_title(\"NUMERO DE MATRICULADOS POR SECTOR\", position=(0.5, 0.9))\n",
        "\n",
        "plt.show()"
      ],
      "execution_count": 12,
      "outputs": [
        {
          "output_type": "display_data",
          "data": {
            "image/png": "[encoded data removed]",
            "text/plain": [
              "<Figure size 1440x864 with 6 Axes>"
            ]
          },
          "metadata": {
            "needs_background": "light"
          }
        }
      ]
    },
    {
      "cell_type": "markdown",
      "metadata": {
        "id": "v5k8aIlk_LMU"
      },
      "source": [
        "##***HOMBRE***\n",
        "\n",
        "Se escogieron las columnas de: NBC (Nivel basico de conocimiento y hace referencia a la profesión a fin del sector de las TIc), sexo = hombre, año, semestre, numero de matriculados; Para predecir cuantos se matricularan en el año 2021 en el sector de las TIC"
      ]
    },
    {
      "cell_type": "code",
      "metadata": {
        "id": "MpkGTU1Uh75G"
      },
      "source": [
        "df3=df.copy()"
      ],
      "execution_count": 13,
      "outputs": []
    },
    {
      "cell_type": "code",
      "metadata": {
        "id": "F8xZbX-Ad2ky"
      },
      "source": [
        "df3['Mes']= np.where(df3['Semestre']==2, '7', '1')"
      ],
      "execution_count": 14,
      "outputs": []
    },
    {
      "cell_type": "code",
      "metadata": {
        "colab": {
          "base_uri": "https://localhost:8080/"
        },
        "id": "Htko4MxQb3J8",
        "outputId": "ad151a07-df0a-4e87-bcff-9a0c44d0b5eb"
      },
      "source": [
        "df3['Año'].astype('str')"
      ],
      "execution_count": 15,
      "outputs": [
        {
          "output_type": "execute_result",
          "data": {
            "text/plain": [
              "0         2005\n",
              "1         2005\n",
              "2         2005\n",
              "3         2005\n",
              "4         2005\n",
              "          ... \n",
              "540153    2020\n",
              "540154    2020\n",
              "540155    2020\n",
              "540156    2020\n",
              "540157    2020\n",
              "Name: Año, Length: 540158, dtype: object"
            ]
          },
          "metadata": {},
          "execution_count": 15
        }
      ]
    },
    {
      "cell_type": "code",
      "metadata": {
        "id": "rMrOsgFLcDvW"
      },
      "source": [
        "df3['Año_mes'] = df3['Año'].map(str) + \"\" + df3['Mes']"
      ],
      "execution_count": 16,
      "outputs": []
    },
    {
      "cell_type": "code",
      "metadata": {
        "id": "j2i0rztEcDvX"
      },
      "source": [
        "df3['Año_mes']=df3['Año_mes'].astype(int)"
      ],
      "execution_count": 17,
      "outputs": []
    },
    {
      "cell_type": "code",
      "metadata": {
        "colab": {
          "base_uri": "https://localhost:8080/",
          "height": 408
        },
        "id": "yNTTRufck5-r",
        "outputId": "cd85573b-b94a-4eb4-f043-53dc1388fb69"
      },
      "source": [
        "matriculas3 = df3[(df3['NBC']=='INGENIERIA DE SISTEMAS, TELEMATICA Y AFINES') & (df3['Sexo']=='HOMBRE')]\n",
        "columns_to_keep = ['Año_mes','Matriculados']\n",
        "matriculas3 =matriculas3[columns_to_keep]\n",
        "matriculas3"
      ],
      "execution_count": 18,
      "outputs": [
        {
          "output_type": "execute_result",
          "data": {
            "text/html": [
              "<div>\n",
              "<style scoped>\n",
              "    .dataframe tbody tr th:only-of-type {\n",
              "        vertical-align: middle;\n",
              "    }\n",
              "\n",
              "    .dataframe tbody tr th {\n",
              "        vertical-align: top;\n",
              "    }\n",
              "\n",
              "    .dataframe thead th {\n",
              "        text-align: right;\n",
              "    }\n",
              "</style>\n",
              "<table border=\"1\" class=\"dataframe\">\n",
              "  <thead>\n",
              "    <tr style=\"text-align: right;\">\n",
              "      <th></th>\n",
              "      <th>Año_mes</th>\n",
              "      <th>Matriculados</th>\n",
              "    </tr>\n",
              "  </thead>\n",
              "  <tbody>\n",
              "    <tr>\n",
              "      <th>13</th>\n",
              "      <td>20057</td>\n",
              "      <td>2341</td>\n",
              "    </tr>\n",
              "    <tr>\n",
              "      <th>16</th>\n",
              "      <td>20051</td>\n",
              "      <td>2007</td>\n",
              "    </tr>\n",
              "    <tr>\n",
              "      <th>44</th>\n",
              "      <td>20051</td>\n",
              "      <td>1255</td>\n",
              "    </tr>\n",
              "    <tr>\n",
              "      <th>51</th>\n",
              "      <td>20057</td>\n",
              "      <td>1183</td>\n",
              "    </tr>\n",
              "    <tr>\n",
              "      <th>61</th>\n",
              "      <td>20057</td>\n",
              "      <td>1144</td>\n",
              "    </tr>\n",
              "    <tr>\n",
              "      <th>...</th>\n",
              "      <td>...</td>\n",
              "      <td>...</td>\n",
              "    </tr>\n",
              "    <tr>\n",
              "      <th>539815</th>\n",
              "      <td>20207</td>\n",
              "      <td>4</td>\n",
              "    </tr>\n",
              "    <tr>\n",
              "      <th>539868</th>\n",
              "      <td>20201</td>\n",
              "      <td>4</td>\n",
              "    </tr>\n",
              "    <tr>\n",
              "      <th>539878</th>\n",
              "      <td>20201</td>\n",
              "      <td>4</td>\n",
              "    </tr>\n",
              "    <tr>\n",
              "      <th>539906</th>\n",
              "      <td>20207</td>\n",
              "      <td>4</td>\n",
              "    </tr>\n",
              "    <tr>\n",
              "      <th>539907</th>\n",
              "      <td>20201</td>\n",
              "      <td>4</td>\n",
              "    </tr>\n",
              "  </tbody>\n",
              "</table>\n",
              "<p>23561 rows × 2 columns</p>\n",
              "</div>"
            ],
            "text/plain": [
              "        Año_mes  Matriculados\n",
              "13        20057          2341\n",
              "16        20051          2007\n",
              "44        20051          1255\n",
              "51        20057          1183\n",
              "61        20057          1144\n",
              "...         ...           ...\n",
              "539815    20207             4\n",
              "539868    20201             4\n",
              "539878    20201             4\n",
              "539906    20207             4\n",
              "539907    20201             4\n",
              "\n",
              "[23561 rows x 2 columns]"
            ]
          },
          "metadata": {},
          "execution_count": 18
        }
      ]
    },
    {
      "cell_type": "code",
      "metadata": {
        "id": "TYlMdv14k56u"
      },
      "source": [
        "matriculas3= matriculas3.groupby([ 'Año_mes'])['Matriculados'].sum().reset_index(name='matriculados3')"
      ],
      "execution_count": null,
      "outputs": []
    },
    {
      "cell_type": "code",
      "metadata": {
        "colab": {
          "base_uri": "https://localhost:8080/",
          "height": 1000
        },
        "id": "6VG9iRKuk5yW",
        "outputId": "d1637a13-95bd-4b90-a695-f1dcaf0093a4"
      },
      "source": [
        "matriculas3"
      ],
      "execution_count": null,
      "outputs": [
        {
          "output_type": "execute_result",
          "data": {
            "text/html": [
              "<div>\n",
              "<style scoped>\n",
              "    .dataframe tbody tr th:only-of-type {\n",
              "        vertical-align: middle;\n",
              "    }\n",
              "\n",
              "    .dataframe tbody tr th {\n",
              "        vertical-align: top;\n",
              "    }\n",
              "\n",
              "    .dataframe thead th {\n",
              "        text-align: right;\n",
              "    }\n",
              "</style>\n",
              "<table border=\"1\" class=\"dataframe\">\n",
              "  <thead>\n",
              "    <tr style=\"text-align: right;\">\n",
              "      <th></th>\n",
              "      <th>Año_mes</th>\n",
              "      <th>matriculados3</th>\n",
              "    </tr>\n",
              "  </thead>\n",
              "  <tbody>\n",
              "    <tr>\n",
              "      <th>0</th>\n",
              "      <td>20051</td>\n",
              "      <td>54157</td>\n",
              "    </tr>\n",
              "    <tr>\n",
              "      <th>1</th>\n",
              "      <td>20057</td>\n",
              "      <td>52159</td>\n",
              "    </tr>\n",
              "    <tr>\n",
              "      <th>2</th>\n",
              "      <td>20061</td>\n",
              "      <td>55217</td>\n",
              "    </tr>\n",
              "    <tr>\n",
              "      <th>3</th>\n",
              "      <td>20067</td>\n",
              "      <td>52609</td>\n",
              "    </tr>\n",
              "    <tr>\n",
              "      <th>4</th>\n",
              "      <td>20071</td>\n",
              "      <td>60268</td>\n",
              "    </tr>\n",
              "    <tr>\n",
              "      <th>5</th>\n",
              "      <td>20077</td>\n",
              "      <td>59399</td>\n",
              "    </tr>\n",
              "    <tr>\n",
              "      <th>6</th>\n",
              "      <td>20081</td>\n",
              "      <td>64019</td>\n",
              "    </tr>\n",
              "    <tr>\n",
              "      <th>7</th>\n",
              "      <td>20087</td>\n",
              "      <td>62377</td>\n",
              "    </tr>\n",
              "    <tr>\n",
              "      <th>8</th>\n",
              "      <td>20091</td>\n",
              "      <td>67950</td>\n",
              "    </tr>\n",
              "    <tr>\n",
              "      <th>9</th>\n",
              "      <td>20097</td>\n",
              "      <td>64444</td>\n",
              "    </tr>\n",
              "    <tr>\n",
              "      <th>10</th>\n",
              "      <td>20101</td>\n",
              "      <td>68327</td>\n",
              "    </tr>\n",
              "    <tr>\n",
              "      <th>11</th>\n",
              "      <td>20107</td>\n",
              "      <td>59664</td>\n",
              "    </tr>\n",
              "    <tr>\n",
              "      <th>12</th>\n",
              "      <td>20111</td>\n",
              "      <td>72928</td>\n",
              "    </tr>\n",
              "    <tr>\n",
              "      <th>13</th>\n",
              "      <td>20117</td>\n",
              "      <td>69649</td>\n",
              "    </tr>\n",
              "    <tr>\n",
              "      <th>14</th>\n",
              "      <td>20121</td>\n",
              "      <td>69478</td>\n",
              "    </tr>\n",
              "    <tr>\n",
              "      <th>15</th>\n",
              "      <td>20127</td>\n",
              "      <td>68938</td>\n",
              "    </tr>\n",
              "    <tr>\n",
              "      <th>16</th>\n",
              "      <td>20131</td>\n",
              "      <td>79205</td>\n",
              "    </tr>\n",
              "    <tr>\n",
              "      <th>17</th>\n",
              "      <td>20137</td>\n",
              "      <td>84693</td>\n",
              "    </tr>\n",
              "    <tr>\n",
              "      <th>18</th>\n",
              "      <td>20141</td>\n",
              "      <td>90822</td>\n",
              "    </tr>\n",
              "    <tr>\n",
              "      <th>19</th>\n",
              "      <td>20147</td>\n",
              "      <td>89596</td>\n",
              "    </tr>\n",
              "    <tr>\n",
              "      <th>20</th>\n",
              "      <td>20151</td>\n",
              "      <td>96894</td>\n",
              "    </tr>\n",
              "    <tr>\n",
              "      <th>21</th>\n",
              "      <td>20157</td>\n",
              "      <td>94030</td>\n",
              "    </tr>\n",
              "    <tr>\n",
              "      <th>22</th>\n",
              "      <td>20161</td>\n",
              "      <td>91116</td>\n",
              "    </tr>\n",
              "    <tr>\n",
              "      <th>23</th>\n",
              "      <td>20167</td>\n",
              "      <td>98059</td>\n",
              "    </tr>\n",
              "    <tr>\n",
              "      <th>24</th>\n",
              "      <td>20171</td>\n",
              "      <td>96001</td>\n",
              "    </tr>\n",
              "    <tr>\n",
              "      <th>25</th>\n",
              "      <td>20177</td>\n",
              "      <td>104284</td>\n",
              "    </tr>\n",
              "    <tr>\n",
              "      <th>26</th>\n",
              "      <td>20181</td>\n",
              "      <td>100267</td>\n",
              "    </tr>\n",
              "    <tr>\n",
              "      <th>27</th>\n",
              "      <td>20187</td>\n",
              "      <td>107114</td>\n",
              "    </tr>\n",
              "    <tr>\n",
              "      <th>28</th>\n",
              "      <td>20191</td>\n",
              "      <td>101627</td>\n",
              "    </tr>\n",
              "    <tr>\n",
              "      <th>29</th>\n",
              "      <td>20197</td>\n",
              "      <td>107974</td>\n",
              "    </tr>\n",
              "    <tr>\n",
              "      <th>30</th>\n",
              "      <td>20201</td>\n",
              "      <td>104140</td>\n",
              "    </tr>\n",
              "    <tr>\n",
              "      <th>31</th>\n",
              "      <td>20207</td>\n",
              "      <td>109169</td>\n",
              "    </tr>\n",
              "  </tbody>\n",
              "</table>\n",
              "</div>"
            ],
            "text/plain": [
              "    Año_mes  matriculados3\n",
              "0     20051          54157\n",
              "1     20057          52159\n",
              "2     20061          55217\n",
              "3     20067          52609\n",
              "4     20071          60268\n",
              "5     20077          59399\n",
              "6     20081          64019\n",
              "7     20087          62377\n",
              "8     20091          67950\n",
              "9     20097          64444\n",
              "10    20101          68327\n",
              "11    20107          59664\n",
              "12    20111          72928\n",
              "13    20117          69649\n",
              "14    20121          69478\n",
              "15    20127          68938\n",
              "16    20131          79205\n",
              "17    20137          84693\n",
              "18    20141          90822\n",
              "19    20147          89596\n",
              "20    20151          96894\n",
              "21    20157          94030\n",
              "22    20161          91116\n",
              "23    20167          98059\n",
              "24    20171          96001\n",
              "25    20177         104284\n",
              "26    20181         100267\n",
              "27    20187         107114\n",
              "28    20191         101627\n",
              "29    20197         107974\n",
              "30    20201         104140\n",
              "31    20207         109169"
            ]
          },
          "metadata": {},
          "execution_count": 189
        }
      ]
    },
    {
      "cell_type": "code",
      "metadata": {
        "colab": {
          "base_uri": "https://localhost:8080/",
          "height": 296
        },
        "id": "AgUCX1swlPYg",
        "outputId": "24284e11-021c-4c92-bff0-b5c0648397ba"
      },
      "source": [
        "sb.lineplot(x ='Año_mes', y ='matriculados3', data = matriculas3, ci=False, markers=True)"
      ],
      "execution_count": null,
      "outputs": [
        {
          "output_type": "execute_result",
          "data": {
            "text/plain": [
              "<matplotlib.axes._subplots.AxesSubplot at 0x7f564ea42ad0>"
            ]
          },
          "metadata": {},
          "execution_count": 190
        },
        {
          "output_type": "display_data",
          "data": {
            "image/png": "[encoded data removed]",
            "text/plain": [
              "<Figure size 432x288 with 1 Axes>"
            ]
          },
          "metadata": {
            "needs_background": "light"
          }
        }
      ]
    },
    {
      "cell_type": "markdown",
      "metadata": {
        "id": "wKTmYQFR_mTz"
      },
      "source": [
        "***Modelo lineal*** \n",
        "\n",
        "\n",
        "---\n",
        "\n"
      ]
    },
    {
      "cell_type": "code",
      "metadata": {
        "colab": {
          "base_uri": "https://localhost:8080/"
        },
        "id": "v3gmlb1Rq2lw",
        "outputId": "d700e17a-ad98-4188-fc8d-a324fefd5a4b"
      },
      "source": [
        "model3 = 'matriculados3~+Año_mes'\n",
        "lm3   = sfm.ols(formula = model3, data = matriculas3).fit()\n",
        "print(lm3.summary())"
      ],
      "execution_count": null,
      "outputs": [
        {
          "output_type": "stream",
          "name": "stdout",
          "text": [
            "                            OLS Regression Results                            \n",
            "==============================================================================\n",
            "Dep. Variable:          matriculados3   R-squared:                       0.946\n",
            "Model:                            OLS   Adj. R-squared:                  0.944\n",
            "Method:                 Least Squares   F-statistic:                     524.2\n",
            "Date:                Sat, 13 Nov 2021   Prob (F-statistic):           1.49e-20\n",
            "Time:                        06:52:13   Log-Likelihood:                -313.74\n",
            "No. Observations:                  32   AIC:                             631.5\n",
            "Df Residuals:                      30   BIC:                             634.4\n",
            "Df Model:                           1                                         \n",
            "Covariance Type:            nonrobust                                         \n",
            "==============================================================================\n",
            "                 coef    std err          t      P>|t|      [0.025      0.975]\n",
            "------------------------------------------------------------------------------\n",
            "Intercept  -7.902e+06   3.49e+05    -22.666      0.000   -8.61e+06   -7.19e+06\n",
            "Año_mes      396.5563     17.320     22.895      0.000     361.183     431.929\n",
            "==============================================================================\n",
            "Omnibus:                        4.356   Durbin-Watson:                   1.462\n",
            "Prob(Omnibus):                  0.113   Jarque-Bera (JB):                2.973\n",
            "Skew:                          -0.708   Prob(JB):                        0.226\n",
            "Kurtosis:                       3.471   Cond. No.                     8.77e+06\n",
            "==============================================================================\n",
            "\n",
            "Warnings:\n",
            "[1] Standard Errors assume that the covariance matrix of the errors is correctly specified.\n",
            "[2] The condition number is large, 8.77e+06. This might indicate that there are\n",
            "strong multicollinearity or other numerical problems.\n"
          ]
        }
      ]
    },
    {
      "cell_type": "code",
      "metadata": {
        "colab": {
          "base_uri": "https://localhost:8080/"
        },
        "id": "vDDuCcChrG38",
        "outputId": "117d484d-be3e-40f4-ec74-02c7e6ef376e"
      },
      "source": [
        "predm2=lm3.predict(pd.DataFrame(matriculas3['Año_mes']))\n",
        "predm2"
      ],
      "execution_count": null,
      "outputs": [
        {
          "output_type": "execute_result",
          "data": {
            "text/plain": [
              "0      48961.546802\n",
              "1      51340.884548\n",
              "2      52927.109712\n",
              "3      55306.447458\n",
              "4      56892.672622\n",
              "5      59272.010368\n",
              "6      60858.235532\n",
              "7      63237.573278\n",
              "8      64823.798442\n",
              "9      67203.136188\n",
              "10     68789.361352\n",
              "11     71168.699098\n",
              "12     72754.924262\n",
              "13     75134.262008\n",
              "14     76720.487172\n",
              "15     79099.824918\n",
              "16     80686.050082\n",
              "17     83065.387828\n",
              "18     84651.612992\n",
              "19     87030.950738\n",
              "20     88617.175902\n",
              "21     90996.513648\n",
              "22     92582.738812\n",
              "23     94962.076558\n",
              "24     96548.301722\n",
              "25     98927.639468\n",
              "26    100513.864632\n",
              "27    102893.202378\n",
              "28    104479.427542\n",
              "29    106858.765288\n",
              "30    108444.990452\n",
              "31    110824.328198\n",
              "dtype: float64"
            ]
          },
          "metadata": {},
          "execution_count": 192
        }
      ]
    },
    {
      "cell_type": "code",
      "metadata": {
        "colab": {
          "base_uri": "https://localhost:8080/",
          "height": 296
        },
        "id": "ZBZjD31UrRY5",
        "outputId": "9a27b284-c9d6-4f61-b55e-a6d62d1a2a1c"
      },
      "source": [
        "matriculas3.plot(kind='scatter', x='Año_mes', y='matriculados3')\n",
        "plt.plot(pd.DataFrame(matriculas3['Año_mes']), predm2, c='red')"
      ],
      "execution_count": null,
      "outputs": [
        {
          "output_type": "execute_result",
          "data": {
            "text/plain": [
              "[<matplotlib.lines.Line2D at 0x7f564c046190>]"
            ]
          },
          "metadata": {},
          "execution_count": 193
        },
        {
          "output_type": "display_data",
          "data": {
            "image/png": "[encoded data removed]",
            "text/plain": [
              "<Figure size 432x288 with 1 Axes>"
            ]
          },
          "metadata": {
            "needs_background": "light"
          }
        }
      ]
    },
    {
      "cell_type": "markdown",
      "metadata": {
        "id": "GotGy_EgAVAR"
      },
      "source": [
        "***Regresion lineal Simple***\n",
        "\n",
        "---\n"
      ]
    },
    {
      "cell_type": "code",
      "metadata": {
        "id": "43FoYatnd6K2"
      },
      "source": [
        "X = matriculas3.iloc[:, :-1].values\n",
        "y = matriculas3.iloc[:, 1].values"
      ],
      "execution_count": null,
      "outputs": []
    },
    {
      "cell_type": "code",
      "metadata": {
        "id": "ND2_MIlHd6K3"
      },
      "source": [
        "X_train, X_test, y_train, y_test = train_test_split(X, y, test_size=0.3, random_state=42)"
      ],
      "execution_count": null,
      "outputs": []
    },
    {
      "cell_type": "code",
      "metadata": {
        "colab": {
          "base_uri": "https://localhost:8080/"
        },
        "id": "v_LGsDvrd6K3",
        "outputId": "d5356687-0c42-4e04-f213-4c87206a5df6"
      },
      "source": [
        "regressor2 = LinearRegression()\n",
        "regressor2.fit(X, y)"
      ],
      "execution_count": null,
      "outputs": [
        {
          "output_type": "execute_result",
          "data": {
            "text/plain": [
              "LinearRegression(copy_X=True, fit_intercept=True, n_jobs=None, normalize=False)"
            ]
          },
          "metadata": {},
          "execution_count": 196
        }
      ]
    },
    {
      "cell_type": "code",
      "metadata": {
        "colab": {
          "base_uri": "https://localhost:8080/"
        },
        "id": "l9v2nJzzd6K4",
        "outputId": "5c0bc205-5de4-4dce-8536-3c76ec09d1e3"
      },
      "source": [
        "print(regressor2.intercept_)"
      ],
      "execution_count": null,
      "outputs": [
        {
          "output_type": "stream",
          "name": "stdout",
          "text": [
            "-7902388.644095595\n"
          ]
        }
      ]
    },
    {
      "cell_type": "code",
      "metadata": {
        "colab": {
          "base_uri": "https://localhost:8080/"
        },
        "id": "Pd1964_Nd6K5",
        "outputId": "be05f4e2-1705-47be-deb3-ec381f461e70"
      },
      "source": [
        "print(regressor2.coef_)"
      ],
      "execution_count": null,
      "outputs": [
        {
          "output_type": "stream",
          "name": "stdout",
          "text": [
            "[396.556291]\n"
          ]
        }
      ]
    },
    {
      "cell_type": "code",
      "metadata": {
        "colab": {
          "base_uri": "https://localhost:8080/"
        },
        "id": "UUTB0HMgEFwa",
        "outputId": "650ecd99-6859-4dd3-cae3-033a291202d1"
      },
      "source": [
        "graf2_pred= (regressor2.coef_ * matriculas3['Año_mes'])+regressor2.intercept_\n",
        "graf2_pred"
      ],
      "execution_count": null,
      "outputs": [
        {
          "output_type": "execute_result",
          "data": {
            "text/plain": [
              "0      48961.546802\n",
              "1      51340.884548\n",
              "2      52927.109712\n",
              "3      55306.447458\n",
              "4      56892.672622\n",
              "5      59272.010368\n",
              "6      60858.235532\n",
              "7      63237.573278\n",
              "8      64823.798442\n",
              "9      67203.136188\n",
              "10     68789.361352\n",
              "11     71168.699098\n",
              "12     72754.924262\n",
              "13     75134.262008\n",
              "14     76720.487172\n",
              "15     79099.824918\n",
              "16     80686.050082\n",
              "17     83065.387828\n",
              "18     84651.612992\n",
              "19     87030.950738\n",
              "20     88617.175902\n",
              "21     90996.513648\n",
              "22     92582.738812\n",
              "23     94962.076558\n",
              "24     96548.301722\n",
              "25     98927.639468\n",
              "26    100513.864632\n",
              "27    102893.202378\n",
              "28    104479.427542\n",
              "29    106858.765288\n",
              "30    108444.990452\n",
              "31    110824.328198\n",
              "Name: Año_mes, dtype: float64"
            ]
          },
          "metadata": {},
          "execution_count": 199
        }
      ]
    },
    {
      "cell_type": "code",
      "metadata": {
        "colab": {
          "base_uri": "https://localhost:8080/"
        },
        "id": "dShTWaRId6K5",
        "outputId": "ef8b2848-25c1-49dd-8507-f42693dd8be7"
      },
      "source": [
        "y_pred2 = regressor2.predict(X_test)\n",
        "y_pred2"
      ],
      "execution_count": null,
      "outputs": [
        {
          "output_type": "execute_result",
          "data": {
            "text/plain": [
              "array([106858.76528819,  79099.82491799,  96548.30172212,  83065.38782802,\n",
              "        64823.79844189,  67203.13618791, 108444.9904522 ,  98927.63946814,\n",
              "        72754.92426195,  48961.54680178])"
            ]
          },
          "metadata": {},
          "execution_count": 200
        }
      ]
    },
    {
      "cell_type": "code",
      "metadata": {
        "colab": {
          "base_uri": "https://localhost:8080/",
          "height": 351
        },
        "id": "ug7sUXvOd6K6",
        "outputId": "1bfc1e5d-cd7f-41a2-a2a6-06440b92e9cd"
      },
      "source": [
        "t = pd.DataFrame({'Actual': y_test, 'Predicted': y_pred2})\n",
        "t"
      ],
      "execution_count": null,
      "outputs": [
        {
          "output_type": "execute_result",
          "data": {
            "text/html": [
              "<div>\n",
              "<style scoped>\n",
              "    .dataframe tbody tr th:only-of-type {\n",
              "        vertical-align: middle;\n",
              "    }\n",
              "\n",
              "    .dataframe tbody tr th {\n",
              "        vertical-align: top;\n",
              "    }\n",
              "\n",
              "    .dataframe thead th {\n",
              "        text-align: right;\n",
              "    }\n",
              "</style>\n",
              "<table border=\"1\" class=\"dataframe\">\n",
              "  <thead>\n",
              "    <tr style=\"text-align: right;\">\n",
              "      <th></th>\n",
              "      <th>Actual</th>\n",
              "      <th>Predicted</th>\n",
              "    </tr>\n",
              "  </thead>\n",
              "  <tbody>\n",
              "    <tr>\n",
              "      <th>0</th>\n",
              "      <td>107974</td>\n",
              "      <td>106858.765288</td>\n",
              "    </tr>\n",
              "    <tr>\n",
              "      <th>1</th>\n",
              "      <td>68938</td>\n",
              "      <td>79099.824918</td>\n",
              "    </tr>\n",
              "    <tr>\n",
              "      <th>2</th>\n",
              "      <td>96001</td>\n",
              "      <td>96548.301722</td>\n",
              "    </tr>\n",
              "    <tr>\n",
              "      <th>3</th>\n",
              "      <td>84693</td>\n",
              "      <td>83065.387828</td>\n",
              "    </tr>\n",
              "    <tr>\n",
              "      <th>4</th>\n",
              "      <td>67950</td>\n",
              "      <td>64823.798442</td>\n",
              "    </tr>\n",
              "    <tr>\n",
              "      <th>5</th>\n",
              "      <td>64444</td>\n",
              "      <td>67203.136188</td>\n",
              "    </tr>\n",
              "    <tr>\n",
              "      <th>6</th>\n",
              "      <td>104140</td>\n",
              "      <td>108444.990452</td>\n",
              "    </tr>\n",
              "    <tr>\n",
              "      <th>7</th>\n",
              "      <td>104284</td>\n",
              "      <td>98927.639468</td>\n",
              "    </tr>\n",
              "    <tr>\n",
              "      <th>8</th>\n",
              "      <td>72928</td>\n",
              "      <td>72754.924262</td>\n",
              "    </tr>\n",
              "    <tr>\n",
              "      <th>9</th>\n",
              "      <td>54157</td>\n",
              "      <td>48961.546802</td>\n",
              "    </tr>\n",
              "  </tbody>\n",
              "</table>\n",
              "</div>"
            ],
            "text/plain": [
              "   Actual      Predicted\n",
              "0  107974  106858.765288\n",
              "1   68938   79099.824918\n",
              "2   96001   96548.301722\n",
              "3   84693   83065.387828\n",
              "4   67950   64823.798442\n",
              "5   64444   67203.136188\n",
              "6  104140  108444.990452\n",
              "7  104284   98927.639468\n",
              "8   72928   72754.924262\n",
              "9   54157   48961.546802"
            ]
          },
          "metadata": {},
          "execution_count": 201
        }
      ]
    },
    {
      "cell_type": "code",
      "metadata": {
        "colab": {
          "base_uri": "https://localhost:8080/",
          "height": 296
        },
        "id": "bnNOoeGODy1V",
        "outputId": "44298a1a-5c3d-4d76-d48e-ea6e586410af"
      },
      "source": [
        "matriculas3.plot(kind='scatter', x='Año_mes', y='matriculados3', c='orange')\n",
        "plt.plot(pd.DataFrame(matriculas3['Año_mes']), graf2_pred, c='black')"
      ],
      "execution_count": null,
      "outputs": [
        {
          "output_type": "execute_result",
          "data": {
            "text/plain": [
              "[<matplotlib.lines.Line2D at 0x7f564c011510>]"
            ]
          },
          "metadata": {},
          "execution_count": 203
        },
        {
          "output_type": "display_data",
          "data": {
            "image/png": "[encoded data removed]",
            "text/plain": [
              "<Figure size 432x288 with 1 Axes>"
            ]
          },
          "metadata": {
            "needs_background": "light"
          }
        }
      ]
    },
    {
      "cell_type": "code",
      "metadata": {
        "colab": {
          "base_uri": "https://localhost:8080/"
        },
        "id": "vVOZ4ZlCd6K6",
        "outputId": "6ef41824-8023-4cce-f3da-5c70bdce37fa"
      },
      "source": [
        "print('Mean Absolute Error:', metrics.mean_absolute_error(y_test, y_pred2))\n",
        "print('Mean Squared Error:', metrics.mean_squared_error(y_test, y_pred2))\n",
        "print('Root Mean Squared Error:', np.sqrt(metrics.mean_squared_error(y_test, y_pred2)))\n",
        "print('R-squared score (training): {:.3f}'\n",
        "     .format(regressor2.score(X, y)))\n",
        "print('R-squared score (test): {:.3f}\\n'\n",
        "     .format(regressor2.score(X_test, y_test)))"
      ],
      "execution_count": null,
      "outputs": [
        {
          "output_type": "stream",
          "name": "stdout",
          "text": [
            "Mean Absolute Error: 3436.719119025115\n",
            "Mean Squared Error: 19908729.345599793\n",
            "Root Mean Squared Error: 4461.919916986385\n",
            "R-squared score (training): 0.946\n",
            "R-squared score (test): 0.941\n",
            "\n"
          ]
        }
      ]
    },
    {
      "cell_type": "code",
      "metadata": {
        "colab": {
          "base_uri": "https://localhost:8080/"
        },
        "id": "zt87KAs2d6K7",
        "outputId": "0ca00adb-8f0c-4e1c-ae9d-50de4455fe76"
      },
      "source": [
        "print('El r^2 es:',r2_score(y_test,y_pred2))"
      ],
      "execution_count": null,
      "outputs": [
        {
          "output_type": "stream",
          "name": "stdout",
          "text": [
            "El r^2 es: 0.9413658539402053\n"
          ]
        }
      ]
    },
    {
      "cell_type": "code",
      "metadata": {
        "colab": {
          "base_uri": "https://localhost:8080/"
        },
        "id": "s_rkkgcW9ZZ-",
        "outputId": "c1db813f-079f-40b4-bc19-72102493e5d3"
      },
      "source": [
        "regressor2.predict([[20211]])"
      ],
      "execution_count": null,
      "outputs": [
        {
          "output_type": "execute_result",
          "data": {
            "text/plain": [
              "array([112410.55336223])"
            ]
          },
          "metadata": {},
          "execution_count": 246
        }
      ]
    },
    {
      "cell_type": "markdown",
      "metadata": {
        "id": "K29GmMLECuEJ"
      },
      "source": [
        "***La predicción final para el primer semestre del año 2021 es de: 112.410 HOMBRES matriculados en el sector de las TIC***\n"
      ]
    },
    {
      "cell_type": "markdown",
      "metadata": {
        "id": "1duEB80IDJVN"
      },
      "source": [
        "-"
      ]
    },
    {
      "cell_type": "markdown",
      "metadata": {
        "id": "lHRTd2AVFX5k"
      },
      "source": [
        "\n",
        "\n",
        "---\n",
        "\n"
      ]
    },
    {
      "cell_type": "markdown",
      "metadata": {
        "id": "GRf9t_f1iYsa"
      },
      "source": [
        "##***MUJER***\n",
        "\n",
        "\n",
        "Se escogieron las columnas de: NBC (Nivel basico de conocimiento y hace referencia a la profesión a fin del sector de las TIc), sexo = mujer, año, semestre, numero de matriculados; Para predecir cuantos se matricularan en el año 2021 en el sector de las TIC\n"
      ]
    },
    {
      "cell_type": "code",
      "metadata": {
        "id": "5zcd6aWtieEg"
      },
      "source": [
        "df3['Fecha'] = df3.apply(lambda r: datetime(int(r['Año']), int(r['Mes']), 1), axis=1)"
      ],
      "execution_count": 19,
      "outputs": []
    },
    {
      "cell_type": "code",
      "metadata": {
        "colab": {
          "base_uri": "https://localhost:8080/",
          "height": 408
        },
        "id": "Gqp_REsAinIw",
        "outputId": "271d95d4-2c81-4d83-f6ea-648cef58be32"
      },
      "source": [
        "matriculas4 = df3[(df3['NBC']=='INGENIERIA DE SISTEMAS, TELEMATICA Y AFINES') & (df3['Sexo']=='MUJER')]\n",
        "columns_to_keep = ['Fecha','Año_mes','Matriculados']\n",
        "matriculas4 =matriculas4[columns_to_keep]\n",
        "matriculas4"
      ],
      "execution_count": 20,
      "outputs": [
        {
          "output_type": "execute_result",
          "data": {
            "text/html": [
              "<div>\n",
              "<style scoped>\n",
              "    .dataframe tbody tr th:only-of-type {\n",
              "        vertical-align: middle;\n",
              "    }\n",
              "\n",
              "    .dataframe tbody tr th {\n",
              "        vertical-align: top;\n",
              "    }\n",
              "\n",
              "    .dataframe thead th {\n",
              "        text-align: right;\n",
              "    }\n",
              "</style>\n",
              "<table border=\"1\" class=\"dataframe\">\n",
              "  <thead>\n",
              "    <tr style=\"text-align: right;\">\n",
              "      <th></th>\n",
              "      <th>Fecha</th>\n",
              "      <th>Año_mes</th>\n",
              "      <th>Matriculados</th>\n",
              "    </tr>\n",
              "  </thead>\n",
              "  <tbody>\n",
              "    <tr>\n",
              "      <th>65</th>\n",
              "      <td>2005-07-01</td>\n",
              "      <td>20057</td>\n",
              "      <td>1128</td>\n",
              "    </tr>\n",
              "    <tr>\n",
              "      <th>85</th>\n",
              "      <td>2005-01-01</td>\n",
              "      <td>20051</td>\n",
              "      <td>1017</td>\n",
              "    </tr>\n",
              "    <tr>\n",
              "      <th>103</th>\n",
              "      <td>2005-07-01</td>\n",
              "      <td>20057</td>\n",
              "      <td>940</td>\n",
              "    </tr>\n",
              "    <tr>\n",
              "      <th>135</th>\n",
              "      <td>2005-01-01</td>\n",
              "      <td>20051</td>\n",
              "      <td>845</td>\n",
              "    </tr>\n",
              "    <tr>\n",
              "      <th>194</th>\n",
              "      <td>2005-07-01</td>\n",
              "      <td>20057</td>\n",
              "      <td>746</td>\n",
              "    </tr>\n",
              "    <tr>\n",
              "      <th>...</th>\n",
              "      <td>...</td>\n",
              "      <td>...</td>\n",
              "      <td>...</td>\n",
              "    </tr>\n",
              "    <tr>\n",
              "      <th>540076</th>\n",
              "      <td>2020-07-01</td>\n",
              "      <td>20207</td>\n",
              "      <td>4</td>\n",
              "    </tr>\n",
              "    <tr>\n",
              "      <th>540080</th>\n",
              "      <td>2020-01-01</td>\n",
              "      <td>20201</td>\n",
              "      <td>4</td>\n",
              "    </tr>\n",
              "    <tr>\n",
              "      <th>540081</th>\n",
              "      <td>2020-07-01</td>\n",
              "      <td>20207</td>\n",
              "      <td>4</td>\n",
              "    </tr>\n",
              "    <tr>\n",
              "      <th>540129</th>\n",
              "      <td>2020-01-01</td>\n",
              "      <td>20201</td>\n",
              "      <td>4</td>\n",
              "    </tr>\n",
              "    <tr>\n",
              "      <th>540130</th>\n",
              "      <td>2020-07-01</td>\n",
              "      <td>20207</td>\n",
              "      <td>4</td>\n",
              "    </tr>\n",
              "  </tbody>\n",
              "</table>\n",
              "<p>20409 rows × 3 columns</p>\n",
              "</div>"
            ],
            "text/plain": [
              "            Fecha  Año_mes  Matriculados\n",
              "65     2005-07-01    20057          1128\n",
              "85     2005-01-01    20051          1017\n",
              "103    2005-07-01    20057           940\n",
              "135    2005-01-01    20051           845\n",
              "194    2005-07-01    20057           746\n",
              "...           ...      ...           ...\n",
              "540076 2020-07-01    20207             4\n",
              "540080 2020-01-01    20201             4\n",
              "540081 2020-07-01    20207             4\n",
              "540129 2020-01-01    20201             4\n",
              "540130 2020-07-01    20207             4\n",
              "\n",
              "[20409 rows x 3 columns]"
            ]
          },
          "metadata": {},
          "execution_count": 20
        }
      ]
    },
    {
      "cell_type": "code",
      "metadata": {
        "id": "Xypuo9bxinIy"
      },
      "source": [
        "matriculas4= matriculas4.groupby([ 'Fecha', 'Año_mes'])['Matriculados'].sum().reset_index(name='matriculados4')"
      ],
      "execution_count": 21,
      "outputs": []
    },
    {
      "cell_type": "code",
      "metadata": {
        "colab": {
          "base_uri": "https://localhost:8080/",
          "height": 1000
        },
        "id": "-9Ctz5i2inIy",
        "outputId": "44e4595c-46a7-4229-fa9b-0a788cef5e43"
      },
      "source": [
        "matriculas4"
      ],
      "execution_count": 22,
      "outputs": [
        {
          "output_type": "execute_result",
          "data": {
            "text/html": [
              "<div>\n",
              "<style scoped>\n",
              "    .dataframe tbody tr th:only-of-type {\n",
              "        vertical-align: middle;\n",
              "    }\n",
              "\n",
              "    .dataframe tbody tr th {\n",
              "        vertical-align: top;\n",
              "    }\n",
              "\n",
              "    .dataframe thead th {\n",
              "        text-align: right;\n",
              "    }\n",
              "</style>\n",
              "<table border=\"1\" class=\"dataframe\">\n",
              "  <thead>\n",
              "    <tr style=\"text-align: right;\">\n",
              "      <th></th>\n",
              "      <th>Fecha</th>\n",
              "      <th>Año_mes</th>\n",
              "      <th>matriculados4</th>\n",
              "    </tr>\n",
              "  </thead>\n",
              "  <tbody>\n",
              "    <tr>\n",
              "      <th>0</th>\n",
              "      <td>2005-01-01</td>\n",
              "      <td>20051</td>\n",
              "      <td>29129</td>\n",
              "    </tr>\n",
              "    <tr>\n",
              "      <th>1</th>\n",
              "      <td>2005-07-01</td>\n",
              "      <td>20057</td>\n",
              "      <td>26616</td>\n",
              "    </tr>\n",
              "    <tr>\n",
              "      <th>2</th>\n",
              "      <td>2006-01-01</td>\n",
              "      <td>20061</td>\n",
              "      <td>28281</td>\n",
              "    </tr>\n",
              "    <tr>\n",
              "      <th>3</th>\n",
              "      <td>2006-07-01</td>\n",
              "      <td>20067</td>\n",
              "      <td>28509</td>\n",
              "    </tr>\n",
              "    <tr>\n",
              "      <th>4</th>\n",
              "      <td>2007-01-01</td>\n",
              "      <td>20071</td>\n",
              "      <td>29595</td>\n",
              "    </tr>\n",
              "    <tr>\n",
              "      <th>5</th>\n",
              "      <td>2007-07-01</td>\n",
              "      <td>20077</td>\n",
              "      <td>28803</td>\n",
              "    </tr>\n",
              "    <tr>\n",
              "      <th>6</th>\n",
              "      <td>2008-01-01</td>\n",
              "      <td>20081</td>\n",
              "      <td>30630</td>\n",
              "    </tr>\n",
              "    <tr>\n",
              "      <th>7</th>\n",
              "      <td>2008-07-01</td>\n",
              "      <td>20087</td>\n",
              "      <td>28845</td>\n",
              "    </tr>\n",
              "    <tr>\n",
              "      <th>8</th>\n",
              "      <td>2009-01-01</td>\n",
              "      <td>20091</td>\n",
              "      <td>32319</td>\n",
              "    </tr>\n",
              "    <tr>\n",
              "      <th>9</th>\n",
              "      <td>2009-07-01</td>\n",
              "      <td>20097</td>\n",
              "      <td>29034</td>\n",
              "    </tr>\n",
              "    <tr>\n",
              "      <th>10</th>\n",
              "      <td>2010-01-01</td>\n",
              "      <td>20101</td>\n",
              "      <td>30830</td>\n",
              "    </tr>\n",
              "    <tr>\n",
              "      <th>11</th>\n",
              "      <td>2010-07-01</td>\n",
              "      <td>20107</td>\n",
              "      <td>26202</td>\n",
              "    </tr>\n",
              "    <tr>\n",
              "      <th>12</th>\n",
              "      <td>2011-01-01</td>\n",
              "      <td>20111</td>\n",
              "      <td>31440</td>\n",
              "    </tr>\n",
              "    <tr>\n",
              "      <th>13</th>\n",
              "      <td>2011-07-01</td>\n",
              "      <td>20117</td>\n",
              "      <td>28060</td>\n",
              "    </tr>\n",
              "    <tr>\n",
              "      <th>14</th>\n",
              "      <td>2012-01-01</td>\n",
              "      <td>20121</td>\n",
              "      <td>26681</td>\n",
              "    </tr>\n",
              "    <tr>\n",
              "      <th>15</th>\n",
              "      <td>2012-07-01</td>\n",
              "      <td>20127</td>\n",
              "      <td>25269</td>\n",
              "    </tr>\n",
              "    <tr>\n",
              "      <th>16</th>\n",
              "      <td>2013-01-01</td>\n",
              "      <td>20131</td>\n",
              "      <td>28873</td>\n",
              "    </tr>\n",
              "    <tr>\n",
              "      <th>17</th>\n",
              "      <td>2013-07-01</td>\n",
              "      <td>20137</td>\n",
              "      <td>30186</td>\n",
              "    </tr>\n",
              "    <tr>\n",
              "      <th>18</th>\n",
              "      <td>2014-01-01</td>\n",
              "      <td>20141</td>\n",
              "      <td>31524</td>\n",
              "    </tr>\n",
              "    <tr>\n",
              "      <th>19</th>\n",
              "      <td>2014-07-01</td>\n",
              "      <td>20147</td>\n",
              "      <td>30239</td>\n",
              "    </tr>\n",
              "    <tr>\n",
              "      <th>20</th>\n",
              "      <td>2015-01-01</td>\n",
              "      <td>20151</td>\n",
              "      <td>32059</td>\n",
              "    </tr>\n",
              "    <tr>\n",
              "      <th>21</th>\n",
              "      <td>2015-07-01</td>\n",
              "      <td>20157</td>\n",
              "      <td>29502</td>\n",
              "    </tr>\n",
              "    <tr>\n",
              "      <th>22</th>\n",
              "      <td>2016-01-01</td>\n",
              "      <td>20161</td>\n",
              "      <td>26103</td>\n",
              "    </tr>\n",
              "    <tr>\n",
              "      <th>23</th>\n",
              "      <td>2016-07-01</td>\n",
              "      <td>20167</td>\n",
              "      <td>28714</td>\n",
              "    </tr>\n",
              "    <tr>\n",
              "      <th>24</th>\n",
              "      <td>2017-01-01</td>\n",
              "      <td>20171</td>\n",
              "      <td>26382</td>\n",
              "    </tr>\n",
              "    <tr>\n",
              "      <th>25</th>\n",
              "      <td>2017-07-01</td>\n",
              "      <td>20177</td>\n",
              "      <td>29739</td>\n",
              "    </tr>\n",
              "    <tr>\n",
              "      <th>26</th>\n",
              "      <td>2018-01-01</td>\n",
              "      <td>20181</td>\n",
              "      <td>27280</td>\n",
              "    </tr>\n",
              "    <tr>\n",
              "      <th>27</th>\n",
              "      <td>2018-07-01</td>\n",
              "      <td>20187</td>\n",
              "      <td>30553</td>\n",
              "    </tr>\n",
              "    <tr>\n",
              "      <th>28</th>\n",
              "      <td>2019-01-01</td>\n",
              "      <td>20191</td>\n",
              "      <td>26445</td>\n",
              "    </tr>\n",
              "    <tr>\n",
              "      <th>29</th>\n",
              "      <td>2019-07-01</td>\n",
              "      <td>20197</td>\n",
              "      <td>28991</td>\n",
              "    </tr>\n",
              "    <tr>\n",
              "      <th>30</th>\n",
              "      <td>2020-01-01</td>\n",
              "      <td>20201</td>\n",
              "      <td>27544</td>\n",
              "    </tr>\n",
              "    <tr>\n",
              "      <th>31</th>\n",
              "      <td>2020-07-01</td>\n",
              "      <td>20207</td>\n",
              "      <td>31496</td>\n",
              "    </tr>\n",
              "  </tbody>\n",
              "</table>\n",
              "</div>"
            ],
            "text/plain": [
              "        Fecha  Año_mes  matriculados4\n",
              "0  2005-01-01    20051          29129\n",
              "1  2005-07-01    20057          26616\n",
              "2  2006-01-01    20061          28281\n",
              "3  2006-07-01    20067          28509\n",
              "4  2007-01-01    20071          29595\n",
              "5  2007-07-01    20077          28803\n",
              "6  2008-01-01    20081          30630\n",
              "7  2008-07-01    20087          28845\n",
              "8  2009-01-01    20091          32319\n",
              "9  2009-07-01    20097          29034\n",
              "10 2010-01-01    20101          30830\n",
              "11 2010-07-01    20107          26202\n",
              "12 2011-01-01    20111          31440\n",
              "13 2011-07-01    20117          28060\n",
              "14 2012-01-01    20121          26681\n",
              "15 2012-07-01    20127          25269\n",
              "16 2013-01-01    20131          28873\n",
              "17 2013-07-01    20137          30186\n",
              "18 2014-01-01    20141          31524\n",
              "19 2014-07-01    20147          30239\n",
              "20 2015-01-01    20151          32059\n",
              "21 2015-07-01    20157          29502\n",
              "22 2016-01-01    20161          26103\n",
              "23 2016-07-01    20167          28714\n",
              "24 2017-01-01    20171          26382\n",
              "25 2017-07-01    20177          29739\n",
              "26 2018-01-01    20181          27280\n",
              "27 2018-07-01    20187          30553\n",
              "28 2019-01-01    20191          26445\n",
              "29 2019-07-01    20197          28991\n",
              "30 2020-01-01    20201          27544\n",
              "31 2020-07-01    20207          31496"
            ]
          },
          "metadata": {},
          "execution_count": 22
        }
      ]
    },
    {
      "cell_type": "code",
      "metadata": {
        "id": "p7vLnunHKj0P",
        "colab": {
          "base_uri": "https://localhost:8080/",
          "height": 295
        },
        "outputId": "f6c63f63-3139-4c41-a341-507d305ebcab"
      },
      "source": [
        "sb.lineplot(x ='Fecha', y ='matriculados4', data = matriculas4, ci=False, markers=True)"
      ],
      "execution_count": 23,
      "outputs": [
        {
          "output_type": "execute_result",
          "data": {
            "text/plain": [
              "<matplotlib.axes._subplots.AxesSubplot at 0x7f91b5d29fd0>"
            ]
          },
          "metadata": {},
          "execution_count": 23
        },
        {
          "output_type": "display_data",
          "data": {
            "image/png": "[encoded data removed]",
            "text/plain": [
              "<Figure size 432x288 with 1 Axes>"
            ]
          },
          "metadata": {
            "needs_background": "light"
          }
        }
      ]
    },
    {
      "cell_type": "markdown",
      "metadata": {
        "id": "uyIKzMCd1g-J"
      },
      "source": [
        "**SERIE DE TIEMPOS**\n",
        "\n",
        "---\n",
        "\n"
      ]
    },
    {
      "cell_type": "code",
      "metadata": {
        "id": "IIifqkVvn_G7"
      },
      "source": [
        " matriculas4['periodo1']=matriculas4['matriculados4'].shift(1)"
      ],
      "execution_count": 24,
      "outputs": []
    },
    {
      "cell_type": "code",
      "metadata": {
        "id": "10LG01U7pgP7"
      },
      "source": [
        "matriculas4['periodo2']=matriculas4['matriculados4'].shift(2)"
      ],
      "execution_count": 25,
      "outputs": []
    },
    {
      "cell_type": "code",
      "metadata": {
        "id": "WcpfL3a0rtRH"
      },
      "source": [
        "matriculas4['periodo3']=matriculas4['matriculados4'].shift(3)"
      ],
      "execution_count": 26,
      "outputs": []
    },
    {
      "cell_type": "code",
      "metadata": {
        "id": "HvWAFd73rwms"
      },
      "source": [
        "matriculas4['periodo4']=matriculas4['matriculados4'].shift(4)"
      ],
      "execution_count": 27,
      "outputs": []
    },
    {
      "cell_type": "code",
      "metadata": {
        "colab": {
          "base_uri": "https://localhost:8080/",
          "height": 1000
        },
        "id": "eJ2iugQ6plGZ",
        "outputId": "0131bd5d-851e-4e25-e83e-9491e94886ce"
      },
      "source": [
        "matriculas4"
      ],
      "execution_count": 28,
      "outputs": [
        {
          "output_type": "execute_result",
          "data": {
            "text/html": [
              "<div>\n",
              "<style scoped>\n",
              "    .dataframe tbody tr th:only-of-type {\n",
              "        vertical-align: middle;\n",
              "    }\n",
              "\n",
              "    .dataframe tbody tr th {\n",
              "        vertical-align: top;\n",
              "    }\n",
              "\n",
              "    .dataframe thead th {\n",
              "        text-align: right;\n",
              "    }\n",
              "</style>\n",
              "<table border=\"1\" class=\"dataframe\">\n",
              "  <thead>\n",
              "    <tr style=\"text-align: right;\">\n",
              "      <th></th>\n",
              "      <th>Fecha</th>\n",
              "      <th>Año_mes</th>\n",
              "      <th>matriculados4</th>\n",
              "      <th>periodo1</th>\n",
              "      <th>periodo2</th>\n",
              "      <th>periodo3</th>\n",
              "      <th>periodo4</th>\n",
              "    </tr>\n",
              "  </thead>\n",
              "  <tbody>\n",
              "    <tr>\n",
              "      <th>0</th>\n",
              "      <td>2005-01-01</td>\n",
              "      <td>20051</td>\n",
              "      <td>29129</td>\n",
              "      <td>NaN</td>\n",
              "      <td>NaN</td>\n",
              "      <td>NaN</td>\n",
              "      <td>NaN</td>\n",
              "    </tr>\n",
              "    <tr>\n",
              "      <th>1</th>\n",
              "      <td>2005-07-01</td>\n",
              "      <td>20057</td>\n",
              "      <td>26616</td>\n",
              "      <td>29129.0</td>\n",
              "      <td>NaN</td>\n",
              "      <td>NaN</td>\n",
              "      <td>NaN</td>\n",
              "    </tr>\n",
              "    <tr>\n",
              "      <th>2</th>\n",
              "      <td>2006-01-01</td>\n",
              "      <td>20061</td>\n",
              "      <td>28281</td>\n",
              "      <td>26616.0</td>\n",
              "      <td>29129.0</td>\n",
              "      <td>NaN</td>\n",
              "      <td>NaN</td>\n",
              "    </tr>\n",
              "    <tr>\n",
              "      <th>3</th>\n",
              "      <td>2006-07-01</td>\n",
              "      <td>20067</td>\n",
              "      <td>28509</td>\n",
              "      <td>28281.0</td>\n",
              "      <td>26616.0</td>\n",
              "      <td>29129.0</td>\n",
              "      <td>NaN</td>\n",
              "    </tr>\n",
              "    <tr>\n",
              "      <th>4</th>\n",
              "      <td>2007-01-01</td>\n",
              "      <td>20071</td>\n",
              "      <td>29595</td>\n",
              "      <td>28509.0</td>\n",
              "      <td>28281.0</td>\n",
              "      <td>26616.0</td>\n",
              "      <td>29129.0</td>\n",
              "    </tr>\n",
              "    <tr>\n",
              "      <th>5</th>\n",
              "      <td>2007-07-01</td>\n",
              "      <td>20077</td>\n",
              "      <td>28803</td>\n",
              "      <td>29595.0</td>\n",
              "      <td>28509.0</td>\n",
              "      <td>28281.0</td>\n",
              "      <td>26616.0</td>\n",
              "    </tr>\n",
              "    <tr>\n",
              "      <th>6</th>\n",
              "      <td>2008-01-01</td>\n",
              "      <td>20081</td>\n",
              "      <td>30630</td>\n",
              "      <td>28803.0</td>\n",
              "      <td>29595.0</td>\n",
              "      <td>28509.0</td>\n",
              "      <td>28281.0</td>\n",
              "    </tr>\n",
              "    <tr>\n",
              "      <th>7</th>\n",
              "      <td>2008-07-01</td>\n",
              "      <td>20087</td>\n",
              "      <td>28845</td>\n",
              "      <td>30630.0</td>\n",
              "      <td>28803.0</td>\n",
              "      <td>29595.0</td>\n",
              "      <td>28509.0</td>\n",
              "    </tr>\n",
              "    <tr>\n",
              "      <th>8</th>\n",
              "      <td>2009-01-01</td>\n",
              "      <td>20091</td>\n",
              "      <td>32319</td>\n",
              "      <td>28845.0</td>\n",
              "      <td>30630.0</td>\n",
              "      <td>28803.0</td>\n",
              "      <td>29595.0</td>\n",
              "    </tr>\n",
              "    <tr>\n",
              "      <th>9</th>\n",
              "      <td>2009-07-01</td>\n",
              "      <td>20097</td>\n",
              "      <td>29034</td>\n",
              "      <td>32319.0</td>\n",
              "      <td>28845.0</td>\n",
              "      <td>30630.0</td>\n",
              "      <td>28803.0</td>\n",
              "    </tr>\n",
              "    <tr>\n",
              "      <th>10</th>\n",
              "      <td>2010-01-01</td>\n",
              "      <td>20101</td>\n",
              "      <td>30830</td>\n",
              "      <td>29034.0</td>\n",
              "      <td>32319.0</td>\n",
              "      <td>28845.0</td>\n",
              "      <td>30630.0</td>\n",
              "    </tr>\n",
              "    <tr>\n",
              "      <th>11</th>\n",
              "      <td>2010-07-01</td>\n",
              "      <td>20107</td>\n",
              "      <td>26202</td>\n",
              "      <td>30830.0</td>\n",
              "      <td>29034.0</td>\n",
              "      <td>32319.0</td>\n",
              "      <td>28845.0</td>\n",
              "    </tr>\n",
              "    <tr>\n",
              "      <th>12</th>\n",
              "      <td>2011-01-01</td>\n",
              "      <td>20111</td>\n",
              "      <td>31440</td>\n",
              "      <td>26202.0</td>\n",
              "      <td>30830.0</td>\n",
              "      <td>29034.0</td>\n",
              "      <td>32319.0</td>\n",
              "    </tr>\n",
              "    <tr>\n",
              "      <th>13</th>\n",
              "      <td>2011-07-01</td>\n",
              "      <td>20117</td>\n",
              "      <td>28060</td>\n",
              "      <td>31440.0</td>\n",
              "      <td>26202.0</td>\n",
              "      <td>30830.0</td>\n",
              "      <td>29034.0</td>\n",
              "    </tr>\n",
              "    <tr>\n",
              "      <th>14</th>\n",
              "      <td>2012-01-01</td>\n",
              "      <td>20121</td>\n",
              "      <td>26681</td>\n",
              "      <td>28060.0</td>\n",
              "      <td>31440.0</td>\n",
              "      <td>26202.0</td>\n",
              "      <td>30830.0</td>\n",
              "    </tr>\n",
              "    <tr>\n",
              "      <th>15</th>\n",
              "      <td>2012-07-01</td>\n",
              "      <td>20127</td>\n",
              "      <td>25269</td>\n",
              "      <td>26681.0</td>\n",
              "      <td>28060.0</td>\n",
              "      <td>31440.0</td>\n",
              "      <td>26202.0</td>\n",
              "    </tr>\n",
              "    <tr>\n",
              "      <th>16</th>\n",
              "      <td>2013-01-01</td>\n",
              "      <td>20131</td>\n",
              "      <td>28873</td>\n",
              "      <td>25269.0</td>\n",
              "      <td>26681.0</td>\n",
              "      <td>28060.0</td>\n",
              "      <td>31440.0</td>\n",
              "    </tr>\n",
              "    <tr>\n",
              "      <th>17</th>\n",
              "      <td>2013-07-01</td>\n",
              "      <td>20137</td>\n",
              "      <td>30186</td>\n",
              "      <td>28873.0</td>\n",
              "      <td>25269.0</td>\n",
              "      <td>26681.0</td>\n",
              "      <td>28060.0</td>\n",
              "    </tr>\n",
              "    <tr>\n",
              "      <th>18</th>\n",
              "      <td>2014-01-01</td>\n",
              "      <td>20141</td>\n",
              "      <td>31524</td>\n",
              "      <td>30186.0</td>\n",
              "      <td>28873.0</td>\n",
              "      <td>25269.0</td>\n",
              "      <td>26681.0</td>\n",
              "    </tr>\n",
              "    <tr>\n",
              "      <th>19</th>\n",
              "      <td>2014-07-01</td>\n",
              "      <td>20147</td>\n",
              "      <td>30239</td>\n",
              "      <td>31524.0</td>\n",
              "      <td>30186.0</td>\n",
              "      <td>28873.0</td>\n",
              "      <td>25269.0</td>\n",
              "    </tr>\n",
              "    <tr>\n",
              "      <th>20</th>\n",
              "      <td>2015-01-01</td>\n",
              "      <td>20151</td>\n",
              "      <td>32059</td>\n",
              "      <td>30239.0</td>\n",
              "      <td>31524.0</td>\n",
              "      <td>30186.0</td>\n",
              "      <td>28873.0</td>\n",
              "    </tr>\n",
              "    <tr>\n",
              "      <th>21</th>\n",
              "      <td>2015-07-01</td>\n",
              "      <td>20157</td>\n",
              "      <td>29502</td>\n",
              "      <td>32059.0</td>\n",
              "      <td>30239.0</td>\n",
              "      <td>31524.0</td>\n",
              "      <td>30186.0</td>\n",
              "    </tr>\n",
              "    <tr>\n",
              "      <th>22</th>\n",
              "      <td>2016-01-01</td>\n",
              "      <td>20161</td>\n",
              "      <td>26103</td>\n",
              "      <td>29502.0</td>\n",
              "      <td>32059.0</td>\n",
              "      <td>30239.0</td>\n",
              "      <td>31524.0</td>\n",
              "    </tr>\n",
              "    <tr>\n",
              "      <th>23</th>\n",
              "      <td>2016-07-01</td>\n",
              "      <td>20167</td>\n",
              "      <td>28714</td>\n",
              "      <td>26103.0</td>\n",
              "      <td>29502.0</td>\n",
              "      <td>32059.0</td>\n",
              "      <td>30239.0</td>\n",
              "    </tr>\n",
              "    <tr>\n",
              "      <th>24</th>\n",
              "      <td>2017-01-01</td>\n",
              "      <td>20171</td>\n",
              "      <td>26382</td>\n",
              "      <td>28714.0</td>\n",
              "      <td>26103.0</td>\n",
              "      <td>29502.0</td>\n",
              "      <td>32059.0</td>\n",
              "    </tr>\n",
              "    <tr>\n",
              "      <th>25</th>\n",
              "      <td>2017-07-01</td>\n",
              "      <td>20177</td>\n",
              "      <td>29739</td>\n",
              "      <td>26382.0</td>\n",
              "      <td>28714.0</td>\n",
              "      <td>26103.0</td>\n",
              "      <td>29502.0</td>\n",
              "    </tr>\n",
              "    <tr>\n",
              "      <th>26</th>\n",
              "      <td>2018-01-01</td>\n",
              "      <td>20181</td>\n",
              "      <td>27280</td>\n",
              "      <td>29739.0</td>\n",
              "      <td>26382.0</td>\n",
              "      <td>28714.0</td>\n",
              "      <td>26103.0</td>\n",
              "    </tr>\n",
              "    <tr>\n",
              "      <th>27</th>\n",
              "      <td>2018-07-01</td>\n",
              "      <td>20187</td>\n",
              "      <td>30553</td>\n",
              "      <td>27280.0</td>\n",
              "      <td>29739.0</td>\n",
              "      <td>26382.0</td>\n",
              "      <td>28714.0</td>\n",
              "    </tr>\n",
              "    <tr>\n",
              "      <th>28</th>\n",
              "      <td>2019-01-01</td>\n",
              "      <td>20191</td>\n",
              "      <td>26445</td>\n",
              "      <td>30553.0</td>\n",
              "      <td>27280.0</td>\n",
              "      <td>29739.0</td>\n",
              "      <td>26382.0</td>\n",
              "    </tr>\n",
              "    <tr>\n",
              "      <th>29</th>\n",
              "      <td>2019-07-01</td>\n",
              "      <td>20197</td>\n",
              "      <td>28991</td>\n",
              "      <td>26445.0</td>\n",
              "      <td>30553.0</td>\n",
              "      <td>27280.0</td>\n",
              "      <td>29739.0</td>\n",
              "    </tr>\n",
              "    <tr>\n",
              "      <th>30</th>\n",
              "      <td>2020-01-01</td>\n",
              "      <td>20201</td>\n",
              "      <td>27544</td>\n",
              "      <td>28991.0</td>\n",
              "      <td>26445.0</td>\n",
              "      <td>30553.0</td>\n",
              "      <td>27280.0</td>\n",
              "    </tr>\n",
              "    <tr>\n",
              "      <th>31</th>\n",
              "      <td>2020-07-01</td>\n",
              "      <td>20207</td>\n",
              "      <td>31496</td>\n",
              "      <td>27544.0</td>\n",
              "      <td>28991.0</td>\n",
              "      <td>26445.0</td>\n",
              "      <td>30553.0</td>\n",
              "    </tr>\n",
              "  </tbody>\n",
              "</table>\n",
              "</div>"
            ],
            "text/plain": [
              "        Fecha  Año_mes  matriculados4  periodo1  periodo2  periodo3  periodo4\n",
              "0  2005-01-01    20051          29129       NaN       NaN       NaN       NaN\n",
              "1  2005-07-01    20057          26616   29129.0       NaN       NaN       NaN\n",
              "2  2006-01-01    20061          28281   26616.0   29129.0       NaN       NaN\n",
              "3  2006-07-01    20067          28509   28281.0   26616.0   29129.0       NaN\n",
              "4  2007-01-01    20071          29595   28509.0   28281.0   26616.0   29129.0\n",
              "5  2007-07-01    20077          28803   29595.0   28509.0   28281.0   26616.0\n",
              "6  2008-01-01    20081          30630   28803.0   29595.0   28509.0   28281.0\n",
              "7  2008-07-01    20087          28845   30630.0   28803.0   29595.0   28509.0\n",
              "8  2009-01-01    20091          32319   28845.0   30630.0   28803.0   29595.0\n",
              "9  2009-07-01    20097          29034   32319.0   28845.0   30630.0   28803.0\n",
              "10 2010-01-01    20101          30830   29034.0   32319.0   28845.0   30630.0\n",
              "11 2010-07-01    20107          26202   30830.0   29034.0   32319.0   28845.0\n",
              "12 2011-01-01    20111          31440   26202.0   30830.0   29034.0   32319.0\n",
              "13 2011-07-01    20117          28060   31440.0   26202.0   30830.0   29034.0\n",
              "14 2012-01-01    20121          26681   28060.0   31440.0   26202.0   30830.0\n",
              "15 2012-07-01    20127          25269   26681.0   28060.0   31440.0   26202.0\n",
              "16 2013-01-01    20131          28873   25269.0   26681.0   28060.0   31440.0\n",
              "17 2013-07-01    20137          30186   28873.0   25269.0   26681.0   28060.0\n",
              "18 2014-01-01    20141          31524   30186.0   28873.0   25269.0   26681.0\n",
              "19 2014-07-01    20147          30239   31524.0   30186.0   28873.0   25269.0\n",
              "20 2015-01-01    20151          32059   30239.0   31524.0   30186.0   28873.0\n",
              "21 2015-07-01    20157          29502   32059.0   30239.0   31524.0   30186.0\n",
              "22 2016-01-01    20161          26103   29502.0   32059.0   30239.0   31524.0\n",
              "23 2016-07-01    20167          28714   26103.0   29502.0   32059.0   30239.0\n",
              "24 2017-01-01    20171          26382   28714.0   26103.0   29502.0   32059.0\n",
              "25 2017-07-01    20177          29739   26382.0   28714.0   26103.0   29502.0\n",
              "26 2018-01-01    20181          27280   29739.0   26382.0   28714.0   26103.0\n",
              "27 2018-07-01    20187          30553   27280.0   29739.0   26382.0   28714.0\n",
              "28 2019-01-01    20191          26445   30553.0   27280.0   29739.0   26382.0\n",
              "29 2019-07-01    20197          28991   26445.0   30553.0   27280.0   29739.0\n",
              "30 2020-01-01    20201          27544   28991.0   26445.0   30553.0   27280.0\n",
              "31 2020-07-01    20207          31496   27544.0   28991.0   26445.0   30553.0"
            ]
          },
          "metadata": {},
          "execution_count": 28
        }
      ]
    },
    {
      "cell_type": "markdown",
      "metadata": {
        "id": "-NxLYVVMAtKC"
      },
      "source": [
        "***Regresion lineal Simple***\n",
        "\n",
        "---\n"
      ]
    },
    {
      "cell_type": "code",
      "metadata": {
        "colab": {
          "base_uri": "https://localhost:8080/"
        },
        "id": "DtnJXRS7pw4m",
        "outputId": "335eb5c7-792b-4033-f32a-4bc5d5568869"
      },
      "source": [
        "regressor3 = LinearRegression()\n",
        "regressor3.fit(matriculas4[['periodo1','periodo2','periodo3', 'periodo4']][4:],matriculas4['matriculados4'][4:])"
      ],
      "execution_count": 32,
      "outputs": [
        {
          "output_type": "execute_result",
          "data": {
            "text/plain": [
              "LinearRegression(copy_X=True, fit_intercept=True, n_jobs=None, normalize=False)"
            ]
          },
          "metadata": {},
          "execution_count": 32
        }
      ]
    },
    {
      "cell_type": "code",
      "metadata": {
        "id": "HADGdFwiq6Z8"
      },
      "source": [
        "y_pred3=regressor3.predict(matriculas4[['periodo1','periodo2','periodo3', 'periodo4']][4:])"
      ],
      "execution_count": 33,
      "outputs": []
    },
    {
      "cell_type": "code",
      "metadata": {
        "colab": {
          "base_uri": "https://localhost:8080/",
          "height": 445
        },
        "id": "JDOU0jLoqgfB",
        "outputId": "975626d3-25ce-4cf5-bc8f-89f69e03a6e4"
      },
      "source": [
        "sb.lineplot(matriculas4['Fecha'], matriculas4['matriculados4'])\n",
        "sb.lineplot(matriculas4['Fecha'][4:], y_pred, color='r')"
      ],
      "execution_count": 34,
      "outputs": [
        {
          "output_type": "stream",
          "name": "stderr",
          "text": [
            "/usr/local/lib/python3.7/dist-packages/seaborn/_decorators.py:43: FutureWarning:\n",
            "\n",
            "Pass the following variables as keyword args: x, y. From version 0.12, the only valid positional argument will be `data`, and passing other arguments without an explicit keyword will result in an error or misinterpretation.\n",
            "\n",
            "/usr/local/lib/python3.7/dist-packages/seaborn/_decorators.py:43: FutureWarning:\n",
            "\n",
            "Pass the following variables as keyword args: x, y. From version 0.12, the only valid positional argument will be `data`, and passing other arguments without an explicit keyword will result in an error or misinterpretation.\n",
            "\n"
          ]
        },
        {
          "output_type": "execute_result",
          "data": {
            "text/plain": [
              "<matplotlib.axes._subplots.AxesSubplot at 0x7f91b72a9950>"
            ]
          },
          "metadata": {},
          "execution_count": 34
        },
        {
          "output_type": "display_data",
          "data": {
            "image/png": "[encoded data removed]",
            "text/plain": [
              "<Figure size 432x288 with 1 Axes>"
            ]
          },
          "metadata": {
            "needs_background": "light"
          }
        }
      ]
    },
    {
      "cell_type": "code",
      "metadata": {
        "colab": {
          "base_uri": "https://localhost:8080/"
        },
        "id": "cjjXVCWNCIwF",
        "outputId": "bab16d8a-1515-4e72-8cbb-da1be0085427"
      },
      "source": [
        "model4 = 'periodo4~Año_mes'\n",
        "lm4   = sfm.ols(formula = model4, data = matriculas4).fit()\n",
        "print(lm4.summary())"
      ],
      "execution_count": 39,
      "outputs": [
        {
          "output_type": "stream",
          "name": "stdout",
          "text": [
            "                            OLS Regression Results                            \n",
            "==============================================================================\n",
            "Dep. Variable:               periodo4   R-squared:                       0.000\n",
            "Model:                            OLS   Adj. R-squared:                 -0.038\n",
            "Method:                 Least Squares   F-statistic:                  0.002064\n",
            "Date:                Sun, 14 Nov 2021   Prob (F-statistic):              0.964\n",
            "Time:                        01:23:20   Log-Likelihood:                -250.69\n",
            "No. Observations:                  28   AIC:                             505.4\n",
            "Df Residuals:                      26   BIC:                             508.0\n",
            "Df Model:                           1                                         \n",
            "Covariance Type:            nonrobust                                         \n",
            "==============================================================================\n",
            "                 coef    std err          t      P>|t|      [0.025      0.975]\n",
            "------------------------------------------------------------------------------\n",
            "Intercept   3.728e+04   1.83e+05      0.204      0.840   -3.38e+05    4.13e+05\n",
            "Año_mes       -0.4124      9.078     -0.045      0.964     -19.072      18.247\n",
            "==============================================================================\n",
            "Omnibus:                        1.023   Durbin-Watson:                   1.913\n",
            "Prob(Omnibus):                  0.600   Jarque-Bera (JB):                0.861\n",
            "Skew:                          -0.148   Prob(JB):                        0.650\n",
            "Kurtosis:                       2.193   Cond. No.                     1.00e+07\n",
            "==============================================================================\n",
            "\n",
            "Warnings:\n",
            "[1] Standard Errors assume that the covariance matrix of the errors is correctly specified.\n",
            "[2] The condition number is large,  1e+07. This might indicate that there are\n",
            "strong multicollinearity or other numerical problems.\n"
          ]
        }
      ]
    },
    {
      "cell_type": "code",
      "metadata": {
        "colab": {
          "base_uri": "https://localhost:8080/"
        },
        "id": "yRDWfaVakycX",
        "outputId": "9c586730-3f56-4e26-ecc5-40286a457007"
      },
      "source": [
        "regressor3.predict(matriculas4[['matriculados4','periodo1','periodo2','periodo3']][-1:])"
      ],
      "execution_count": 36,
      "outputs": [
        {
          "output_type": "execute_result",
          "data": {
            "text/plain": [
              "array([28754.94654795])"
            ]
          },
          "metadata": {},
          "execution_count": 36
        }
      ]
    },
    {
      "cell_type": "markdown",
      "metadata": {
        "id": "3kFcMBvoIO2r"
      },
      "source": [
        "***La predicción final para el primer semestre del año 2021 es de: 28.754 MUJERES matriculadas en el sector de las TIC***\n"
      ]
    }
  ]
}