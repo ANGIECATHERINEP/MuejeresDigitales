{
  "nbformat": 4,
  "nbformat_minor": 0,
  "metadata": {
    "colab": {
      "name": "Clase3.ipynb",
      "provenance": [],
      "authorship_tag": "ABX9TyNIdof66dqe/dqhgQGFqwMa",
      "include_colab_link": true
    },
    "kernelspec": {
      "name": "python3",
      "display_name": "Python 3"
    },
    "language_info": {
      "name": "python"
    }
  },
  "cells": [
    {
      "cell_type": "markdown",
      "metadata": {
        "id": "view-in-github",
        "colab_type": "text"
      },
      "source": [
        "<a href=\"https://colab.research.google.com/github/ANGIECATHERINEP/MujerDigital/blob/main/Clase3.ipynb\" target=\"_parent\"><img src=\"https://colab.research.google.com/assets/colab-badge.svg\" alt=\"Open In Colab\"/></a>"
      ]
    },
    {
      "cell_type": "markdown",
      "metadata": {
        "id": "3tHol9pr4mNc"
      },
      "source": [
        "# **ESTRUCTURAS DE CONDICIONALES (CONTROL)**\n",
        "\n",
        "\n",
        "---\n",
        "\n",
        "\n",
        "---\n",
        "Al momento de construir una instrucción de tipo condicional se deberá comprender que dichas instrucciones estan diseñadas para ayudar en la toma de decisiones.\n",
        "\n",
        "Ejemplo: **Si** Pedreo va a la tienda por la izquierda llegará más rápido, sino se demorará más.\n",
        "\n",
        "Existen varios tipos de instrucciones, algunos pueden ser simples y otros multiples. Sin embargo solo se generan dos reultados.\n",
        "1. Verdadero\n",
        "2. Falso\n",
        "\n",
        "En Python tales resultados serian True o False.\n",
        "\n",
        "Para aplicar los condiciones que veremos a continuación debemos recordar los comandos de opradores matematicos vistos en clase anterior:\n",
        "1.Igualdad (==) // 2==7 // False\n",
        "2. Diferencia (!=) //rosado != verde //true\n",
        "3. Menor que (<) //12 < 11 // False\n",
        "4. Mayor que (>) 1>1.5 // False\n",
        "5. menor o igual que (<=) 30 =< 30 // True\n",
        "6. Mayor o igual que (>=)\n",
        " 1>=2 // False"
      ]
    },
    {
      "cell_type": "markdown",
      "metadata": {
        "id": "j-gMxZ7W7Mx9"
      },
      "source": [
        "En condiciones múltiples podemos enlazar los operadores lógico:\n",
        "1. Y (and)\n",
        "2. O (or)\n",
        "3. No (no)\n",
        "\n",
        "Ejemplos:\n",
        "\n",
        "3=08 and 8>12 //False\n",
        "\n",
        "3==3 or 15<3 //True\n",
        "\n",
        "not True // False"
      ]
    },
    {
      "cell_type": "markdown",
      "metadata": {
        "id": "pspr1_-774y_"
      },
      "source": [
        "Para aplicar los operadores matemáticos lógicos, tenemops que tener encuenta de que llamamos **Diagramas de flujo**, esto nos permite mayor organización de las ideas para toma de decisiones"
      ]
    },
    {
      "cell_type": "markdown",
      "metadata": {
        "id": "oFlZGacVBIaT"
      },
      "source": [
        "**El comando IF**\n",
        "\n",
        "---\n",
        "Este comando permite evaluar si una sentencia es verdadera o falsa, es decir, ejecuta una acción establecida mediante un código de instruccion o varias instrucciones inmediata,emte en las líneas siguientes a dicha condición\n"
      ]
    },
    {
      "cell_type": "code",
      "metadata": {
        "colab": {
          "base_uri": "https://localhost:8080/"
        },
        "id": "gdRG-KeiBhVp",
        "outputId": "8b7a3f50-a30a-4384-9c0a-0680666ae365"
      },
      "source": [
        "num = int(input('escribir un número cualquiera:'))\n",
        "if num == 200:\n",
        "   print(\"Escribiste el 200\")"
      ],
      "execution_count": 19,
      "outputs": [
        {
          "output_type": "stream",
          "text": [
            "escribir un número cualquiera:200\n",
            "Escribiste el 200\n"
          ],
          "name": "stdout"
        }
      ]
    },
    {
      "cell_type": "markdown",
      "metadata": {
        "id": "vk2nlfobCPRo"
      },
      "source": [
        "**El comando ELSE**\n",
        "\n",
        "---\n",
        "En español es conocido como \"si no\". Este comando permite relacionar las acciones que deberia realizar en caso que la condición \n"
      ]
    },
    {
      "cell_type": "code",
      "metadata": {
        "colab": {
          "base_uri": "https://localhost:8080/"
        },
        "id": "NQH_sUL9CrNj",
        "outputId": "8035ee19-a753-40ba-dee6-9875c2ca1672"
      },
      "source": [
        "num = int(input('escribir un número cualquiera:'))\n",
        "if num == 200:\n",
        "   print(\"Escribiste el 200\")\n",
        "else:\n",
        "   print(\"El número escrito NO es 200\")"
      ],
      "execution_count": 20,
      "outputs": [
        {
          "output_type": "stream",
          "text": [
            "escribir un número cualquiera:200\n",
            "Escribiste el 200\n"
          ],
          "name": "stdout"
        }
      ]
    },
    {
      "cell_type": "markdown",
      "metadata": {
        "id": "ITOtOjz5D2M_"
      },
      "source": [
        "**El comando ELIF = else if**\n",
        "\n",
        "---\n",
        "Significa \"sino, si\" y permite concatenar condiciones:\n"
      ]
    },
    {
      "cell_type": "code",
      "metadata": {
        "colab": {
          "base_uri": "https://localhost:8080/"
        },
        "id": "2EPWU_YTEDvC",
        "outputId": "76fb6995-bcc3-4a51-f75d-e7d2a9bc07b1"
      },
      "source": [
        "num = int(input('escribir un número cualquiera:'))\n",
        "if num == 200:\n",
        "   print(\"Escribiste el 200\")\n",
        "elif num > 200: \n",
        "   print(\"El número escrito es MAYOR a 200\")  \n",
        "else:\n",
        "   print(\"El número escrito NO es 200\")"
      ],
      "execution_count": 23,
      "outputs": [
        {
          "output_type": "stream",
          "text": [
            "escribir un número cualquiera:203\n",
            "El número escrito es MAYOR a 200\n"
          ],
          "name": "stdout"
        }
      ]
    },
    {
      "cell_type": "markdown",
      "metadata": {
        "id": "RniSTfzYHfif"
      },
      "source": [
        "**Condicionales multiples**\n",
        "\n",
        "---\n",
        "Cuando se prsentan situaciones con más de una condición que dependdn unas de otras, estan se pueden tratar mediante el manejo de varias sentencias o comandos IF , o mediante el manejo adecuado del comando ELIF.\n",
        "\n",
        "Sin embargo en muchos casos cuando hay multiples condiciones, la programaciÓn necesita mayor cantidad de líneas de código, en esos casos es necesario el uso de operadores lógicos como el AND y OR.\n"
      ]
    },
    {
      "cell_type": "code",
      "metadata": {
        "colab": {
          "base_uri": "https://localhost:8080/"
        },
        "id": "6q4J4AbXIkzM",
        "outputId": "8100f9fd-95c1-484e-a5b6-eb4846cd2f2a"
      },
      "source": [
        "x = int(input(\"valor: \"))  #Condicional anidada\n",
        "if 0<x:\n",
        "  if x<10:\n",
        "     print(\"x es un número positivo\")"
      ],
      "execution_count": 32,
      "outputs": [
        {
          "output_type": "stream",
          "text": [
            "valor: 5\n",
            "x es un número positivo\n"
          ],
          "name": "stdout"
        }
      ]
    },
    {
      "cell_type": "code",
      "metadata": {
        "colab": {
          "base_uri": "https://localhost:8080/"
        },
        "id": "IoPwJBHWKLjx",
        "outputId": "91b89060-2e5b-4c52-ffe7-4ced4eff87ad"
      },
      "source": [
        "x = int(input(\"valor: \")) #Expresión booleana\n",
        "if 0<x and  x<10: \n",
        "  if x<10:\n",
        "     print(\"x es un número de un solo digito\")"
      ],
      "execution_count": 33,
      "outputs": [
        {
          "output_type": "stream",
          "text": [
            "valor: 15\n"
          ],
          "name": "stdout"
        }
      ]
    },
    {
      "cell_type": "code",
      "metadata": {
        "colab": {
          "base_uri": "https://localhost:8080/"
        },
        "id": "ndO2xEwhKZUk",
        "outputId": "1c062812-a13d-40c5-fd0b-c8197f013004"
      },
      "source": [
        "x = int(input(\"valor\"))\n",
        "if 0<x<10:\n",
        "   print(\"x es un número de un solo digito\")"
      ],
      "execution_count": 35,
      "outputs": [
        {
          "output_type": "stream",
          "text": [
            "valor3\n",
            "x es un número de un solo digito\n"
          ],
          "name": "stdout"
        }
      ]
    },
    {
      "cell_type": "markdown",
      "metadata": {
        "id": "fOcgSPYrKtkx"
      },
      "source": [
        "esta condición el la misma expresión booleana compuesta y la misma expresión condicional anidada."
      ]
    },
    {
      "cell_type": "markdown",
      "metadata": {
        "id": "IduXkw2uM6pL"
      },
      "source": [
        "# **ESTRUCTURAS DE CONTROL ITERATIVAS**\n",
        "\n",
        "---\n",
        "Las varibles son calves en las estrcuturas de control iterativas, puesto qu son el medio entre la iteración y la condición que se esta ejecutando\n",
        "\n",
        "**¿Que es iteración?**\n",
        "\n",
        "\n",
        "Iteración es la consecución del código tantas veces requiera que se cumpla las condiciones establecidas.\n",
        "\n",
        "*Banderas:*\n",
        "\n",
        "Son las variables que toman un valor preferiblemente binario, boleano e indican un estado.\n",
        "\n",
        "Ejemplo:"
      ]
    },
    {
      "cell_type": "code",
      "metadata": {
        "colab": {
          "base_uri": "https://localhost:8080/"
        },
        "id": "M_5xw_SwNw3I",
        "outputId": "05d2591d-f627-4d86-dc5e-0c1b329e2ace"
      },
      "source": [
        "suma = False\n",
        "total = 0\n",
        "a = 3\n",
        "b = 10\n",
        "if (suma==False):\n",
        "   total=a+b\n",
        "   suma=True\n",
        "\n",
        "if (suma==True):\n",
        "   print(\"El valor total de la suma es: \", total)"
      ],
      "execution_count": 38,
      "outputs": [
        {
          "output_type": "stream",
          "text": [
            "El valor total de la suma es:  13\n"
          ],
          "name": "stdout"
        }
      ]
    },
    {
      "cell_type": "markdown",
      "metadata": {
        "id": "-A-Ejpw1PkSR"
      },
      "source": [
        "la variable suma es de tipo boleano y u función es indicar cuando se ejecuto la suma; Por lo tanto un estado inicial \"False\", pero luego de ejecutar la suma, toma el valor \"True\".\n",
        "Cuando pasa esto escuchamos la frase \"la bandera se levanto\". Esto quiere decir que ua u otra acción hizo que el estado de labandera cambiará. \n",
        "\n",
        "**Ejemplo caulitativo: *CASO CONTAGIO*:**"
      ]
    },
    {
      "cell_type": "code",
      "metadata": {
        "colab": {
          "base_uri": "https://localhost:8080/"
        },
        "id": "lXjvmMZpQrcS",
        "outputId": "ce2814e9-22a2-44fd-9e8c-f20da0e8ea7c"
      },
      "source": [
        "contagio_v =\"No\"\n",
        "paciente = \"Adriana\"\n",
        "if (contagio_v==\"No\"):\n",
        "  print (\"la paciente \",paciente, \"no se ha realizado la prueba para validar, por favor realizarse la prueba en el centro de salud más cercano\")\n",
        "  print (\"aplicarse la prueba\")\n",
        "  contagio_v = \"Pendiente\"\n",
        "\n",
        "if (contagio_v==\"Pendiente\"):\n",
        "  print(paciente, \" por favor revisar el correo donde se le adjunto el resultado de la prueba\")\n",
        "  contagio_v =\"Si\"\n",
        "\n",
        "if (contagio_v==\"Si\"):\n",
        "  print(paciente,\" Dado que es positivo el resultado de su prueba, mantener distanciamiento social por lo menos de dos semanas\")\n"
      ],
      "execution_count": 39,
      "outputs": [
        {
          "output_type": "stream",
          "text": [
            "la paciente  Adriana no se ha realizado la prueba para validar, por favor realizarse la prueba en el centro de salud más cercano\n",
            "aplicarse la prueba\n",
            "Adriana  por favor revisar el correo donde se le adjunto el resultado de la prueba\n",
            "Adriana  Dado que es positivo el resultado de su prueba, mantener distanciamiento social por lo menos de dos semanas\n"
          ],
          "name": "stdout"
        }
      ]
    },
    {
      "cell_type": "code",
      "metadata": {
        "colab": {
          "base_uri": "https://localhost:8080/"
        },
        "id": "IcuuMnfFSwWh",
        "outputId": "d492154e-2dbb-4585-e000-1e9af80dd308"
      },
      "source": [
        "paciente = input(\"Nombre del paciente\")\n",
        "contagio_v = input(\"¿Te has realizado la prueba de contagio?\")\n",
        "if (contagio_v==\"no\"):\n",
        "  print (\"la paciente \",paciente, \"no se ha realizado la prueba para validar, por favor realizarse la prueba en el centro de salud más cercano\")\n",
        "  print (\"aplicarse la prueba\")\n",
        " \n",
        "if (contagio_v==\"si\"):\n",
        "  print(paciente, \" por favor revisar el correo donde se le adjunto el resultado de la prueba\")\n",
        "  contagio_v =\"positivo\"\n",
        "\n",
        "if (contagio_v==\"positivo\"):\n",
        "  print(paciente,\" Dado que es positivo el resultado de su prueba, mantener distanciamiento social por lo menos de dos semanas\")\n"
      ],
      "execution_count": 40,
      "outputs": [
        {
          "output_type": "stream",
          "text": [
            "Nombre del pacienteandrea\n",
            "¿Te has realizado la prueba de contagio?si\n",
            "andrea  por favor revisar el correo donde se le adjunto el resultado de la prueba\n",
            "andrea  Dado que es positivo el resultado de su prueba, mantener distanciamiento social por lo menos de dos semanas\n"
          ],
          "name": "stdout"
        }
      ]
    },
    {
      "cell_type": "markdown",
      "metadata": {
        "id": "PUFbRC6oTpcv"
      },
      "source": [
        "**Ejercicio en clase**\n",
        "\n",
        "---\n",
        "El bootcamp comenzo el 26 de julio de 2021, se les explico a las estudiantes que se les evaluaria de la siguiente forma:\n",
        "\n",
        "1. Tareas = 10%\n",
        "2. Talleres = 25%\n",
        "3. Asistencia = 5%\n",
        "4. Participación = 15%\n",
        "5. Proyecto = 45%\n",
        "\n",
        "Teniendo en cuenta las ponderaciones de calificaión del bootcamp las estudiantes deciden desarrollar un programa que les permita saber cuando tendria que sacar en el proyecto para tener una definitiva de 3.7 minimo, si las notas que llevan hasta el momento son las siguientes:\n",
        "\n",
        "Tareas:4.5\n",
        "\n",
        "Talleres:4\n",
        "\n",
        "Asistencia:5\n",
        "\n",
        "Participación:4\n",
        "\n",
        "¿Cuanto tendria que sacar en el proyecto?"
      ]
    },
    {
      "cell_type": "markdown",
      "metadata": {
        "id": "HmtxR4xxVWtR"
      },
      "source": [
        "*R//*"
      ]
    },
    {
      "cell_type": "code",
      "metadata": {
        "id": "YJPeHi_RVT9C"
      },
      "source": [
        ""
      ],
      "execution_count": null,
      "outputs": []
    }
  ]
}