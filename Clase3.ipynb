{
  "nbformat": 4,
  "nbformat_minor": 0,
  "metadata": {
    "colab": {
      "name": "Clase3.ipynb",
      "provenance": [],
      "authorship_tag": "ABX9TyMNuCxVlxfkAtvT1WZctiRa",
      "include_colab_link": true
    },
    "kernelspec": {
      "name": "python3",
      "display_name": "Python 3"
    },
    "language_info": {
      "name": "python"
    }
  },
  "cells": [
    {
      "cell_type": "markdown",
      "metadata": {
        "id": "view-in-github",
        "colab_type": "text"
      },
      "source": [
        "<a href=\"https://colab.research.google.com/github/ANGIECATHERINEP/MujerDigital/blob/main/Clase3.ipynb\" target=\"_parent\"><img src=\"https://colab.research.google.com/assets/colab-badge.svg\" alt=\"Open In Colab\"/></a>"
      ]
    },
    {
      "cell_type": "markdown",
      "metadata": {
        "id": "3tHol9pr4mNc"
      },
      "source": [
        "**ESTRUCTURAS DE CONDICIONALES (CONTROL)**\n",
        "\n",
        "\n",
        "---\n",
        "\n",
        "\n",
        "---\n",
        "Al momento de construir una instrucción de tipo condicional se deberá comprender que dichas instrucciones estan diseñadas para ayudar en la toma de decisiones.\n",
        "\n",
        "Ejemplo: **Si** Pedreo va a la tienda por la izquierda llegará más rápido, sino se demorará más.\n",
        "\n",
        "Existen varios tipos de instrucciones, algunos pueden ser simples y otros multiples. Sin embargo solo se generan dos reultados.\n",
        "1. Verdadero\n",
        "2. Falso\n",
        "\n",
        "En Python tales resultados serian True o False.\n",
        "\n",
        "Para aplicar los condiciones que veremos a continuación debemos recordar los comandos de opradores matematicos vistos en clase anterior:\n",
        "1.Igualdad (==) // 2==7 // False\n",
        "2. Diferencia (!=) //rosado != verde //true\n",
        "3. Menor que (<) //12 < 11 // False\n",
        "4. Mayor que (>) 1>1.5 // False\n",
        "5. menor o igual que (<=) 30 =< 30 // True\n",
        "6. Mayor o igual que (>=)\n",
        " 1>=2 // False"
      ]
    },
    {
      "cell_type": "markdown",
      "metadata": {
        "id": "j-gMxZ7W7Mx9"
      },
      "source": [
        "En condiciones múltiples podemos enlazar los operadores lógico:\n",
        "1. Y (and)\n",
        "2. O (or)\n",
        "3. No (no)\n",
        "\n",
        "Ejemplos:\n",
        "\n",
        "3=08 and 8>12 //False\n",
        "\n",
        "3==3 or 15<3 //True\n",
        "\n",
        "not True // False"
      ]
    },
    {
      "cell_type": "markdown",
      "metadata": {
        "id": "pspr1_-774y_"
      },
      "source": [
        "Para aplicar los operadores matemáticos lógicos, tenemops que tener encuenta de que llamamos **Diagramas de flujo**, esto nos permite mayor organización de las ideas para toma de decisiones"
      ]
    },
    {
      "cell_type": "markdown",
      "metadata": {
        "id": "oFlZGacVBIaT"
      },
      "source": [
        "**El comando IF**\n",
        "\n",
        "---\n",
        "Este comando permite evaluar si una sentencia es verdadera o falsa, es decir, ejecuta una acción establecida mediante un código de instruccion o varias instrucciones inmediata,emte en las líneas siguientes a dicha condición\n"
      ]
    },
    {
      "cell_type": "code",
      "metadata": {
        "colab": {
          "base_uri": "https://localhost:8080/"
        },
        "id": "gdRG-KeiBhVp",
        "outputId": "8b7a3f50-a30a-4384-9c0a-0680666ae365"
      },
      "source": [
        "num = int(input('escribir un número cualquiera:'))\n",
        "if num == 200:\n",
        "   print(\"Escribiste el 200\")"
      ],
      "execution_count": 19,
      "outputs": [
        {
          "output_type": "stream",
          "text": [
            "escribir un número cualquiera:200\n",
            "Escribiste el 200\n"
          ],
          "name": "stdout"
        }
      ]
    },
    {
      "cell_type": "markdown",
      "metadata": {
        "id": "vk2nlfobCPRo"
      },
      "source": [
        "**El comando ELSE**\n",
        "\n",
        "---\n",
        "En español es conocido como \"si no\". Este comando permite relacionar las acciones que deberia realizar en caso que la condición \n"
      ]
    },
    {
      "cell_type": "code",
      "metadata": {
        "colab": {
          "base_uri": "https://localhost:8080/"
        },
        "id": "NQH_sUL9CrNj",
        "outputId": "8035ee19-a753-40ba-dee6-9875c2ca1672"
      },
      "source": [
        "num = int(input('escribir un número cualquiera:'))\n",
        "if num == 200:\n",
        "   print(\"Escribiste el 200\")\n",
        "else:\n",
        "   print(\"El número escrito NO es 200\")"
      ],
      "execution_count": 20,
      "outputs": [
        {
          "output_type": "stream",
          "text": [
            "escribir un número cualquiera:200\n",
            "Escribiste el 200\n"
          ],
          "name": "stdout"
        }
      ]
    },
    {
      "cell_type": "markdown",
      "metadata": {
        "id": "ITOtOjz5D2M_"
      },
      "source": [
        "**El comando ELIF = else if**\n",
        "\n",
        "---\n",
        "Significa \"sino, si\" y permite concatenar condiciones:\n"
      ]
    },
    {
      "cell_type": "code",
      "metadata": {
        "colab": {
          "base_uri": "https://localhost:8080/"
        },
        "id": "2EPWU_YTEDvC",
        "outputId": "76fb6995-bcc3-4a51-f75d-e7d2a9bc07b1"
      },
      "source": [
        "num = int(input('escribir un número cualquiera:'))\n",
        "if num == 200:\n",
        "   print(\"Escribiste el 200\")\n",
        "elif num > 200: \n",
        "   print(\"El número escrito es MAYOR a 200\")  \n",
        "else:\n",
        "   print(\"El número escrito NO es 200\")"
      ],
      "execution_count": 23,
      "outputs": [
        {
          "output_type": "stream",
          "text": [
            "escribir un número cualquiera:203\n",
            "El número escrito es MAYOR a 200\n"
          ],
          "name": "stdout"
        }
      ]
    },
    {
      "cell_type": "markdown",
      "metadata": {
        "id": "RniSTfzYHfif"
      },
      "source": [
        "**Condicionales multiples**\n",
        "\n",
        "---\n",
        "Cuando se prsentan situaciones con más de una condición que dependdn unas de otras, estan se pueden tratar mediante el manejo de varias sentencias o comandos IF , o mediante el manejo adecuado del comando ELIF.\n",
        "\n",
        "Sin embargo en muchos casos cuando hay multiples condiciones, la programaciÓn necesita mayor cantidad de líneas de código, en esos casos es necesario el uso de operadores lógicos como el AND y OR.\n"
      ]
    },
    {
      "cell_type": "code",
      "metadata": {
        "colab": {
          "base_uri": "https://localhost:8080/"
        },
        "id": "6q4J4AbXIkzM",
        "outputId": "8100f9fd-95c1-484e-a5b6-eb4846cd2f2a"
      },
      "source": [
        "x = int(input(\"valor: \"))  #Condicional anidada\n",
        "if 0<x:\n",
        "  if x<10:\n",
        "     print(\"x es un número positivo\")"
      ],
      "execution_count": 32,
      "outputs": [
        {
          "output_type": "stream",
          "text": [
            "valor: 5\n",
            "x es un número positivo\n"
          ],
          "name": "stdout"
        }
      ]
    },
    {
      "cell_type": "code",
      "metadata": {
        "colab": {
          "base_uri": "https://localhost:8080/"
        },
        "id": "IoPwJBHWKLjx",
        "outputId": "91b89060-2e5b-4c52-ffe7-4ced4eff87ad"
      },
      "source": [
        "x = int(input(\"valor: \")) #Expresión booleana\n",
        "if 0<x and  x<10: \n",
        "  if x<10:\n",
        "     print(\"x es un número de un solo digito\")"
      ],
      "execution_count": 33,
      "outputs": [
        {
          "output_type": "stream",
          "text": [
            "valor: 15\n"
          ],
          "name": "stdout"
        }
      ]
    },
    {
      "cell_type": "code",
      "metadata": {
        "colab": {
          "base_uri": "https://localhost:8080/"
        },
        "id": "ndO2xEwhKZUk",
        "outputId": "1c062812-a13d-40c5-fd0b-c8197f013004"
      },
      "source": [
        "x = int(input(\"valor\"))\n",
        "if 0<x<10:\n",
        "   print(\"x es un número de un solo digito\")"
      ],
      "execution_count": 35,
      "outputs": [
        {
          "output_type": "stream",
          "text": [
            "valor3\n",
            "x es un número de un solo digito\n"
          ],
          "name": "stdout"
        }
      ]
    },
    {
      "cell_type": "markdown",
      "metadata": {
        "id": "fOcgSPYrKtkx"
      },
      "source": [
        "esta condición el la misma expresión boolean compuesta y la misma expresión condicional anidada."
      ]
    }
  ]
}