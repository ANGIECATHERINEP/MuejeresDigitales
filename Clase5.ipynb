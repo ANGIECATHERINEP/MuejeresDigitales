{
  "nbformat": 4,
  "nbformat_minor": 0,
  "metadata": {
    "colab": {
      "name": "Clase5.ipynb",
      "provenance": [],
      "authorship_tag": "ABX9TyMB7jF08AZ9Pz0Po73ZU0xZ",
      "include_colab_link": true
    },
    "kernelspec": {
      "name": "python3",
      "display_name": "Python 3"
    },
    "language_info": {
      "name": "python"
    }
  },
  "cells": [
    {
      "cell_type": "markdown",
      "metadata": {
        "id": "view-in-github",
        "colab_type": "text"
      },
      "source": [
        "<a href=\"https://colab.research.google.com/github/ANGIECATHERINEP/MujerDigital/blob/main/Clase5.ipynb\" target=\"_parent\"><img src=\"https://colab.research.google.com/assets/colab-badge.svg\" alt=\"Open In Colab\"/></a>"
      ]
    },
    {
      "cell_type": "markdown",
      "metadata": {
        "id": "Saoci5PWoix0"
      },
      "source": [
        "***continuación de ciclos***\n",
        "\n",
        "---\n",
        "\n",
        "\n",
        "\n",
        "---\n",
        "\n"
      ]
    },
    {
      "cell_type": "markdown",
      "metadata": {
        "id": "cfv0FWpTphP8"
      },
      "source": [
        "**Ciclo FOR (bucle FOR)**\n",
        "\n",
        "---\n",
        "\n"
      ]
    },
    {
      "cell_type": "code",
      "metadata": {
        "colab": {
          "base_uri": "https://localhost:8080/"
        },
        "id": "5bMOmDSWpsHG",
        "outputId": "2be18bc4-d4c2-482c-d99d-75fa813603b5"
      },
      "source": [
        "for i in range(1,5):\n",
        "    print(i)"
      ],
      "execution_count": 6,
      "outputs": [
        {
          "output_type": "stream",
          "text": [
            "1\n",
            "2\n",
            "3\n",
            "4\n"
          ],
          "name": "stdout"
        }
      ]
    },
    {
      "cell_type": "markdown",
      "metadata": {
        "id": "S7vgC1H5qKCT"
      },
      "source": [
        "Para dejar claro las partes que componen el bucle FOR, vamos a dejar claro las siguientes definiciones:\n",
        "1. **Iterable:** Los objetos que pueden ser literados. Por ejemplo: Una lista, valor tipo cadena, etc.\n",
        "2. **Iterador**: Son objetos que hacen referencia a un elemento. Para hacer referencia a cada uno de los elementos hay un metodo denominado \"next\" que permite hacer referencia a los elementos del conjunto.\n",
        "\n",
        "***Estructura:***\n",
        "\n",
        "for < variable > in < iterable >:\n",
        "   \n",
        "     < Bloque código >\n",
        "\n",
        "Algunos ejemplos de iterable en Python son listas, cadenas, diccionarios, tuplas, etc.\n",
        "\n",
        "¿Como saber que es iterable a la hora de programar?\n",
        "podemos darnos  cuneta que es iterable usando la función isinstance().\n"
      ]
    },
    {
      "cell_type": "code",
      "metadata": {
        "colab": {
          "base_uri": "https://localhost:8080/"
        },
        "id": "bSmFlSPJsCAy",
        "outputId": "8f5103ba-a54f-49ed-8430-4d1cded3968e"
      },
      "source": [
        "from collections import Iterable  #paquete iterable de colecciones  (Python 3.7)  Kernel\n",
        "lista =[1,2,3,4,5,6,7,8,9,0]\n",
        "a =\"computador\"\n",
        "b = 10\n",
        "print(isinstance(lista,Iterable))\n",
        "print(isinstance(a,Iterable))\n",
        "print(isinstance(b,Iterable))"
      ],
      "execution_count": 14,
      "outputs": [
        {
          "output_type": "stream",
          "text": [
            "True\n",
            "True\n",
            "False\n"
          ],
          "name": "stdout"
        }
      ]
    },
    {
      "cell_type": "code",
      "metadata": {
        "colab": {
          "base_uri": "https://localhost:8080/",
          "height": 197
        },
        "id": "OzTuMyHrvVYp",
        "outputId": "12bc07fa-1c43-452f-df49-52619dceb447"
      },
      "source": [
        "a = 30\n",
        "for i in a:\n",
        "  print(i)"
      ],
      "execution_count": 15,
      "outputs": [
        {
          "output_type": "error",
          "ename": "TypeError",
          "evalue": "ignored",
          "traceback": [
            "\u001b[0;31m---------------------------------------------------------------------------\u001b[0m",
            "\u001b[0;31mTypeError\u001b[0m                                 Traceback (most recent call last)",
            "\u001b[0;32m<ipython-input-15-653d8d870db9>\u001b[0m in \u001b[0;36m<module>\u001b[0;34m()\u001b[0m\n\u001b[1;32m      1\u001b[0m \u001b[0ma\u001b[0m \u001b[0;34m=\u001b[0m \u001b[0;36m30\u001b[0m\u001b[0;34m\u001b[0m\u001b[0;34m\u001b[0m\u001b[0m\n\u001b[0;32m----> 2\u001b[0;31m \u001b[0;32mfor\u001b[0m \u001b[0mi\u001b[0m \u001b[0;32min\u001b[0m \u001b[0ma\u001b[0m\u001b[0;34m:\u001b[0m\u001b[0;34m\u001b[0m\u001b[0;34m\u001b[0m\u001b[0m\n\u001b[0m\u001b[1;32m      3\u001b[0m   \u001b[0mprint\u001b[0m\u001b[0;34m(\u001b[0m\u001b[0mi\u001b[0m\u001b[0;34m)\u001b[0m\u001b[0;34m\u001b[0m\u001b[0;34m\u001b[0m\u001b[0m\n",
            "\u001b[0;31mTypeError\u001b[0m: 'int' object is not iterable"
          ]
        }
      ]
    },
    {
      "cell_type": "markdown",
      "metadata": {
        "id": "Pt-_8IF3vh7w"
      },
      "source": [
        "Para entender los iteradores es imporntante conocer la función **\"iter()\"**, esta función puede ser llamada sobre un objeto que sea iterable y nos devolverá un iterador"
      ]
    },
    {
      "cell_type": "code",
      "metadata": {
        "colab": {
          "base_uri": "https://localhost:8080/"
        },
        "id": "b1z0h70pwMPj",
        "outputId": "f4e8ff98-6a7c-4a50-a198-6b3960e50001"
      },
      "source": [
        "lista =[1,2,3,4,5,6,7,8,9,0]\n",
        "ref =iter(lista)\n",
        "print(ref)\n",
        "print(type(ref))"
      ],
      "execution_count": 18,
      "outputs": [
        {
          "output_type": "stream",
          "text": [
            "<list_iterator object at 0x7f0dd9cc6e50>\n",
            "<class 'list_iterator'>\n"
          ],
          "name": "stdout"
        }
      ]
    },
    {
      "cell_type": "markdown",
      "metadata": {
        "id": "KXnJPuTwwZE7"
      },
      "source": [
        "Al imprimir Ref es un iterador de la clase ***list_iterator***, hace referencia a la lista original y nos pormite acceder a sus elementos con la función ***next()***.\n",
        "\n",
        "Cada vez que llamemos a next() sobre Ref, nos devuelve el siguiente elemento de la lista orginal. Por ejemplo, si llamamos 7 tendremos que llamarlo 7 veces.\n"
      ]
    },
    {
      "cell_type": "code",
      "metadata": {
        "colab": {
          "base_uri": "https://localhost:8080/"
        },
        "id": "J07FGwJAwtwx",
        "outputId": "6b8c72ae-62f5-4e99-948f-e86c9c44cc98"
      },
      "source": [
        "lista =[1,2,3,4,5,6,7,8,9,0]\n",
        "ref =iter(lista)\n",
        "print(next(ref))\n",
        "print(next(ref))\n",
        "print(next(ref))\n",
        "print(next(ref))\n",
        "print(next(ref))"
      ],
      "execution_count": 20,
      "outputs": [
        {
          "output_type": "stream",
          "text": [
            "1\n",
            "2\n",
            "3\n",
            "4\n",
            "5\n"
          ],
          "name": "stdout"
        }
      ]
    },
    {
      "cell_type": "markdown",
      "metadata": {
        "id": "ipKPVzFwxHB1"
      },
      "source": [
        "**Tener encuenta**\n",
        "Existen otros iteradores para diferentes clases: \n",
        "1. str iterator-- para cadenas\n",
        "2. list_iterator -- para listas\n",
        "3. set_iterator -- para conjuntos\n",
        "4. dict_iterator -- para diccionarios"
      ]
    },
    {
      "cell_type": "markdown",
      "metadata": {
        "id": "l2taAJnlx7wF"
      },
      "source": [
        "**FOR anidados**\n",
        "\n",
        "---\n",
        "es posible anidar los FOR, es decir ingresar uno dentro de otro, como lo vemos a continuación:\n"
      ]
    },
    {
      "cell_type": "code",
      "metadata": {
        "colab": {
          "base_uri": "https://localhost:8080/"
        },
        "id": "GyjKxCBlyQBM",
        "outputId": "d698eef2-276f-488f-a528-8d6ea45adf48"
      },
      "source": [
        "#vamos a crear una lista de listas, lo cual conforma una matriz\n",
        "#recordemos que una matriz se compone de valores que se distribuyen en filas y columnas\n",
        "qa= [[1,2,3],\n",
        "     [4,5,6],\n",
        "     [7,8,9]]\n",
        "\n",
        "for i in qa:\n",
        "  print(i)\n",
        "\n",
        "print(\" \")\n",
        "\n",
        "for i in qa:\n",
        "  for j in i:\n",
        "    print(j)"
      ],
      "execution_count": 23,
      "outputs": [
        {
          "output_type": "stream",
          "text": [
            "[1, 2, 3]\n",
            "[4, 5, 6]\n",
            "[7, 8, 9]\n",
            " \n",
            "1\n",
            "2\n",
            "3\n",
            "4\n",
            "5\n",
            "6\n",
            "7\n",
            "8\n",
            "9\n"
          ],
          "name": "stdout"
        }
      ]
    },
    {
      "cell_type": "markdown",
      "metadata": {
        "id": "CG7YxXkZzP31"
      },
      "source": [
        "Si queremos acceder a cada elemento individualmente, se procede a realizar un bucle de FOR anidado, es decir, un FOR se encargará de iterar las columnas, y el otro las filas."
      ]
    },
    {
      "cell_type": "code",
      "metadata": {
        "colab": {
          "base_uri": "https://localhost:8080/"
        },
        "id": "drCVLArNz6zh",
        "outputId": "0b72f1fa-fb44-40d6-93d9-a3b844c09a62"
      },
      "source": [
        "#otra forma de utilizar solo el for, es la iteración al revés, se puede iterar  la lista del último al primer elemento\n",
        "lista =[1,2,3,4,5,6,7,8,9,0]  #del último al primer elemento\n",
        "for i in lista[::-1]:\n",
        "    print(i)"
      ],
      "execution_count": 24,
      "outputs": [
        {
          "output_type": "stream",
          "text": [
            "0\n",
            "9\n",
            "8\n",
            "7\n",
            "6\n",
            "5\n",
            "4\n",
            "3\n",
            "2\n",
            "1\n"
          ],
          "name": "stdout"
        }
      ]
    },
    {
      "cell_type": "code",
      "metadata": {
        "colab": {
          "base_uri": "https://localhost:8080/"
        },
        "id": "uAbzmFF50gw2",
        "outputId": "4f426a04-80f9-4d06-935e-0e31e3f99049"
      },
      "source": [
        "lista =[1,2,3,4,5,6,7,8,9,0]\n",
        "for i in lista[::2]: #salto de 2 en 2\n",
        "    print(i)\n",
        "\n",
        "print(\"-------\")\n",
        "\n",
        "a=\"computador\"\n",
        "for i in a[::4]: #salto de 4 en 4\n",
        "    print(i)"
      ],
      "execution_count": 28,
      "outputs": [
        {
          "output_type": "stream",
          "text": [
            "1\n",
            "3\n",
            "5\n",
            "7\n",
            "9\n",
            "-------\n",
            "c\n",
            "u\n",
            "o\n"
          ],
          "name": "stdout"
        }
      ]
    },
    {
      "cell_type": "markdown",
      "metadata": {
        "id": "2uRK4ObN11YA"
      },
      "source": [
        "*Usando rangos*"
      ]
    },
    {
      "cell_type": "code",
      "metadata": {
        "colab": {
          "base_uri": "https://localhost:8080/"
        },
        "id": "hBMyqByP1sss",
        "outputId": "d3e51b22-6332-45a3-e94d-bfe1a11aea79"
      },
      "source": [
        "for i in range(10):\n",
        "  print(i)"
      ],
      "execution_count": 29,
      "outputs": [
        {
          "output_type": "stream",
          "text": [
            "0\n",
            "1\n",
            "2\n",
            "3\n",
            "4\n",
            "5\n",
            "6\n",
            "7\n",
            "8\n",
            "9\n"
          ],
          "name": "stdout"
        }
      ]
    }
  ]
}