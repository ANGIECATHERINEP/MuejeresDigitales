{
  "nbformat": 4,
  "nbformat_minor": 0,
  "metadata": {
    "colab": {
      "name": "Clase5.ipynb",
      "provenance": [],
      "authorship_tag": "ABX9TyNugRpqszUJ6+W2ypeUyubQ",
      "include_colab_link": true
    },
    "kernelspec": {
      "name": "python3",
      "display_name": "Python 3"
    },
    "language_info": {
      "name": "python"
    }
  },
  "cells": [
    {
      "cell_type": "markdown",
      "metadata": {
        "id": "view-in-github",
        "colab_type": "text"
      },
      "source": [
        "<a href=\"https://colab.research.google.com/github/ANGIECATHERINEP/MujerDigital/blob/main/Clase5.ipynb\" target=\"_parent\"><img src=\"https://colab.research.google.com/assets/colab-badge.svg\" alt=\"Open In Colab\"/></a>"
      ]
    },
    {
      "cell_type": "markdown",
      "metadata": {
        "id": "Saoci5PWoix0"
      },
      "source": [
        "***continuación de ciclos***\n",
        "\n",
        "---\n",
        "\n",
        "\n",
        "\n",
        "---\n",
        "\n"
      ]
    },
    {
      "cell_type": "markdown",
      "metadata": {
        "id": "cfv0FWpTphP8"
      },
      "source": [
        "**Ciclo FOR (bucle FOR)**\n",
        "\n",
        "---\n",
        "\n"
      ]
    },
    {
      "cell_type": "code",
      "metadata": {
        "colab": {
          "base_uri": "https://localhost:8080/"
        },
        "id": "5bMOmDSWpsHG",
        "outputId": "2be18bc4-d4c2-482c-d99d-75fa813603b5"
      },
      "source": [
        "for i in range(1,5):\n",
        "    print(i)"
      ],
      "execution_count": 6,
      "outputs": [
        {
          "output_type": "stream",
          "text": [
            "1\n",
            "2\n",
            "3\n",
            "4\n"
          ],
          "name": "stdout"
        }
      ]
    },
    {
      "cell_type": "markdown",
      "metadata": {
        "id": "S7vgC1H5qKCT"
      },
      "source": [
        "Para dejar claro las partes que componen el bucle FOR, vamos a dejar claro las siguientes definiciones:\n",
        "1. **Iterable:** Los objetos que pueden ser literados. Por ejemplo: Una lista, valor tipo cadena, etc.\n",
        "2. **Iterador**: Son objetos que hacen referencia a un elemento. Para hacer referencia a cada uno de los elementos hay un metodo denominado \"next\" que permite hacer referencia a los elementos del conjunto.\n",
        "\n",
        "***Estructura:***\n",
        "\n",
        "for < variable > in < iterable >:\n",
        "   \n",
        "     < Bloque código >\n",
        "\n",
        "Algunos ejemplos de iterable en Python son listas, cadenas, diccionarios, tuplas, etc.\n",
        "\n",
        "¿Como saber que es iterable a la hora de programar?\n",
        "podemos darnos  cuneta que es iterable usando la función isinstance().\n"
      ]
    },
    {
      "cell_type": "code",
      "metadata": {
        "colab": {
          "base_uri": "https://localhost:8080/"
        },
        "id": "bSmFlSPJsCAy",
        "outputId": "8f5103ba-a54f-49ed-8430-4d1cded3968e"
      },
      "source": [
        "from collections import Iterable  #paquete iterable de colecciones  (Python 3.7)  Kernel\n",
        "lista =[1,2,3,4,5,6,7,8,9,0]\n",
        "a =\"computador\"\n",
        "b = 10\n",
        "print(isinstance(lista,Iterable))\n",
        "print(isinstance(a,Iterable))\n",
        "print(isinstance(b,Iterable))"
      ],
      "execution_count": 14,
      "outputs": [
        {
          "output_type": "stream",
          "text": [
            "True\n",
            "True\n",
            "False\n"
          ],
          "name": "stdout"
        }
      ]
    },
    {
      "cell_type": "code",
      "metadata": {
        "colab": {
          "base_uri": "https://localhost:8080/",
          "height": 197
        },
        "id": "OzTuMyHrvVYp",
        "outputId": "12bc07fa-1c43-452f-df49-52619dceb447"
      },
      "source": [
        "a = 30\n",
        "for i in a:\n",
        "  print(i)"
      ],
      "execution_count": 15,
      "outputs": [
        {
          "output_type": "error",
          "ename": "TypeError",
          "evalue": "ignored",
          "traceback": [
            "\u001b[0;31m---------------------------------------------------------------------------\u001b[0m",
            "\u001b[0;31mTypeError\u001b[0m                                 Traceback (most recent call last)",
            "\u001b[0;32m<ipython-input-15-653d8d870db9>\u001b[0m in \u001b[0;36m<module>\u001b[0;34m()\u001b[0m\n\u001b[1;32m      1\u001b[0m \u001b[0ma\u001b[0m \u001b[0;34m=\u001b[0m \u001b[0;36m30\u001b[0m\u001b[0;34m\u001b[0m\u001b[0;34m\u001b[0m\u001b[0m\n\u001b[0;32m----> 2\u001b[0;31m \u001b[0;32mfor\u001b[0m \u001b[0mi\u001b[0m \u001b[0;32min\u001b[0m \u001b[0ma\u001b[0m\u001b[0;34m:\u001b[0m\u001b[0;34m\u001b[0m\u001b[0;34m\u001b[0m\u001b[0m\n\u001b[0m\u001b[1;32m      3\u001b[0m   \u001b[0mprint\u001b[0m\u001b[0;34m(\u001b[0m\u001b[0mi\u001b[0m\u001b[0;34m)\u001b[0m\u001b[0;34m\u001b[0m\u001b[0;34m\u001b[0m\u001b[0m\n",
            "\u001b[0;31mTypeError\u001b[0m: 'int' object is not iterable"
          ]
        }
      ]
    },
    {
      "cell_type": "markdown",
      "metadata": {
        "id": "Pt-_8IF3vh7w"
      },
      "source": [
        "Para entender los iteradores es imporntante conocer la función **\"iter()\"**, esta función puede ser llamada sobre un objeto que sea iterable y nos devolverá un iterador"
      ]
    },
    {
      "cell_type": "code",
      "metadata": {
        "colab": {
          "base_uri": "https://localhost:8080/"
        },
        "id": "b1z0h70pwMPj",
        "outputId": "f4e8ff98-6a7c-4a50-a198-6b3960e50001"
      },
      "source": [
        "lista =[1,2,3,4,5,6,7,8,9,0]\n",
        "ref =iter(lista)\n",
        "print(ref)\n",
        "print(type(ref))"
      ],
      "execution_count": 18,
      "outputs": [
        {
          "output_type": "stream",
          "text": [
            "<list_iterator object at 0x7f0dd9cc6e50>\n",
            "<class 'list_iterator'>\n"
          ],
          "name": "stdout"
        }
      ]
    },
    {
      "cell_type": "markdown",
      "metadata": {
        "id": "KXnJPuTwwZE7"
      },
      "source": [
        "Al imprimir Ref es un iterador de la clase ***list_iterator***, hace referencia a la lista original y nos pormite acceder a sus elementos con la función ***next()***.\n",
        "\n",
        "Cada vez que llamemos a next() sobre Ref, nos devuelve el siguiente elemento de la lista orginal. Por ejemplo, si llamamos 7 tendremos que llamarlo 7 veces.\n"
      ]
    },
    {
      "cell_type": "code",
      "metadata": {
        "colab": {
          "base_uri": "https://localhost:8080/"
        },
        "id": "J07FGwJAwtwx",
        "outputId": "6b8c72ae-62f5-4e99-948f-e86c9c44cc98"
      },
      "source": [
        "lista =[1,2,3,4,5,6,7,8,9,0]\n",
        "ref =iter(lista)\n",
        "print(next(ref))\n",
        "print(next(ref))\n",
        "print(next(ref))\n",
        "print(next(ref))\n",
        "print(next(ref))"
      ],
      "execution_count": 20,
      "outputs": [
        {
          "output_type": "stream",
          "text": [
            "1\n",
            "2\n",
            "3\n",
            "4\n",
            "5\n"
          ],
          "name": "stdout"
        }
      ]
    },
    {
      "cell_type": "markdown",
      "metadata": {
        "id": "ipKPVzFwxHB1"
      },
      "source": [
        "***Tener encuenta***\n",
        "Existen otros iteradores para diferentes clases: \n",
        "1. str iterator-- para cadenas\n",
        "2. list_iterator -- para listas\n",
        "3. set_iterator -- para conjuntos\n",
        "4. dict_iterator -- para diccionarios"
      ]
    },
    {
      "cell_type": "markdown",
      "metadata": {
        "id": "1OiXTU8F2LWa"
      },
      "source": [
        "-\n",
        "-"
      ]
    },
    {
      "cell_type": "markdown",
      "metadata": {
        "id": "l2taAJnlx7wF"
      },
      "source": [
        "**FOR anidados**\n",
        "\n",
        "---\n",
        "es posible anidar los FOR, es decir ingresar uno dentro de otro, como lo vemos a continuación:\n"
      ]
    },
    {
      "cell_type": "code",
      "metadata": {
        "colab": {
          "base_uri": "https://localhost:8080/"
        },
        "id": "GyjKxCBlyQBM",
        "outputId": "d698eef2-276f-488f-a528-8d6ea45adf48"
      },
      "source": [
        "#vamos a crear una lista de listas, lo cual conforma una matriz\n",
        "#recordemos que una matriz se compone de valores que se distribuyen en filas y columnas\n",
        "qa= [[1,2,3],\n",
        "     [4,5,6],\n",
        "     [7,8,9]]\n",
        "\n",
        "for i in qa:\n",
        "  print(i)\n",
        "\n",
        "print(\" \")\n",
        "\n",
        "for i in qa:\n",
        "  for j in i:\n",
        "    print(j)"
      ],
      "execution_count": 23,
      "outputs": [
        {
          "output_type": "stream",
          "text": [
            "[1, 2, 3]\n",
            "[4, 5, 6]\n",
            "[7, 8, 9]\n",
            " \n",
            "1\n",
            "2\n",
            "3\n",
            "4\n",
            "5\n",
            "6\n",
            "7\n",
            "8\n",
            "9\n"
          ],
          "name": "stdout"
        }
      ]
    },
    {
      "cell_type": "markdown",
      "metadata": {
        "id": "CG7YxXkZzP31"
      },
      "source": [
        "Si queremos acceder a cada elemento individualmente, se procede a realizar un bucle de FOR anidado, es decir, un FOR se encargará de iterar las columnas, y el otro las filas."
      ]
    },
    {
      "cell_type": "code",
      "metadata": {
        "colab": {
          "base_uri": "https://localhost:8080/"
        },
        "id": "drCVLArNz6zh",
        "outputId": "0b72f1fa-fb44-40d6-93d9-a3b844c09a62"
      },
      "source": [
        "#otra forma de utilizar solo el for, es la iteración al revés, se puede iterar  la lista del último al primer elemento\n",
        "lista =[1,2,3,4,5,6,7,8,9,0]  #del último al primer elemento\n",
        "for i in lista[::-1]:  #(inicio,fin,salto)\n",
        "    print(i)"
      ],
      "execution_count": 24,
      "outputs": [
        {
          "output_type": "stream",
          "text": [
            "0\n",
            "9\n",
            "8\n",
            "7\n",
            "6\n",
            "5\n",
            "4\n",
            "3\n",
            "2\n",
            "1\n"
          ],
          "name": "stdout"
        }
      ]
    },
    {
      "cell_type": "code",
      "metadata": {
        "colab": {
          "base_uri": "https://localhost:8080/"
        },
        "id": "uAbzmFF50gw2",
        "outputId": "4f426a04-80f9-4d06-935e-0e31e3f99049"
      },
      "source": [
        "lista =[1,2,3,4,5,6,7,8,9,0]\n",
        "for i in lista[::2]: #salto de 2 en 2\n",
        "    print(i)\n",
        "\n",
        "print(\"-------\")\n",
        "\n",
        "a=\"computador\"\n",
        "for i in a[::4]: #salto de 4 en 4\n",
        "    print(i)"
      ],
      "execution_count": 28,
      "outputs": [
        {
          "output_type": "stream",
          "text": [
            "1\n",
            "3\n",
            "5\n",
            "7\n",
            "9\n",
            "-------\n",
            "c\n",
            "u\n",
            "o\n"
          ],
          "name": "stdout"
        }
      ]
    },
    {
      "cell_type": "markdown",
      "metadata": {
        "id": "2uRK4ObN11YA"
      },
      "source": [
        "*Usando rangos*"
      ]
    },
    {
      "cell_type": "code",
      "metadata": {
        "colab": {
          "base_uri": "https://localhost:8080/"
        },
        "id": "hBMyqByP1sss",
        "outputId": "d3e51b22-6332-45a3-e94d-bfe1a11aea79"
      },
      "source": [
        "for i in range(10): #genera una secuencia de números que van desde o por defecto // range(inicio,fin,salto)\n",
        "  print(i)"
      ],
      "execution_count": 29,
      "outputs": [
        {
          "output_type": "stream",
          "text": [
            "0\n",
            "1\n",
            "2\n",
            "3\n",
            "4\n",
            "5\n",
            "6\n",
            "7\n",
            "8\n",
            "9\n"
          ],
          "name": "stdout"
        }
      ]
    },
    {
      "cell_type": "code",
      "metadata": {
        "colab": {
          "base_uri": "https://localhost:8080/"
        },
        "id": "PdOSJzMF2oLg",
        "outputId": "0f24941e-2c07-4694-c76d-8a7ee2d47029"
      },
      "source": [
        "print(list(range(2,10,2))) #como convertir un rango en una lísta  // range(inicio,fin,salto)"
      ],
      "execution_count": 30,
      "outputs": [
        {
          "output_type": "stream",
          "text": [
            "[2, 4, 6, 8]\n"
          ],
          "name": "stdout"
        }
      ]
    },
    {
      "cell_type": "markdown",
      "metadata": {
        "id": "oV03S8Rk3ZSx"
      },
      "source": [
        "**Listas de comprensión**\n",
        "\n",
        "---\n",
        "estas nos permiten crear listas de elementos en una sola línea de código.\n",
        "\n",
        "Ejemplo 1: Crear una lista de las potenciasa la 3 de los números impares de 0 a 9\n"
      ]
    },
    {
      "cell_type": "code",
      "metadata": {
        "colab": {
          "base_uri": "https://localhost:8080/"
        },
        "id": "YT6bak3H39aZ",
        "outputId": "ea93a012-e38a-4418-cb13-7eef05fb37b1"
      },
      "source": [
        "tres =[i**3 for i in range(1,10,2)] #lista de compresión\n",
        "print(tres)"
      ],
      "execution_count": 36,
      "outputs": [
        {
          "output_type": "stream",
          "text": [
            "[1, 27, 125, 343, 729]\n"
          ],
          "name": "stdout"
        }
      ]
    },
    {
      "cell_type": "code",
      "metadata": {
        "colab": {
          "base_uri": "https://localhost:8080/"
        },
        "id": "WgugdZtD5Drl",
        "outputId": "a1ea9dc8-4b1d-4093-834f-fc5e58c6beba"
      },
      "source": [
        "tres =[]\n",
        "for i in range(1,10,2):\n",
        "   tres.append(i**3)  #añadidura de la operación  --append\n",
        "   print(tres) #elevado a la potencia"
      ],
      "execution_count": 40,
      "outputs": [
        {
          "output_type": "stream",
          "text": [
            "[1]\n",
            "[1, 27]\n",
            "[1, 27, 125]\n",
            "[1, 27, 125, 343]\n",
            "[1, 27, 125, 343, 729]\n"
          ],
          "name": "stdout"
        }
      ]
    },
    {
      "cell_type": "markdown",
      "metadata": {
        "id": "9dQVjMuD6D6N"
      },
      "source": [
        "Ejemplo 2:"
      ]
    },
    {
      "cell_type": "code",
      "metadata": {
        "colab": {
          "base_uri": "https://localhost:8080/"
        },
        "id": "3yq6iQx-6Mkb",
        "outputId": "448ab58d-1211-4fa1-bb83-80cc03a73d4e"
      },
      "source": [
        "s =[ 1 for i in range(10)] #devuelve o repite el elemento 10 veces\n",
        "print(s)"
      ],
      "execution_count": 42,
      "outputs": [
        {
          "output_type": "stream",
          "text": [
            "[1, 1, 1, 1, 1, 1, 1, 1, 1, 1]\n"
          ],
          "name": "stdout"
        }
      ]
    },
    {
      "cell_type": "markdown",
      "metadata": {
        "id": "8bST8z2s6Uqv"
      },
      "source": [
        "Ejemplo 3:"
      ]
    },
    {
      "cell_type": "code",
      "metadata": {
        "colab": {
          "base_uri": "https://localhost:8080/"
        },
        "id": "V0E_oVmS6TaW",
        "outputId": "11e0fb1f-0f1a-4d0d-f91b-54069ed1b882"
      },
      "source": [
        "lwa = [5,10,15,20,15,30]\n",
        "lwa2 =[i/5 for i in lwa]  #cada elemento lo dividio en 5\n",
        "print(lwa2)"
      ],
      "execution_count": 43,
      "outputs": [
        {
          "output_type": "stream",
          "text": [
            "[1.0, 2.0, 3.0, 4.0, 3.0, 6.0]\n"
          ],
          "name": "stdout"
        }
      ]
    },
    {
      "cell_type": "markdown",
      "metadata": {
        "id": "YLfleM4067Dj"
      },
      "source": [
        "Ejemplo 4:"
      ]
    },
    {
      "cell_type": "code",
      "metadata": {
        "colab": {
          "base_uri": "https://localhost:8080/"
        },
        "id": "Anpi2iSr68xt",
        "outputId": "fce29faf-ce0d-451f-9993-2f1b05eba6ab"
      },
      "source": [
        "pera = \"mama ama a ema\"\n",
        "pera2 =[i for i in pera if i=='m']  #traer tanta veces que se repite la letra m\n",
        "print(pera2)\n",
        "\n",
        "print(\" \")\n",
        "print (len(pera2))  #dice la cantidad de veces se repite la letra"
      ],
      "execution_count": 47,
      "outputs": [
        {
          "output_type": "stream",
          "text": [
            "['m', 'm', 'm', 'm']\n",
            " \n",
            "4\n"
          ],
          "name": "stdout"
        }
      ]
    }
  ]
}