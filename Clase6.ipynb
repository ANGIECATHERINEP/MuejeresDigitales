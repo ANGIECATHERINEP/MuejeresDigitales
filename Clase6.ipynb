{
  "nbformat": 4,
  "nbformat_minor": 0,
  "metadata": {
    "colab": {
      "name": "Clase6.ipynb",
      "provenance": [],
      "authorship_tag": "ABX9TyPDFMW1+rflsl9mOfurj21T",
      "include_colab_link": true
    },
    "kernelspec": {
      "name": "python3",
      "display_name": "Python 3"
    },
    "language_info": {
      "name": "python"
    }
  },
  "cells": [
    {
      "cell_type": "markdown",
      "metadata": {
        "id": "view-in-github",
        "colab_type": "text"
      },
      "source": [
        "<a href=\"https://colab.research.google.com/github/ANGIECATHERINEP/MujerDigital/blob/main/Clase6.ipynb\" target=\"_parent\"><img src=\"https://colab.research.google.com/assets/colab-badge.svg\" alt=\"Open In Colab\"/></a>"
      ]
    },
    {
      "cell_type": "markdown",
      "metadata": {
        "id": "HnvJWcCToVzk"
      },
      "source": [
        "***Continuación de los ejemplos de uso de lista de comprensión***\n",
        "\n",
        "---\n",
        "\n",
        "\n",
        "\n",
        "---\n",
        "\n",
        "\n",
        "\n"
      ]
    },
    {
      "cell_type": "markdown",
      "metadata": {
        "id": "L7D-RxZjpEB8"
      },
      "source": [
        "**Compresión de conjuntos**\n",
        "\n",
        "---\n",
        "\n",
        "\n",
        "\n",
        "Es similar a la que veniamos manejando en la lista. La unica diferencia es que se usa los **{}**.\n",
        "\n",
        "recordemos que los conjuntos tambien denominados **sets** no permiten duplicado, es decir cada elemento es único; Si se llega añadir un elemento repetitivo, no arrojará error, pero no se mostrará en el print."
      ]
    },
    {
      "cell_type": "code",
      "metadata": {
        "colab": {
          "base_uri": "https://localhost:8080/"
        },
        "id": "XD0d9qzhpqjR",
        "outputId": "0daeb761-4920-4a12-fc6b-b1ebd2e349dd"
      },
      "source": [
        "sa =\"ema ama a mama\"\n",
        "sa2 = {i for i  in sa if i==\"m\"}\n",
        "print(sa2)"
      ],
      "execution_count": null,
      "outputs": [
        {
          "output_type": "stream",
          "text": [
            "{'m'}\n"
          ],
          "name": "stdout"
        }
      ]
    },
    {
      "cell_type": "markdown",
      "metadata": {
        "id": "0Xtmldp1qbGy"
      },
      "source": [
        "Ahora, veamos a continuación el caso de diccionarios de compresión. La única diferencia que tienen respecto a las listas o conjuntos de compresión es la especificación de llaves o claves (key).\n",
        "\n"
      ]
    },
    {
      "cell_type": "code",
      "metadata": {
        "colab": {
          "base_uri": "https://localhost:8080/"
        },
        "id": "DOKeAOUKq4Vq",
        "outputId": "0d0e7bbc-449d-4f08-a620-9d3c7c62a154"
      },
      "source": [
        "lista1 = ['nombre','apellido','ciudad']\n",
        "lista2 =['Ana','Rodriguez', 'Popayan']\n",
        "\n",
        "dic ={i:j for i,j in zip(lista1,lista2)}\n",
        "print(dic)"
      ],
      "execution_count": null,
      "outputs": [
        {
          "output_type": "stream",
          "text": [
            "{'nombre': 'Ana', 'apellido': 'Rodriguez', 'ciudad': 'Popayan'}\n"
          ],
          "name": "stdout"
        }
      ]
    },
    {
      "cell_type": "markdown",
      "metadata": {
        "id": "H6GAqOG8r1pF"
      },
      "source": [
        "pudimos observar que añadiendo **(:)** asignamos un valor a la la llave declarada.\n",
        "\n",
        "***zip*** me permite agrupar dos listas en paralelo, es decir con zip podemos convertir dos listas en diccionario\n",
        "\n",
        "y el FOR se manejaria iterando valores dos en simultaneo."
      ]
    },
    {
      "cell_type": "markdown",
      "metadata": {
        "id": "LYfqtUSJst-p"
      },
      "source": [
        "-"
      ]
    },
    {
      "cell_type": "markdown",
      "metadata": {
        "id": "5Otdo7tYsb6m"
      },
      "source": [
        "# **OTRAS ESTRUCTURAS DE CONTROL**\n",
        "\n",
        "---\n",
        "1. Switch\n",
        "2. Brak\n",
        "3. Continue\n",
        "4. Complemento de iteración (Enumerate)\n"
      ]
    },
    {
      "cell_type": "markdown",
      "metadata": {
        "id": "woAQd_HJsw5p"
      },
      "source": [
        "**Switch**\n",
        "\n",
        "---\n",
        "\n",
        "\n",
        "\n",
        "Es una herarmienta que permite ejecutar diferentes secciones de código dependiendo de las condiciones impuestas. Su función es muy similar a usar el if anidados o varios por separados al mismo tiempo.\n",
        "\n",
        "sin embargo en Python no hay un switch directo."
      ]
    },
    {
      "cell_type": "markdown",
      "metadata": {
        "id": "FHU2hkx-tntz"
      },
      "source": [
        "**Break**\n",
        "\n",
        "---\n",
        "\n",
        "\n",
        "\n",
        "Nos permite alterar el comportamiento de ciclos de while y for. Directamente su función es de finalizar los ciclos."
      ]
    },
    {
      "cell_type": "code",
      "metadata": {
        "colab": {
          "base_uri": "https://localhost:8080/"
        },
        "id": "h4vEIaElt1xu",
        "outputId": "55a79221-4f81-4b29-f8e4-c8f9bc535196"
      },
      "source": [
        "x = \"Andrea\"\n",
        "for i in x:\n",
        "   if i==\"e\": \n",
        "      print(\"se obtuvo la letra e\")\n",
        "      break  #para que pare la iteración en e\n",
        "   print(i)   "
      ],
      "execution_count": null,
      "outputs": [
        {
          "output_type": "stream",
          "text": [
            "A\n",
            "n\n",
            "d\n",
            "r\n",
            "se obtuvo la letra e\n"
          ],
          "name": "stdout"
        }
      ]
    },
    {
      "cell_type": "code",
      "metadata": {
        "colab": {
          "base_uri": "https://localhost:8080/"
        },
        "id": "R3DEYyj1u99L",
        "outputId": "0c148202-de3c-42e0-b3fe-f864214db186"
      },
      "source": [
        "x = 15\n",
        "while True:\n",
        "   x-=1 #llamar los elementos de forma inversa\n",
        "   print(x)\n",
        "   if x==0: #que empiece desde 0\n",
        "      break\n",
        "print(\"se finaliza el ciclo\")"
      ],
      "execution_count": null,
      "outputs": [
        {
          "output_type": "stream",
          "text": [
            "14\n",
            "13\n",
            "12\n",
            "11\n",
            "10\n",
            "9\n",
            "8\n",
            "7\n",
            "6\n",
            "5\n",
            "4\n",
            "3\n",
            "2\n",
            "1\n",
            "0\n",
            "se finaliza el ciclo\n"
          ],
          "name": "stdout"
        }
      ]
    },
    {
      "cell_type": "markdown",
      "metadata": {
        "id": "xLlxnWC6woL8"
      },
      "source": [
        "*Uso de ciclos anidados*\n"
      ]
    },
    {
      "cell_type": "code",
      "metadata": {
        "colab": {
          "base_uri": "https://localhost:8080/"
        },
        "id": "Vji1yPlbwmm3",
        "outputId": "1ad668b8-dd35-40b7-af39-64587486b7d7"
      },
      "source": [
        "for i in range(1,8):\n",
        "   for j in range(1,8):\n",
        "     break\n",
        "   print(i,j)\n",
        "\n",
        "#el break rompe el ciclo anidado en su conjunto, pero no afecta directamente el ciclo exterior."
      ],
      "execution_count": null,
      "outputs": [
        {
          "output_type": "stream",
          "text": [
            "1 1\n",
            "2 1\n",
            "3 1\n",
            "4 1\n",
            "5 1\n",
            "6 1\n",
            "7 1\n"
          ],
          "name": "stdout"
        }
      ]
    },
    {
      "cell_type": "markdown",
      "metadata": {
        "id": "xKChnxcrxvon"
      },
      "source": [
        "**Continue**\n",
        "\n",
        "---\n",
        "\n",
        "\n",
        "\n",
        "Se salta todo el código restante en la iteración actual y vuelve al principio en caso que quede elementos por iterar.\n",
        "\n",
        "*diferencias entre break y continue*:\n",
        "\n",
        "La diferencia es que no rompe el ciclo, sino que pasa a la iteración pendiente.\n",
        "\n"
      ]
    },
    {
      "cell_type": "code",
      "metadata": {
        "colab": {
          "base_uri": "https://localhost:8080/"
        },
        "id": "-7o0rOuwyasa",
        "outputId": "18ecd9dd-7cbb-4158-c529-3806471f80e2"
      },
      "source": [
        "x =\"Andrea\"\n",
        "for i in x:\n",
        "  if i==\"r\":  #salta la r\n",
        "    continue   #y sigue iterando\n",
        "  print(i)"
      ],
      "execution_count": null,
      "outputs": [
        {
          "output_type": "stream",
          "text": [
            "A\n",
            "n\n",
            "d\n",
            "e\n",
            "a\n"
          ],
          "name": "stdout"
        }
      ]
    },
    {
      "cell_type": "code",
      "metadata": {
        "colab": {
          "base_uri": "https://localhost:8080/"
        },
        "id": "sZd4GKAOyu_v",
        "outputId": "bb989a16-03c9-46a7-b61d-efa18b780cb4"
      },
      "source": [
        "x = 15\n",
        "while  x>0:\n",
        "  x -=1\n",
        "  if x==4:  #salta el 4\n",
        "    continue #sigue iterando hasta 0\n",
        "  print(x)  "
      ],
      "execution_count": null,
      "outputs": [
        {
          "output_type": "stream",
          "text": [
            "14\n",
            "13\n",
            "12\n",
            "11\n",
            "10\n",
            "9\n",
            "8\n",
            "7\n",
            "6\n",
            "5\n",
            "3\n",
            "2\n",
            "1\n",
            "0\n"
          ],
          "name": "stdout"
        }
      ]
    },
    {
      "cell_type": "markdown",
      "metadata": {
        "id": "8PHhFtJDzZPC"
      },
      "source": [
        "**Complemento de iteración (Enumerate)**\n",
        "\n",
        "---\n",
        "\n",
        "\n",
        "\n",
        "python nos permite iterar colecciones de objetos y elementos de la misma forma sin embargo hay una opción, que es que en algunas situaciones que queramoas acceder a un elemento ordenado podemos hacerlo nombrando el indice de cada elemento llamado."
      ]
    },
    {
      "cell_type": "code",
      "metadata": {
        "colab": {
          "base_uri": "https://localhost:8080/"
        },
        "id": "tJBwx0fX0AyX",
        "outputId": "52036d28-66ca-4e80-ab97-d1118f8a6389"
      },
      "source": [
        "w =[\"sa\",\"se\",\"si\",\"so\",\"su\"]\n",
        "indice =1\n",
        "for i in w:\n",
        "  print(indice,i)\n",
        "  indice +=1 #de forma ordenada "
      ],
      "execution_count": null,
      "outputs": [
        {
          "output_type": "stream",
          "text": [
            "1 sa\n",
            "2 se\n",
            "3 si\n",
            "4 so\n",
            "5 su\n"
          ],
          "name": "stdout"
        }
      ]
    },
    {
      "cell_type": "code",
      "metadata": {
        "colab": {
          "base_uri": "https://localhost:8080/"
        },
        "id": "lT6bRdkG0bcM",
        "outputId": "d9835130-5bd0-47bc-a93f-ba8b0ca1ace1"
      },
      "source": [
        "w =[\"sa\",\"se\",\"si\",\"so\",\"su\"]\n",
        "for indice, i in enumerate(w): #se ahorra código, se nombra directo /se empieza desde 0\n",
        "  print(indice,i)\n",
        "\n",
        "print(\" \")\n",
        "x=list(enumerate(w))\n",
        "print(x)\n"
      ],
      "execution_count": null,
      "outputs": [
        {
          "output_type": "stream",
          "text": [
            "0 sa\n",
            "1 se\n",
            "2 si\n",
            "3 so\n",
            "4 su\n",
            " \n",
            "[(0, 'sa'), (1, 'se'), (2, 'si'), (3, 'so'), (4, 'su')]\n"
          ],
          "name": "stdout"
        }
      ]
    },
    {
      "cell_type": "markdown",
      "metadata": {
        "id": "R2j2xP8Z1sgb"
      },
      "source": [
        "**uso zip()**\n",
        "\n",
        "---\n",
        "Si pasamos dos listas a zip el resulatdo será una tupla sonde cada elementos tendra todos y cada uno de los elementos de las entradas.\n",
        "\n",
        "Se utiliza el comando **list** para que se visualice como una lista\n"
      ]
    },
    {
      "cell_type": "code",
      "metadata": {
        "colab": {
          "base_uri": "https://localhost:8080/"
        },
        "id": "kRWCiBGm2GlD",
        "outputId": "f05b06ab-1a68-4fa0-ce07-8fdca5ca94cc"
      },
      "source": [
        "a =[1,2,3]\n",
        "b =[\"a\",\"b\",\"c\"]\n",
        "c= zip(a,b)\n",
        "print(list(c))  #se vea como lista\n",
        "\n",
        "print(\" \")\n",
        "for i, j in zip(a,b):\n",
        "   print(\"número\",i,\"letras\",j)  #aparecen los valores en columnas"
      ],
      "execution_count": null,
      "outputs": [
        {
          "output_type": "stream",
          "text": [
            "[(1, 'a'), (2, 'b'), (3, 'c')]\n",
            " \n",
            "número 1 letras a\n",
            "número 2 letras b\n",
            "número 3 letras c\n"
          ],
          "name": "stdout"
        }
      ]
    },
    {
      "cell_type": "code",
      "metadata": {
        "colab": {
          "base_uri": "https://localhost:8080/"
        },
        "id": "AWVlAoO33NKS",
        "outputId": "328ef4eb-3b38-4814-a91b-5cd9406f1d95"
      },
      "source": [
        "#n listas\n",
        "\n",
        "a =[1,2,3]\n",
        "b =[\"a\",\"b\",\"c\"]\n",
        "x =(\"q\",\"w\",\"e\")\n",
        "z = (10,20,30)\n",
        "c= zip(a,b,x,z)\n",
        "print(list(c))  \n",
        "\n",
        "print(\" \")\n",
        "for i, j, k, l in zip(a,b,x,z):\n",
        "   print(i,j,k,l)"
      ],
      "execution_count": null,
      "outputs": [
        {
          "output_type": "stream",
          "text": [
            "[(1, 'a', 'q', 10), (2, 'b', 'w', 20), (3, 'c', 'e', 30)]\n",
            " \n",
            "1 a q 10\n",
            "2 b w 20\n",
            "3 c e 30\n"
          ],
          "name": "stdout"
        }
      ]
    },
    {
      "cell_type": "code",
      "metadata": {
        "colab": {
          "base_uri": "https://localhost:8080/"
        },
        "id": "pYFLZH8m4P1a",
        "outputId": "f0a03597-50ce-40d2-c17c-46dee86d0db2"
      },
      "source": [
        "a =[1,2,6]\n",
        "b=[\"a\",\"b\"]\n",
        "\n",
        "for sa, se in zip(a,b):  #no itera el 6 porque es una matriz y no se itera nada impar\n",
        "  print(sa,se)"
      ],
      "execution_count": null,
      "outputs": [
        {
          "output_type": "stream",
          "text": [
            "1 a\n",
            "2 b\n"
          ],
          "name": "stdout"
        }
      ]
    },
    {
      "cell_type": "code",
      "metadata": {
        "colab": {
          "base_uri": "https://localhost:8080/"
        },
        "id": "a5xLmXCL41rk",
        "outputId": "4ee9de30-0780-488e-daba-07421a54eef9"
      },
      "source": [
        "#Para separar la informacion \n",
        "\n",
        "c =[(1,\"a\"),(2,\"b\"),(3,\"c\")]\n",
        "a,b= zip(*c) #separar\n",
        "print(a)\n",
        "print(b)\n"
      ],
      "execution_count": null,
      "outputs": [
        {
          "output_type": "stream",
          "text": [
            "(1, 2, 3)\n",
            "('a', 'b', 'c')\n"
          ],
          "name": "stdout"
        }
      ]
    },
    {
      "cell_type": "markdown",
      "metadata": {
        "id": "7V6oJSh75-TX"
      },
      "source": [
        "-"
      ]
    },
    {
      "cell_type": "markdown",
      "metadata": {
        "id": "6o7umGG_5_Jy"
      },
      "source": [
        "# **FUNCIONES**\n",
        "\n",
        "---\n",
        "La función nos permite ordenar de manera adecuada la generación deobjetos y bloques de código por ciclos y demas extructura.\n",
        "\n",
        "La sintaxis es la siguiente:\n",
        "\n",
        "\n",
        "def nombre_función(argumentos):\n",
        "\n",
        "  código\n",
        "\n",
        "nombre_función(argumentos2)"
      ]
    },
    {
      "cell_type": "code",
      "metadata": {
        "colab": {
          "base_uri": "https://localhost:8080/"
        },
        "id": "ng4IE5gF6q8e",
        "outputId": "c32c7c3d-eb9c-48b6-8421-6ff241fca7fa"
      },
      "source": [
        "def f(a):\n",
        "  return 2*a\n",
        "y=f(3) #valor que le doy a \"a\"\n",
        "print(y)"
      ],
      "execution_count": null,
      "outputs": [
        {
          "output_type": "stream",
          "text": [
            "6\n"
          ],
          "name": "stdout"
        }
      ]
    },
    {
      "cell_type": "markdown",
      "metadata": {
        "id": "T4Xep5Bt7h0a"
      },
      "source": [
        "Las funciones no sólo realizan una operación con sus entradas, sino tambien parten de los siguientes principios:\n",
        "\n",
        "**1. reusabilidad**:\n",
        "\n",
        "Si tenemos un fragmento de código usado en muchos sitios y se guarda en una función, nos evitará tener códigos repetidos, además de la conveniencia que tiene por ser facilmente editable.\n",
        "\n",
        "**2. Modularidad**:\n",
        "\n",
        "Permite legibilidad de forma más sencilla, es decir, los largos bloques de código se pueden agrupar en módulos o funciones y la lectura va hacer mucho más sencilla.\n",
        "\n",
        "*Ejemplo 1:* sin parametros de entrada ni salida"
      ]
    },
    {
      "cell_type": "code",
      "metadata": {
        "colab": {
          "base_uri": "https://localhost:8080/"
        },
        "id": "fdGN8LIg8fXd",
        "outputId": "809e531f-3d30-40ed-b36f-ab2c1fadea1b"
      },
      "source": [
        "def s():\n",
        "  print(\"Hi luisa\")\n",
        "s() #Al cerrar la declaracion de función aparecerá la ejecución del código"
      ],
      "execution_count": null,
      "outputs": [
        {
          "output_type": "stream",
          "text": [
            "Hi luisa\n"
          ],
          "name": "stdout"
        }
      ]
    },
    {
      "cell_type": "markdown",
      "metadata": {
        "id": "f8f6ExIa9LGo"
      },
      "source": [
        "*Ejemplo 2: Incluir argumentos de entrada*"
      ]
    },
    {
      "cell_type": "code",
      "metadata": {
        "colab": {
          "base_uri": "https://localhost:8080/"
        },
        "id": "SS_vUyhC9KgR",
        "outputId": "17867bd6-c323-4c8e-80df-3a2fb1ea1af8"
      },
      "source": [
        "def s(apellido):   #argumento de entrada\n",
        "  print(\"Hi luisa\",apellido)\n",
        "s(\"varon\") #añade argumento de salida o variable"
      ],
      "execution_count": null,
      "outputs": [
        {
          "output_type": "stream",
          "text": [
            "Hi luisa varon\n"
          ],
          "name": "stdout"
        }
      ]
    },
    {
      "cell_type": "markdown",
      "metadata": {
        "id": "BFGvudQm9zqd"
      },
      "source": [
        "*Ejemplo 3: usando dos argumentos de entrada y salida y operación matematica*"
      ]
    },
    {
      "cell_type": "code",
      "metadata": {
        "colab": {
          "base_uri": "https://localhost:8080/"
        },
        "id": "0GA5O2cQ98dD",
        "outputId": "71545895-33bb-4bcd-f959-f3f221448f2a"
      },
      "source": [
        "def dog(a,b):\n",
        "  return a+b\n",
        "dog(3,5) #variable a y b"
      ],
      "execution_count": null,
      "outputs": [
        {
          "output_type": "execute_result",
          "data": {
            "text/plain": [
              "8"
            ]
          },
          "metadata": {
            "tags": []
          },
          "execution_count": 48
        }
      ]
    },
    {
      "cell_type": "markdown",
      "metadata": {
        "id": "I0FezMUJ-xZl"
      },
      "source": [
        "*Ejemplo 4: reusabilidad de código*"
      ]
    },
    {
      "cell_type": "code",
      "metadata": {
        "colab": {
          "base_uri": "https://localhost:8080/"
        },
        "id": "ziPRm9AF-sRO",
        "outputId": "9b727974-c9ed-409b-e98b-b5fa4923ecf0"
      },
      "source": [
        "dog(a=4, b=20)"
      ],
      "execution_count": null,
      "outputs": [
        {
          "output_type": "execute_result",
          "data": {
            "text/plain": [
              "24"
            ]
          },
          "metadata": {
            "tags": []
          },
          "execution_count": 49
        }
      ]
    },
    {
      "cell_type": "markdown",
      "metadata": {
        "id": "V1YrOVXe_Vwt"
      },
      "source": [
        "*Ejemplo 5: argumentos fijos desde el inicio*"
      ]
    },
    {
      "cell_type": "code",
      "metadata": {
        "colab": {
          "base_uri": "https://localhost:8080/"
        },
        "id": "IaPx9vsW_b7Y",
        "outputId": "458d5dfd-d653-4980-a98c-1da76481cf21"
      },
      "source": [
        "def suma(a,b,c,d=3): #cuando se coloco al final la variable fija\n",
        "  return a+b+c+d\n",
        "suma(2,3,4)"
      ],
      "execution_count": null,
      "outputs": [
        {
          "output_type": "execute_result",
          "data": {
            "text/plain": [
              "12"
            ]
          },
          "metadata": {
            "tags": []
          },
          "execution_count": 56
        }
      ]
    },
    {
      "cell_type": "code",
      "metadata": {
        "colab": {
          "base_uri": "https://localhost:8080/"
        },
        "id": "96BVNa_SA1jJ",
        "outputId": "1c6062ee-0a86-4245-b3f9-6b176894be9c"
      },
      "source": [
        "suma(2,3,3,4)"
      ],
      "execution_count": null,
      "outputs": [
        {
          "output_type": "execute_result",
          "data": {
            "text/plain": [
              "12"
            ]
          },
          "metadata": {
            "tags": []
          },
          "execution_count": 57
        }
      ]
    },
    {
      "cell_type": "code",
      "metadata": {
        "colab": {
          "base_uri": "https://localhost:8080/"
        },
        "id": "2pAUX-lJA5SF",
        "outputId": "1f5d6711-b7f9-45cc-8e1b-c92c4df996c7"
      },
      "source": [
        "def suma(a=2, b=3, c=4, d=5):\n",
        "   return a+b+c+d\n",
        "suma()\n",
        "\n",
        "suma(a=1,b=5)  #para cambiar el valor de las variables"
      ],
      "execution_count": null,
      "outputs": [
        {
          "output_type": "execute_result",
          "data": {
            "text/plain": [
              "15"
            ]
          },
          "metadata": {
            "tags": []
          },
          "execution_count": 61
        }
      ]
    },
    {
      "cell_type": "markdown",
      "metadata": {
        "id": "R9v416MGBlVE"
      },
      "source": [
        "*Ejemplo 6: Argumentos de longitud variable reusando la función suma*\n",
        "\n",
        "+=--de forma ordenada"
      ]
    },
    {
      "cell_type": "code",
      "metadata": {
        "colab": {
          "base_uri": "https://localhost:8080/"
        },
        "id": "yePvno9EBsQ1",
        "outputId": "fb37b1a0-0e69-4308-de54-9c873a487411"
      },
      "source": [
        "def suma(number):\n",
        "  total=0\n",
        "  for i in number:\n",
        "    total +=i\n",
        "  return total\n",
        "suma([1,3,5,4])  #definiendo variables"
      ],
      "execution_count": null,
      "outputs": [
        {
          "output_type": "execute_result",
          "data": {
            "text/plain": [
              "13"
            ]
          },
          "metadata": {
            "tags": []
          },
          "execution_count": 67
        }
      ]
    },
    {
      "cell_type": "markdown",
      "metadata": {
        "id": "0shISMkLC6wZ"
      },
      "source": [
        "Se realizó la suma de todos los números de entrada. Para ello la declaración de los argumentos de salida sería como una lista.\n",
        "\n",
        "La forma de sintaxis anterior es valida, sin embargo tenemos un solo argumento que es una lista de números. \n",
        "\n",
        "Si declaramos un argumento con (*) esto hará que el argumento sea guardado como tupla de manera automática."
      ]
    },
    {
      "cell_type": "code",
      "metadata": {
        "colab": {
          "base_uri": "https://localhost:8080/"
        },
        "id": "wGUGu6tCDRa4",
        "outputId": "e092810c-e284-40e6-cffe-a91506f9f15e"
      },
      "source": [
        "def suma(*number):  #para no colocar al cerrar la función suma []\n",
        "  print(type(number)) \n",
        "  total  =0\n",
        "  for i in number:\n",
        "     total +=i\n",
        "  return total\n",
        "suma(2,3,5,4)"
      ],
      "execution_count": null,
      "outputs": [
        {
          "output_type": "stream",
          "text": [
            "<class 'tuple'>\n"
          ],
          "name": "stdout"
        },
        {
          "output_type": "execute_result",
          "data": {
            "text/plain": [
              "14"
            ]
          },
          "metadata": {
            "tags": []
          },
          "execution_count": 72
        }
      ]
    }
  ]
}