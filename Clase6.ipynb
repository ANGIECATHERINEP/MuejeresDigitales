{
  "nbformat": 4,
  "nbformat_minor": 0,
  "metadata": {
    "colab": {
      "name": "Clase6.ipynb",
      "provenance": [],
      "authorship_tag": "ABX9TyMKJoRaVm8VAEMbJbAsIRyM",
      "include_colab_link": true
    },
    "kernelspec": {
      "name": "python3",
      "display_name": "Python 3"
    },
    "language_info": {
      "name": "python"
    }
  },
  "cells": [
    {
      "cell_type": "markdown",
      "metadata": {
        "id": "view-in-github",
        "colab_type": "text"
      },
      "source": [
        "<a href=\"https://colab.research.google.com/github/ANGIECATHERINEP/MujerDigital/blob/main/Clase6.ipynb\" target=\"_parent\"><img src=\"https://colab.research.google.com/assets/colab-badge.svg\" alt=\"Open In Colab\"/></a>"
      ]
    },
    {
      "cell_type": "markdown",
      "metadata": {
        "id": "HnvJWcCToVzk"
      },
      "source": [
        "***Continuación de los ejemplos de uso de lista de comprensión***\n",
        "\n",
        "---\n",
        "\n",
        "\n",
        "\n",
        "---\n",
        "\n",
        "\n",
        "\n"
      ]
    },
    {
      "cell_type": "markdown",
      "metadata": {
        "id": "L7D-RxZjpEB8"
      },
      "source": [
        "**Compresión de conjuntos**\n",
        "\n",
        "---\n",
        "\n",
        "\n",
        "\n",
        "Es similar a la que veniamos manejando en la lista. La unica diferencia es que se usa los **{}**.\n",
        "\n",
        "recordemos que los conjuntos tambien denominados **sets** no permiten duplicado, es decir cada elemento es único; Si se llega añadir un elemento repetitivo, no arrojará error, pero no se mostrará en el print."
      ]
    },
    {
      "cell_type": "code",
      "metadata": {
        "colab": {
          "base_uri": "https://localhost:8080/"
        },
        "id": "XD0d9qzhpqjR",
        "outputId": "0daeb761-4920-4a12-fc6b-b1ebd2e349dd"
      },
      "source": [
        "sa =\"ema ama a mama\"\n",
        "sa2 = {i for i  in sa if i==\"m\"}\n",
        "print(sa2)"
      ],
      "execution_count": 1,
      "outputs": [
        {
          "output_type": "stream",
          "text": [
            "{'m'}\n"
          ],
          "name": "stdout"
        }
      ]
    },
    {
      "cell_type": "markdown",
      "metadata": {
        "id": "0Xtmldp1qbGy"
      },
      "source": [
        "Ahora, veamos a continuación el caso de diccionarios de compresión. La única diferencia que tienen respecto a las listas o conjuntos de compresión es la especificación de llaves o claves (key).\n",
        "\n"
      ]
    },
    {
      "cell_type": "code",
      "metadata": {
        "colab": {
          "base_uri": "https://localhost:8080/"
        },
        "id": "DOKeAOUKq4Vq",
        "outputId": "0d0e7bbc-449d-4f08-a620-9d3c7c62a154"
      },
      "source": [
        "lista1 = ['nombre','apellido','ciudad']\n",
        "lista2 =['Ana','Rodriguez', 'Popayan']\n",
        "\n",
        "dic ={i:j for i,j in zip(lista1,lista2)}\n",
        "print(dic)"
      ],
      "execution_count": 3,
      "outputs": [
        {
          "output_type": "stream",
          "text": [
            "{'nombre': 'Ana', 'apellido': 'Rodriguez', 'ciudad': 'Popayan'}\n"
          ],
          "name": "stdout"
        }
      ]
    },
    {
      "cell_type": "markdown",
      "metadata": {
        "id": "H6GAqOG8r1pF"
      },
      "source": [
        "pudimos observar que añadiendo **(:)** asignamos un valor a la la llave declarada.\n",
        "\n",
        "***zip*** me permite agrupar dos listas en paralelo, es decir con zip podemos convertir dos listas en diccionario\n",
        "\n",
        "y el FOR se manejaria iterando valores dos en simultaneo."
      ]
    },
    {
      "cell_type": "markdown",
      "metadata": {
        "id": "LYfqtUSJst-p"
      },
      "source": [
        "-"
      ]
    },
    {
      "cell_type": "markdown",
      "metadata": {
        "id": "5Otdo7tYsb6m"
      },
      "source": [
        "# **OTRAS ESTRUCTURAS DE CONTROL**\n",
        "\n",
        "---\n",
        "1. Switch\n",
        "2. Brak\n",
        "3. Continue\n",
        "4. Complemento de iteración (Enumerate)\n"
      ]
    },
    {
      "cell_type": "markdown",
      "metadata": {
        "id": "woAQd_HJsw5p"
      },
      "source": [
        "**Switch**\n",
        "\n",
        "---\n",
        "\n",
        "\n",
        "\n",
        "Es una herarmienta que permite ejecutar diferentes secciones de código dependiendo de las condiciones impuestas. Su función es muy similar a usar el if anidados o varios por separados al mismo tiempo.\n",
        "\n",
        "sin embargo en Python no hay un switch directo."
      ]
    },
    {
      "cell_type": "markdown",
      "metadata": {
        "id": "FHU2hkx-tntz"
      },
      "source": [
        "**Break**\n",
        "\n",
        "---\n",
        "\n",
        "\n",
        "\n",
        "Nos permite alterar el comportamiento de ciclos de while y for. Directamente su función es de finalizar los ciclos."
      ]
    },
    {
      "cell_type": "code",
      "metadata": {
        "colab": {
          "base_uri": "https://localhost:8080/"
        },
        "id": "h4vEIaElt1xu",
        "outputId": "55a79221-4f81-4b29-f8e4-c8f9bc535196"
      },
      "source": [
        "x = \"Andrea\"\n",
        "for i in x:\n",
        "   if i==\"e\": \n",
        "      print(\"se obtuvo la letra e\")\n",
        "      break  #para que pare la iteración en e\n",
        "   print(i)   "
      ],
      "execution_count": 10,
      "outputs": [
        {
          "output_type": "stream",
          "text": [
            "A\n",
            "n\n",
            "d\n",
            "r\n",
            "se obtuvo la letra e\n"
          ],
          "name": "stdout"
        }
      ]
    },
    {
      "cell_type": "code",
      "metadata": {
        "colab": {
          "base_uri": "https://localhost:8080/"
        },
        "id": "R3DEYyj1u99L",
        "outputId": "0c148202-de3c-42e0-b3fe-f864214db186"
      },
      "source": [
        "x = 15\n",
        "while True:\n",
        "   x-=1 #llamar los elementos de forma inversa\n",
        "   print(x)\n",
        "   if x==0: #que empiece desde 0\n",
        "      break\n",
        "print(\"se finaliza el ciclo\")"
      ],
      "execution_count": 14,
      "outputs": [
        {
          "output_type": "stream",
          "text": [
            "14\n",
            "13\n",
            "12\n",
            "11\n",
            "10\n",
            "9\n",
            "8\n",
            "7\n",
            "6\n",
            "5\n",
            "4\n",
            "3\n",
            "2\n",
            "1\n",
            "0\n",
            "se finaliza el ciclo\n"
          ],
          "name": "stdout"
        }
      ]
    },
    {
      "cell_type": "markdown",
      "metadata": {
        "id": "xLlxnWC6woL8"
      },
      "source": [
        "*Uso de ciclos anidados*\n"
      ]
    },
    {
      "cell_type": "code",
      "metadata": {
        "colab": {
          "base_uri": "https://localhost:8080/"
        },
        "id": "Vji1yPlbwmm3",
        "outputId": "1ad668b8-dd35-40b7-af39-64587486b7d7"
      },
      "source": [
        "for i in range(1,8):\n",
        "   for j in range(1,8):\n",
        "     break\n",
        "   print(i,j)\n",
        "\n",
        "#el break rompe el ciclo anidado en su conjunto, pero no afecta directamente el ciclo exterior."
      ],
      "execution_count": 22,
      "outputs": [
        {
          "output_type": "stream",
          "text": [
            "1 1\n",
            "2 1\n",
            "3 1\n",
            "4 1\n",
            "5 1\n",
            "6 1\n",
            "7 1\n"
          ],
          "name": "stdout"
        }
      ]
    },
    {
      "cell_type": "markdown",
      "metadata": {
        "id": "xKChnxcrxvon"
      },
      "source": [
        "**Continue**\n",
        "\n",
        "---\n",
        "\n",
        "\n",
        "\n",
        "Se salta todo el código restante en la iteración actual y vuelve al principio en caso que quede elementos por iterar.\n",
        "\n",
        "*diferencias entre break y continue*:\n",
        "\n",
        "La diferencia es que no rompe el ciclo, sino que pasa a la iteración pendiente.\n",
        "\n"
      ]
    },
    {
      "cell_type": "code",
      "metadata": {
        "colab": {
          "base_uri": "https://localhost:8080/"
        },
        "id": "-7o0rOuwyasa",
        "outputId": "18ecd9dd-7cbb-4158-c529-3806471f80e2"
      },
      "source": [
        "x =\"Andrea\"\n",
        "for i in x:\n",
        "  if i==\"r\":  #salta la r\n",
        "    continue   #y sigue ietarando\n",
        "  print(i)"
      ],
      "execution_count": 23,
      "outputs": [
        {
          "output_type": "stream",
          "text": [
            "A\n",
            "n\n",
            "d\n",
            "e\n",
            "a\n"
          ],
          "name": "stdout"
        }
      ]
    },
    {
      "cell_type": "code",
      "metadata": {
        "colab": {
          "base_uri": "https://localhost:8080/"
        },
        "id": "sZd4GKAOyu_v",
        "outputId": "bb989a16-03c9-46a7-b61d-efa18b780cb4"
      },
      "source": [
        "x = 15\n",
        "while  x>0:\n",
        "  x -=1\n",
        "  if x==4:  #salta el 4\n",
        "    continue #sigue iterando hasta 0\n",
        "  print(x)  "
      ],
      "execution_count": 26,
      "outputs": [
        {
          "output_type": "stream",
          "text": [
            "14\n",
            "13\n",
            "12\n",
            "11\n",
            "10\n",
            "9\n",
            "8\n",
            "7\n",
            "6\n",
            "5\n",
            "3\n",
            "2\n",
            "1\n",
            "0\n"
          ],
          "name": "stdout"
        }
      ]
    },
    {
      "cell_type": "markdown",
      "metadata": {
        "id": "8PHhFtJDzZPC"
      },
      "source": [
        "**Complemento de iteración (Enumerate)**\n",
        "\n",
        "---\n",
        "\n",
        "\n",
        "\n",
        "python nos permite iterar colecciones de objetos y elementos de la misma forma sin embargo hay una opción, que es que en algunas situaciones que queramoas acceder a un elemento ordenado podemos hacerlo nombrando el indice de cada elemento llamado."
      ]
    },
    {
      "cell_type": "code",
      "metadata": {
        "colab": {
          "base_uri": "https://localhost:8080/"
        },
        "id": "tJBwx0fX0AyX",
        "outputId": "52036d28-66ca-4e80-ab97-d1118f8a6389"
      },
      "source": [
        "w =[\"sa\",\"se\",\"si\",\"so\",\"su\"]\n",
        "indice =1\n",
        "for i in w:\n",
        "  print(indice,i)\n",
        "  indice +=1 #de forma ordenada "
      ],
      "execution_count": 28,
      "outputs": [
        {
          "output_type": "stream",
          "text": [
            "1 sa\n",
            "2 se\n",
            "3 si\n",
            "4 so\n",
            "5 su\n"
          ],
          "name": "stdout"
        }
      ]
    },
    {
      "cell_type": "code",
      "metadata": {
        "colab": {
          "base_uri": "https://localhost:8080/"
        },
        "id": "lT6bRdkG0bcM",
        "outputId": "f59fc750-6f00-413a-cf0a-eca328a1db75"
      },
      "source": [
        "w =[\"sa\",\"se\",\"si\",\"so\",\"su\"]\n",
        "for indice, i in enumerate(w): #se ahorra código, se nombra directo// se empieza desde 0\n",
        "  print(indice,i)\n"
      ],
      "execution_count": 29,
      "outputs": [
        {
          "output_type": "stream",
          "text": [
            "0 sa\n",
            "1 se\n",
            "2 si\n",
            "3 so\n",
            "4 su\n"
          ],
          "name": "stdout"
        }
      ]
    }
  ]
}