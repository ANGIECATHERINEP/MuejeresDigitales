{
  "nbformat": 4,
  "nbformat_minor": 0,
  "metadata": {
    "colab": {
      "name": "Clase6.ipynb",
      "provenance": [],
      "authorship_tag": "ABX9TyM3y7Z/oCL8aCu6WF39rrf2",
      "include_colab_link": true
    },
    "kernelspec": {
      "name": "python3",
      "display_name": "Python 3"
    },
    "language_info": {
      "name": "python"
    }
  },
  "cells": [
    {
      "cell_type": "markdown",
      "metadata": {
        "id": "view-in-github",
        "colab_type": "text"
      },
      "source": [
        "<a href=\"https://colab.research.google.com/github/ANGIECATHERINEP/MujerDigital/blob/main/Clase6.ipynb\" target=\"_parent\"><img src=\"https://colab.research.google.com/assets/colab-badge.svg\" alt=\"Open In Colab\"/></a>"
      ]
    },
    {
      "cell_type": "markdown",
      "metadata": {
        "id": "HnvJWcCToVzk"
      },
      "source": [
        "***Continuación de los ejemplos de uso de lista de comprensión***\n",
        "\n",
        "---\n",
        "\n",
        "\n",
        "\n",
        "---\n",
        "\n",
        "\n",
        "\n"
      ]
    },
    {
      "cell_type": "markdown",
      "metadata": {
        "id": "L7D-RxZjpEB8"
      },
      "source": [
        "**Compresión de conjuntos**\n",
        "\n",
        "Es similar a la que veniamos manejando en la lista. La unica diferencia es que se usa los **{}**.\n",
        "\n",
        "recordemos que los conjuntos tambien denominados **sets** no permiten duplicado, es decir cada elemento es único; Si se llega añadir un elemento repetitivo, no arrojará error, pero no se mostrará en el print."
      ]
    },
    {
      "cell_type": "code",
      "metadata": {
        "colab": {
          "base_uri": "https://localhost:8080/"
        },
        "id": "XD0d9qzhpqjR",
        "outputId": "0daeb761-4920-4a12-fc6b-b1ebd2e349dd"
      },
      "source": [
        "sa =\"ema ama a mama\"\n",
        "sa2 = {i for i  in sa if i==\"m\"}\n",
        "print(sa2)"
      ],
      "execution_count": 1,
      "outputs": [
        {
          "output_type": "stream",
          "text": [
            "{'m'}\n"
          ],
          "name": "stdout"
        }
      ]
    },
    {
      "cell_type": "markdown",
      "metadata": {
        "id": "0Xtmldp1qbGy"
      },
      "source": [
        "Ahora, veamos a continuación el caso de diccionarios de compresión. La única diferencia que tienen respecto a las listas o conjuntos de compresión es la especificación de llaves o claves (key).\n",
        "\n"
      ]
    },
    {
      "cell_type": "code",
      "metadata": {
        "colab": {
          "base_uri": "https://localhost:8080/"
        },
        "id": "DOKeAOUKq4Vq",
        "outputId": "0d0e7bbc-449d-4f08-a620-9d3c7c62a154"
      },
      "source": [
        "lista1 = ['nombre','apellido','ciudad']\n",
        "lista2 =['Ana','Rodriguez', 'Popayan']\n",
        "\n",
        "dic ={i:j for i,j in zip(lista1,lista2)}\n",
        "print(dic)"
      ],
      "execution_count": 3,
      "outputs": [
        {
          "output_type": "stream",
          "text": [
            "{'nombre': 'Ana', 'apellido': 'Rodriguez', 'ciudad': 'Popayan'}\n"
          ],
          "name": "stdout"
        }
      ]
    },
    {
      "cell_type": "markdown",
      "metadata": {
        "id": "H6GAqOG8r1pF"
      },
      "source": [
        "pudimos observar que añadiendo **(:)** asignamos un valor a la la llave declarada.\n",
        "\n",
        "***zip*** me permite agrupar dos listas en paralelo, es decir con zip podemos convertir dos listas en diccionario\n",
        "\n",
        "y el FOR se manejaria iterando valores dos en simultaneo."
      ]
    },
    {
      "cell_type": "markdown",
      "metadata": {
        "id": "LYfqtUSJst-p"
      },
      "source": [
        "-"
      ]
    },
    {
      "cell_type": "markdown",
      "metadata": {
        "id": "5Otdo7tYsb6m"
      },
      "source": [
        "**OTRAS ESTRUCTURAS DE CONTROL**\n",
        "\n",
        "---\n",
        "1. Switch\n",
        "2. Brak\n",
        "3. Continue\n",
        "4. Complemento de iteración (Enumerate)\n"
      ]
    },
    {
      "cell_type": "markdown",
      "metadata": {
        "id": "woAQd_HJsw5p"
      },
      "source": [
        "**Switch**\n",
        "\n",
        "Es una herarmienta que permite ejecutar diferentes secciones de código dependiendo de las condiciones impuestas. Su función es muy similar a usar el if anidados o varios por separados al mismo tiempo.\n",
        "\n",
        "sin embargo en Python no hay un switch directo."
      ]
    },
    {
      "cell_type": "markdown",
      "metadata": {
        "id": "FHU2hkx-tntz"
      },
      "source": [
        "**Break**\n",
        "\n",
        "Nos permite alterar el comportamiento de ciclos de while y for. Directamente su función es de finalizar los ciclos."
      ]
    },
    {
      "cell_type": "code",
      "metadata": {
        "colab": {
          "base_uri": "https://localhost:8080/"
        },
        "id": "h4vEIaElt1xu",
        "outputId": "45e48b7b-7956-47b9-c8c5-dcd5d200acd2"
      },
      "source": [
        "x = \"Andrea\"\n",
        "for i in x:\n",
        "   if i==\"e\": \n",
        "      print(\"se obtuvo la letra e\")\n",
        "      break\n",
        "print(i)   "
      ],
      "execution_count": 6,
      "outputs": [
        {
          "output_type": "stream",
          "text": [
            "se obtuvo la letra e\n",
            "e\n"
          ],
          "name": "stdout"
        }
      ]
    }
  ]
}